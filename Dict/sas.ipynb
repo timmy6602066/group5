{
  "cells": [
    {
      "cell_type": "markdown",
      "metadata": {
        "id": "view-in-github",
        "colab_type": "text"
      },
      "source": [
        "<a href=\"https://colab.research.google.com/github/timmy6602066/group5/blob/main/Dict/sas.ipynb\" target=\"_parent\"><img src=\"https://colab.research.google.com/assets/colab-badge.svg\" alt=\"Open In Colab\"/></a>"
      ]
    },
    {
      "cell_type": "code",
      "execution_count": null,
      "metadata": {
        "colab": {
          "base_uri": "https://localhost:8080/",
          "height": 1000
        },
        "id": "b8c-pIWHH-wQ",
        "outputId": "de82601b-fcda-4a9a-b7aa-b4d3a9dd8ae8"
      },
      "outputs": [
        {
          "metadata": {
            "tags": null
          },
          "name": "stdout",
          "output_type": "stream",
          "text": [
            "Requirement already satisfied: transformers in /usr/local/lib/python3.10/dist-packages (4.35.2)\n",
            "Requirement already satisfied: datasets in /usr/local/lib/python3.10/dist-packages (2.20.0)\n",
            "Requirement already satisfied: filelock in /usr/local/lib/python3.10/dist-packages (from transformers) (3.14.0)\n",
            "Requirement already satisfied: huggingface-hub<1.0,>=0.16.4 in /usr/local/lib/python3.10/dist-packages (from transformers) (0.23.4)\n",
            "Requirement already satisfied: numpy>=1.17 in /usr/local/lib/python3.10/dist-packages (from transformers) (1.25.2)\n",
            "Requirement already satisfied: packaging>=20.0 in /usr/local/lib/python3.10/dist-packages (from transformers) (24.1)\n",
            "Requirement already satisfied: pyyaml>=5.1 in /usr/local/lib/python3.10/dist-packages (from transformers) (6.0.1)\n",
            "Requirement already satisfied: regex!=2019.12.17 in /usr/local/lib/python3.10/dist-packages (from transformers) (2024.5.15)\n",
            "Requirement already satisfied: requests in /usr/local/lib/python3.10/dist-packages (from transformers) (2.32.3)\n",
            "Requirement already satisfied: tokenizers<0.19,>=0.14 in /usr/local/lib/python3.10/dist-packages (from transformers) (0.15.2)\n",
            "Requirement already satisfied: safetensors>=0.3.1 in /usr/local/lib/python3.10/dist-packages (from transformers) (0.4.3)\n",
            "Requirement already satisfied: tqdm>=4.27 in /usr/local/lib/python3.10/dist-packages (from transformers) (4.66.4)\n",
            "Requirement already satisfied: pyarrow>=15.0.0 in /usr/local/lib/python3.10/dist-packages (from datasets) (16.1.0)\n",
            "Requirement already satisfied: pyarrow-hotfix in /usr/local/lib/python3.10/dist-packages (from datasets) (0.6)\n",
            "Requirement already satisfied: dill<0.3.9,>=0.3.0 in /usr/local/lib/python3.10/dist-packages (from datasets) (0.3.8)\n",
            "Requirement already satisfied: pandas in /usr/local/lib/python3.10/dist-packages (from datasets) (2.0.3)\n",
            "Requirement already satisfied: xxhash in /usr/local/lib/python3.10/dist-packages (from datasets) (3.4.1)\n",
            "Requirement already satisfied: multiprocess in /usr/local/lib/python3.10/dist-packages (from datasets) (0.70.16)\n",
            "Requirement already satisfied: fsspec[http]<=2024.5.0,>=2023.1.0 in /usr/local/lib/python3.10/dist-packages (from datasets) (2023.6.0)\n",
            "Requirement already satisfied: aiohttp in /usr/local/lib/python3.10/dist-packages (from datasets) (3.9.5)\n",
            "Requirement already satisfied: aiosignal>=1.1.2 in /usr/local/lib/python3.10/dist-packages (from aiohttp->datasets) (1.3.1)\n",
            "Requirement already satisfied: attrs>=17.3.0 in /usr/local/lib/python3.10/dist-packages (from aiohttp->datasets) (23.2.0)\n",
            "Requirement already satisfied: frozenlist>=1.1.1 in /usr/local/lib/python3.10/dist-packages (from aiohttp->datasets) (1.4.1)\n",
            "Requirement already satisfied: multidict<7.0,>=4.5 in /usr/local/lib/python3.10/dist-packages (from aiohttp->datasets) (6.0.5)\n",
            "Requirement already satisfied: yarl<2.0,>=1.0 in /usr/local/lib/python3.10/dist-packages (from aiohttp->datasets) (1.9.4)\n",
            "Requirement already satisfied: async-timeout<5.0,>=4.0 in /usr/local/lib/python3.10/dist-packages (from aiohttp->datasets) (4.0.3)\n",
            "Requirement already satisfied: typing-extensions>=3.7.4.3 in /usr/local/lib/python3.10/dist-packages (from huggingface-hub<1.0,>=0.16.4->transformers) (4.12.2)\n",
            "Requirement already satisfied: charset-normalizer<4,>=2 in /usr/local/lib/python3.10/dist-packages (from requests->transformers) (3.3.2)\n",
            "Requirement already satisfied: idna<4,>=2.5 in /usr/local/lib/python3.10/dist-packages (from requests->transformers) (3.7)\n",
            "Requirement already satisfied: urllib3<3,>=1.21.1 in /usr/local/lib/python3.10/dist-packages (from requests->transformers) (2.0.7)\n",
            "Requirement already satisfied: certifi>=2017.4.17 in /usr/local/lib/python3.10/dist-packages (from requests->transformers) (2024.6.2)\n",
            "Requirement already satisfied: python-dateutil>=2.8.2 in /usr/local/lib/python3.10/dist-packages (from pandas->datasets) (2.8.2)\n",
            "Requirement already satisfied: pytz>=2020.1 in /usr/local/lib/python3.10/dist-packages (from pandas->datasets) (2023.4)\n",
            "Requirement already satisfied: tzdata>=2022.1 in /usr/local/lib/python3.10/dist-packages (from pandas->datasets) (2024.1)\n",
            "Requirement already satisfied: six>=1.5 in /usr/local/lib/python3.10/dist-packages (from python-dateutil>=2.8.2->pandas->datasets) (1.16.0)\n",
            "Requirement already satisfied: transformers[torch] in /usr/local/lib/python3.10/dist-packages (4.35.2)\n",
            "Collecting transformers[torch]\n",
            "  Downloading transformers-4.41.2-py3-none-any.whl (9.1 MB)\n",
            "\u001b[2K     \u001b[90m━━━━━━━━━━━━━━━━━━━━━━━━━━━━━━━━━━━━━━━━\u001b[0m \u001b[32m9.1/9.1 MB\u001b[0m \u001b[31m60.5 MB/s\u001b[0m eta \u001b[36m0:00:00\u001b[0m\n",
            "\u001b[?25hRequirement already satisfied: accelerate in /usr/local/lib/python3.10/dist-packages (0.31.0)\n",
            "Requirement already satisfied: filelock in /usr/local/lib/python3.10/dist-packages (from transformers[torch]) (3.14.0)\n",
            "Requirement already satisfied: huggingface-hub<1.0,>=0.23.0 in /usr/local/lib/python3.10/dist-packages (from transformers[torch]) (0.23.4)\n",
            "Requirement already satisfied: numpy>=1.17 in /usr/local/lib/python3.10/dist-packages (from transformers[torch]) (1.25.2)\n",
            "Requirement already satisfied: packaging>=20.0 in /usr/local/lib/python3.10/dist-packages (from transformers[torch]) (24.1)\n",
            "Requirement already satisfied: pyyaml>=5.1 in /usr/local/lib/python3.10/dist-packages (from transformers[torch]) (6.0.1)\n",
            "Requirement already satisfied: regex!=2019.12.17 in /usr/local/lib/python3.10/dist-packages (from transformers[torch]) (2024.5.15)\n",
            "Requirement already satisfied: requests in /usr/local/lib/python3.10/dist-packages (from transformers[torch]) (2.32.3)\n",
            "Collecting tokenizers<0.20,>=0.19 (from transformers[torch])\n",
            "  Downloading tokenizers-0.19.1-cp310-cp310-manylinux_2_17_x86_64.manylinux2014_x86_64.whl (3.6 MB)\n",
            "\u001b[2K     \u001b[90m━━━━━━━━━━━━━━━━━━━━━━━━━━━━━━━━━━━━━━━━\u001b[0m \u001b[32m3.6/3.6 MB\u001b[0m \u001b[31m96.7 MB/s\u001b[0m eta \u001b[36m0:00:00\u001b[0m\n",
            "\u001b[?25hRequirement already satisfied: safetensors>=0.4.1 in /usr/local/lib/python3.10/dist-packages (from transformers[torch]) (0.4.3)\n",
            "Requirement already satisfied: tqdm>=4.27 in /usr/local/lib/python3.10/dist-packages (from transformers[torch]) (4.66.4)\n",
            "Requirement already satisfied: torch in /usr/local/lib/python3.10/dist-packages (from transformers[torch]) (2.3.0+cu121)\n",
            "Requirement already satisfied: psutil in /usr/local/lib/python3.10/dist-packages (from accelerate) (5.9.5)\n",
            "Requirement already satisfied: fsspec>=2023.5.0 in /usr/local/lib/python3.10/dist-packages (from huggingface-hub<1.0,>=0.23.0->transformers[torch]) (2023.6.0)\n",
            "Requirement already satisfied: typing-extensions>=3.7.4.3 in /usr/local/lib/python3.10/dist-packages (from huggingface-hub<1.0,>=0.23.0->transformers[torch]) (4.12.2)\n",
            "Requirement already satisfied: sympy in /usr/local/lib/python3.10/dist-packages (from torch->transformers[torch]) (1.12.1)\n",
            "Requirement already satisfied: networkx in /usr/local/lib/python3.10/dist-packages (from torch->transformers[torch]) (3.3)\n",
            "Requirement already satisfied: jinja2 in /usr/local/lib/python3.10/dist-packages (from torch->transformers[torch]) (3.1.4)\n",
            "Requirement already satisfied: nvidia-cuda-nvrtc-cu12==12.1.105 in /usr/local/lib/python3.10/dist-packages (from torch->transformers[torch]) (12.1.105)\n",
            "Requirement already satisfied: nvidia-cuda-runtime-cu12==12.1.105 in /usr/local/lib/python3.10/dist-packages (from torch->transformers[torch]) (12.1.105)\n",
            "Requirement already satisfied: nvidia-cuda-cupti-cu12==12.1.105 in /usr/local/lib/python3.10/dist-packages (from torch->transformers[torch]) (12.1.105)\n",
            "Requirement already satisfied: nvidia-cudnn-cu12==8.9.2.26 in /usr/local/lib/python3.10/dist-packages (from torch->transformers[torch]) (8.9.2.26)\n",
            "Requirement already satisfied: nvidia-cublas-cu12==12.1.3.1 in /usr/local/lib/python3.10/dist-packages (from torch->transformers[torch]) (12.1.3.1)\n",
            "Requirement already satisfied: nvidia-cufft-cu12==11.0.2.54 in /usr/local/lib/python3.10/dist-packages (from torch->transformers[torch]) (11.0.2.54)\n",
            "Requirement already satisfied: nvidia-curand-cu12==10.3.2.106 in /usr/local/lib/python3.10/dist-packages (from torch->transformers[torch]) (10.3.2.106)\n",
            "Requirement already satisfied: nvidia-cusolver-cu12==11.4.5.107 in /usr/local/lib/python3.10/dist-packages (from torch->transformers[torch]) (11.4.5.107)\n",
            "Requirement already satisfied: nvidia-cusparse-cu12==12.1.0.106 in /usr/local/lib/python3.10/dist-packages (from torch->transformers[torch]) (12.1.0.106)\n",
            "Requirement already satisfied: nvidia-nccl-cu12==2.20.5 in /usr/local/lib/python3.10/dist-packages (from torch->transformers[torch]) (2.20.5)\n",
            "Requirement already satisfied: nvidia-nvtx-cu12==12.1.105 in /usr/local/lib/python3.10/dist-packages (from torch->transformers[torch]) (12.1.105)\n",
            "Requirement already satisfied: triton==2.3.0 in /usr/local/lib/python3.10/dist-packages (from torch->transformers[torch]) (2.3.0)\n",
            "Requirement already satisfied: nvidia-nvjitlink-cu12 in /usr/local/lib/python3.10/dist-packages (from nvidia-cusolver-cu12==11.4.5.107->torch->transformers[torch]) (12.5.40)\n",
            "Requirement already satisfied: charset-normalizer<4,>=2 in /usr/local/lib/python3.10/dist-packages (from requests->transformers[torch]) (3.3.2)\n",
            "Requirement already satisfied: idna<4,>=2.5 in /usr/local/lib/python3.10/dist-packages (from requests->transformers[torch]) (3.7)\n",
            "Requirement already satisfied: urllib3<3,>=1.21.1 in /usr/local/lib/python3.10/dist-packages (from requests->transformers[torch]) (2.0.7)\n",
            "Requirement already satisfied: certifi>=2017.4.17 in /usr/local/lib/python3.10/dist-packages (from requests->transformers[torch]) (2024.6.2)\n",
            "Requirement already satisfied: MarkupSafe>=2.0 in /usr/local/lib/python3.10/dist-packages (from jinja2->torch->transformers[torch]) (2.1.5)\n",
            "Requirement already satisfied: mpmath<1.4.0,>=1.1.0 in /usr/local/lib/python3.10/dist-packages (from sympy->torch->transformers[torch]) (1.3.0)\n",
            "Installing collected packages: tokenizers, transformers\n",
            "  Attempting uninstall: tokenizers\n",
            "    Found existing installation: tokenizers 0.15.2\n",
            "    Uninstalling tokenizers-0.15.2:\n",
            "      Successfully uninstalled tokenizers-0.15.2\n",
            "  Attempting uninstall: transformers\n",
            "    Found existing installation: transformers 4.35.2\n",
            "    Uninstalling transformers-4.35.2:\n",
            "      Successfully uninstalled transformers-4.35.2\n",
            "\u001b[31mERROR: pip's dependency resolver does not currently take into account all the packages that are installed. This behaviour is the source of the following dependency conflicts.\n",
            "summac 0.0.4 requires huggingface-hub<=0.17.0, but you have huggingface-hub 0.23.4 which is incompatible.\u001b[0m\u001b[31m\n",
            "\u001b[0mSuccessfully installed tokenizers-0.19.1 transformers-4.41.2\n"
          ]
        },
        {
          "data": {
            "application/vnd.colab-display-data+json": {
              "id": "c07e27ee602b4481956178675116a7df",
              "pip_warning": {
                "packages": [
                  "transformers"
                ]
              }
            }
          },
          "metadata": {},
          "output_type": "display_data"
        },
        {
          "output_type": "stream",
          "name": "stdout",
          "text": [
            "Requirement already satisfied: rouge_score in /usr/local/lib/python3.10/dist-packages (0.1.2)\n",
            "Requirement already satisfied: absl-py in /usr/local/lib/python3.10/dist-packages (from rouge_score) (1.4.0)\n",
            "Requirement already satisfied: nltk in /usr/local/lib/python3.10/dist-packages (from rouge_score) (3.8.1)\n",
            "Requirement already satisfied: numpy in /usr/local/lib/python3.10/dist-packages (from rouge_score) (1.25.2)\n",
            "Requirement already satisfied: six>=1.14.0 in /usr/local/lib/python3.10/dist-packages (from rouge_score) (1.16.0)\n",
            "Requirement already satisfied: click in /usr/local/lib/python3.10/dist-packages (from nltk->rouge_score) (8.1.7)\n",
            "Requirement already satisfied: joblib in /usr/local/lib/python3.10/dist-packages (from nltk->rouge_score) (1.4.2)\n",
            "Requirement already satisfied: regex>=2021.8.3 in /usr/local/lib/python3.10/dist-packages (from nltk->rouge_score) (2024.5.15)\n",
            "Requirement already satisfied: tqdm in /usr/local/lib/python3.10/dist-packages (from nltk->rouge_score) (4.66.4)\n",
            "Requirement already satisfied: bert_score in /usr/local/lib/python3.10/dist-packages (0.3.13)\n",
            "Requirement already satisfied: torch>=1.0.0 in /usr/local/lib/python3.10/dist-packages (from bert_score) (2.3.0+cu121)\n",
            "Requirement already satisfied: pandas>=1.0.1 in /usr/local/lib/python3.10/dist-packages (from bert_score) (2.0.3)\n",
            "Requirement already satisfied: transformers>=3.0.0 in /usr/local/lib/python3.10/dist-packages (from bert_score) (4.41.2)\n",
            "Requirement already satisfied: numpy in /usr/local/lib/python3.10/dist-packages (from bert_score) (1.25.2)\n",
            "Requirement already satisfied: requests in /usr/local/lib/python3.10/dist-packages (from bert_score) (2.32.3)\n",
            "Requirement already satisfied: tqdm>=4.31.1 in /usr/local/lib/python3.10/dist-packages (from bert_score) (4.66.4)\n",
            "Requirement already satisfied: matplotlib in /usr/local/lib/python3.10/dist-packages (from bert_score) (3.7.1)\n",
            "Requirement already satisfied: packaging>=20.9 in /usr/local/lib/python3.10/dist-packages (from bert_score) (24.1)\n",
            "Requirement already satisfied: python-dateutil>=2.8.2 in /usr/local/lib/python3.10/dist-packages (from pandas>=1.0.1->bert_score) (2.8.2)\n",
            "Requirement already satisfied: pytz>=2020.1 in /usr/local/lib/python3.10/dist-packages (from pandas>=1.0.1->bert_score) (2023.4)\n",
            "Requirement already satisfied: tzdata>=2022.1 in /usr/local/lib/python3.10/dist-packages (from pandas>=1.0.1->bert_score) (2024.1)\n",
            "Requirement already satisfied: filelock in /usr/local/lib/python3.10/dist-packages (from torch>=1.0.0->bert_score) (3.14.0)\n",
            "Requirement already satisfied: typing-extensions>=4.8.0 in /usr/local/lib/python3.10/dist-packages (from torch>=1.0.0->bert_score) (4.12.2)\n",
            "Requirement already satisfied: sympy in /usr/local/lib/python3.10/dist-packages (from torch>=1.0.0->bert_score) (1.12.1)\n",
            "Requirement already satisfied: networkx in /usr/local/lib/python3.10/dist-packages (from torch>=1.0.0->bert_score) (3.3)\n",
            "Requirement already satisfied: jinja2 in /usr/local/lib/python3.10/dist-packages (from torch>=1.0.0->bert_score) (3.1.4)\n",
            "Requirement already satisfied: fsspec in /usr/local/lib/python3.10/dist-packages (from torch>=1.0.0->bert_score) (2023.6.0)\n",
            "Requirement already satisfied: nvidia-cuda-nvrtc-cu12==12.1.105 in /usr/local/lib/python3.10/dist-packages (from torch>=1.0.0->bert_score) (12.1.105)\n",
            "Requirement already satisfied: nvidia-cuda-runtime-cu12==12.1.105 in /usr/local/lib/python3.10/dist-packages (from torch>=1.0.0->bert_score) (12.1.105)\n",
            "Requirement already satisfied: nvidia-cuda-cupti-cu12==12.1.105 in /usr/local/lib/python3.10/dist-packages (from torch>=1.0.0->bert_score) (12.1.105)\n",
            "Requirement already satisfied: nvidia-cudnn-cu12==8.9.2.26 in /usr/local/lib/python3.10/dist-packages (from torch>=1.0.0->bert_score) (8.9.2.26)\n",
            "Requirement already satisfied: nvidia-cublas-cu12==12.1.3.1 in /usr/local/lib/python3.10/dist-packages (from torch>=1.0.0->bert_score) (12.1.3.1)\n",
            "Requirement already satisfied: nvidia-cufft-cu12==11.0.2.54 in /usr/local/lib/python3.10/dist-packages (from torch>=1.0.0->bert_score) (11.0.2.54)\n",
            "Requirement already satisfied: nvidia-curand-cu12==10.3.2.106 in /usr/local/lib/python3.10/dist-packages (from torch>=1.0.0->bert_score) (10.3.2.106)\n",
            "Requirement already satisfied: nvidia-cusolver-cu12==11.4.5.107 in /usr/local/lib/python3.10/dist-packages (from torch>=1.0.0->bert_score) (11.4.5.107)\n",
            "Requirement already satisfied: nvidia-cusparse-cu12==12.1.0.106 in /usr/local/lib/python3.10/dist-packages (from torch>=1.0.0->bert_score) (12.1.0.106)\n",
            "Requirement already satisfied: nvidia-nccl-cu12==2.20.5 in /usr/local/lib/python3.10/dist-packages (from torch>=1.0.0->bert_score) (2.20.5)\n",
            "Requirement already satisfied: nvidia-nvtx-cu12==12.1.105 in /usr/local/lib/python3.10/dist-packages (from torch>=1.0.0->bert_score) (12.1.105)\n",
            "Requirement already satisfied: triton==2.3.0 in /usr/local/lib/python3.10/dist-packages (from torch>=1.0.0->bert_score) (2.3.0)\n",
            "Requirement already satisfied: nvidia-nvjitlink-cu12 in /usr/local/lib/python3.10/dist-packages (from nvidia-cusolver-cu12==11.4.5.107->torch>=1.0.0->bert_score) (12.5.40)\n",
            "Requirement already satisfied: huggingface-hub<1.0,>=0.23.0 in /usr/local/lib/python3.10/dist-packages (from transformers>=3.0.0->bert_score) (0.23.4)\n",
            "Requirement already satisfied: pyyaml>=5.1 in /usr/local/lib/python3.10/dist-packages (from transformers>=3.0.0->bert_score) (6.0.1)\n",
            "Requirement already satisfied: regex!=2019.12.17 in /usr/local/lib/python3.10/dist-packages (from transformers>=3.0.0->bert_score) (2024.5.15)\n",
            "Requirement already satisfied: tokenizers<0.20,>=0.19 in /usr/local/lib/python3.10/dist-packages (from transformers>=3.0.0->bert_score) (0.19.1)\n",
            "Requirement already satisfied: safetensors>=0.4.1 in /usr/local/lib/python3.10/dist-packages (from transformers>=3.0.0->bert_score) (0.4.3)\n",
            "Requirement already satisfied: contourpy>=1.0.1 in /usr/local/lib/python3.10/dist-packages (from matplotlib->bert_score) (1.2.1)\n",
            "Requirement already satisfied: cycler>=0.10 in /usr/local/lib/python3.10/dist-packages (from matplotlib->bert_score) (0.12.1)\n",
            "Requirement already satisfied: fonttools>=4.22.0 in /usr/local/lib/python3.10/dist-packages (from matplotlib->bert_score) (4.53.0)\n",
            "Requirement already satisfied: kiwisolver>=1.0.1 in /usr/local/lib/python3.10/dist-packages (from matplotlib->bert_score) (1.4.5)\n",
            "Requirement already satisfied: pillow>=6.2.0 in /usr/local/lib/python3.10/dist-packages (from matplotlib->bert_score) (9.4.0)\n",
            "Requirement already satisfied: pyparsing>=2.3.1 in /usr/local/lib/python3.10/dist-packages (from matplotlib->bert_score) (3.1.2)\n",
            "Requirement already satisfied: charset-normalizer<4,>=2 in /usr/local/lib/python3.10/dist-packages (from requests->bert_score) (3.3.2)\n",
            "Requirement already satisfied: idna<4,>=2.5 in /usr/local/lib/python3.10/dist-packages (from requests->bert_score) (3.7)\n",
            "Requirement already satisfied: urllib3<3,>=1.21.1 in /usr/local/lib/python3.10/dist-packages (from requests->bert_score) (2.0.7)\n",
            "Requirement already satisfied: certifi>=2017.4.17 in /usr/local/lib/python3.10/dist-packages (from requests->bert_score) (2024.6.2)\n",
            "Requirement already satisfied: six>=1.5 in /usr/local/lib/python3.10/dist-packages (from python-dateutil>=2.8.2->pandas>=1.0.1->bert_score) (1.16.0)\n",
            "Requirement already satisfied: MarkupSafe>=2.0 in /usr/local/lib/python3.10/dist-packages (from jinja2->torch>=1.0.0->bert_score) (2.1.5)\n",
            "Requirement already satisfied: mpmath<1.4.0,>=1.1.0 in /usr/local/lib/python3.10/dist-packages (from sympy->torch>=1.0.0->bert_score) (1.3.0)\n"
          ]
        }
      ],
      "source": [
        "!pip install transformers datasets\n",
        "!pip install transformers[torch] accelerate -U\n",
        "!pip install rouge_score\n",
        "!pip install bert_score\n",
        "!pip install summac\n",
        "!pip install textstat\n",
        "!pip install datasets"
      ]
    },
    {
      "cell_type": "code",
      "execution_count": null,
      "metadata": {
        "id": "F5Q1jQUd1nZt"
      },
      "outputs": [],
      "source": [
        "import os, json, sys\n",
        "import json\n",
        "import pandas as pd\n",
        "import numpy as np\n",
        "import tensorflow as tf\n",
        "from datasets import Dataset\n",
        "from transformers import Seq2SeqTrainingArguments, Seq2SeqTrainer\n",
        "from transformers import pipeline\n",
        "import torch\n",
        "from transformers import AutoTokenizer, AutoModelForSeq2SeqLM\n",
        "import numpy as np\n",
        "import matplotlib.pyplot as plt\n",
        "import pandas as pd"
      ]
    },
    {
      "cell_type": "code",
      "source": [
        "import pandas as pd"
      ],
      "metadata": {
        "id": "f5uPfKgqNYVP"
      },
      "execution_count": null,
      "outputs": []
    },
    {
      "cell_type": "code",
      "execution_count": null,
      "metadata": {
        "colab": {
          "base_uri": "https://localhost:8080/"
        },
        "id": "R7dnP6--2X9o",
        "outputId": "12104f76-0ccc-4cd7-9c09-c9536f59fa57"
      },
      "outputs": [
        {
          "output_type": "stream",
          "name": "stdout",
          "text": [
            "Mounted at /content/drive\n"
          ]
        }
      ],
      "source": [
        "from google.colab import drive\n",
        "drive.mount('/content/drive')"
      ]
    },
    {
      "cell_type": "markdown",
      "source": [
        "###DATA PREPROCESSING"
      ],
      "metadata": {
        "id": "ofPdoPoIXvYD"
      }
    },
    {
      "cell_type": "code",
      "source": [
        "TRAIN_SIZE = 10000\n",
        "VAL_SIZE = 1000\n",
        "TEST_SIZE = 1000"
      ],
      "metadata": {
        "id": "rxhgrzWCbiLT"
      },
      "execution_count": null,
      "outputs": []
    },
    {
      "cell_type": "code",
      "execution_count": null,
      "metadata": {
        "id": "Xzq7lrjZS0XG"
      },
      "outputs": [],
      "source": [
        "# Load the dataset\n",
        "train_json_path = '/content/drive/MyDrive/Biolay/Data sets/Elife/train.json'\n",
        "with open(train_json_path, 'r') as file:\n",
        "    train_data = json.load(file)"
      ]
    },
    {
      "cell_type": "code",
      "execution_count": null,
      "metadata": {
        "id": "M9MWf8kk3OzV"
      },
      "outputs": [],
      "source": [
        "# Load the dataset\n",
        "val_json_path = '/content/drive/MyDrive/Biolay/Data sets/Elife/val.json'\n",
        "with open(val_json_path, 'r') as file:\n",
        "    val_data = json.load(file)"
      ]
    },
    {
      "cell_type": "code",
      "execution_count": null,
      "metadata": {
        "id": "zrLmp-NA3OzW"
      },
      "outputs": [],
      "source": [
        "# Load the dataset\n",
        "test_json_path = '/content/drive/MyDrive/Biolay/Data sets/Elife/test.json'\n",
        "with open(test_json_path, 'r') as file:\n",
        "    test_data = json.load(file)"
      ]
    },
    {
      "cell_type": "code",
      "execution_count": null,
      "metadata": {
        "id": "5eXA1ij-3OzX"
      },
      "outputs": [],
      "source": [
        "# Extract abstracts\n",
        "train_abstract_list = []\n",
        "train_summary_list = []\n",
        "for article in train_data[:TRAIN_SIZE]:\n",
        "    abstract_list = article['abstract']\n",
        "    abstract = ' '.join(abstract_list)\n",
        "    train_abstract_list.append(abstract)\n",
        "    summary_list = article['summary']\n",
        "    summary = ' '.join(summary_list)\n",
        "    train_summary_list.append(summary)"
      ]
    },
    {
      "cell_type": "code",
      "execution_count": null,
      "metadata": {
        "id": "gzlePn7Z3OzX"
      },
      "outputs": [],
      "source": [
        "# Extract abstracts\n",
        "val_abstract_list = []\n",
        "val_summary_list = []\n",
        "for article in val_data[:VAL_SIZE]:\n",
        "    abstract_list = article['abstract']\n",
        "    abstract = ' '.join(abstract_list)\n",
        "    val_abstract_list.append(abstract)\n",
        "    summary_list = article['summary']\n",
        "    summary = ' '.join(summary_list)\n",
        "    val_summary_list.append(summary)"
      ]
    },
    {
      "cell_type": "code",
      "execution_count": null,
      "metadata": {
        "id": "6oXMmM0Q3OzY"
      },
      "outputs": [],
      "source": [
        "# Extract abstracts\n",
        "test_abstract_list = []\n",
        "test_summary_list = []\n",
        "for article in test_data[:TEST_SIZE]:\n",
        "    abstract_list = article['abstract']\n",
        "    abstract = ' '.join(abstract_list)\n",
        "    test_abstract_list.append(abstract)\n",
        "    summary_list = article['summary']\n",
        "    summary = ' '.join(summary_list)\n",
        "    test_summary_list.append(summary)"
      ]
    },
    {
      "cell_type": "code",
      "execution_count": null,
      "metadata": {
        "id": "7U1MvSz23OzZ"
      },
      "outputs": [],
      "source": [
        "# Create a DataFrame\n",
        "train_df = pd.DataFrame(\n",
        "    {'abstract': train_abstract_list, 'summary': train_summary_list})\n",
        "val_df = pd.DataFrame(\n",
        "    {'abstract': val_abstract_list, 'summary': val_summary_list})\n",
        "test_df = pd.DataFrame(\n",
        "    {'abstract': test_abstract_list, 'summary': test_summary_list})"
      ]
    },
    {
      "cell_type": "code",
      "execution_count": null,
      "metadata": {
        "id": "cVdLPwH83OzZ"
      },
      "outputs": [],
      "source": [
        "# Convert DataFrame to Dataset\n",
        "train_dataset = Dataset.from_pandas(train_df)\n",
        "val_dataset = Dataset.from_pandas(val_df)\n",
        "test_dataset = Dataset.from_pandas(test_df)"
      ]
    },
    {
      "cell_type": "code",
      "execution_count": null,
      "metadata": {
        "colab": {
          "base_uri": "https://localhost:8080/"
        },
        "id": "UI7lcS26LI09",
        "outputId": "b7f3947a-13f3-4edc-bba1-dd3ea17a650d"
      },
      "outputs": [
        {
          "output_type": "stream",
          "name": "stdout",
          "text": [
            "Training set size: 4346\n",
            "Validation set size: 241\n",
            "Test set size: 241\n"
          ]
        }
      ],
      "source": [
        "print(f'Training set size: {len(train_abstract_list)}')\n",
        "print(f'Validation set size: {len(val_abstract_list)}')\n",
        "print(f'Test set size: {len(test_abstract_list)}')"
      ]
    },
    {
      "cell_type": "code",
      "execution_count": null,
      "metadata": {
        "colab": {
          "base_uri": "https://localhost:8080/"
        },
        "id": "YnhFaOb4L29K",
        "outputId": "87eb7df2-60d7-47cf-c0ec-616b4e685f66"
      },
      "outputs": [
        {
          "output_type": "stream",
          "name": "stdout",
          "text": [
            "{'abstract': 'In temperate climates , winter deaths exceed summer ones . However , there is limited information on the timing and the relative magnitudes of maximum and minimum mortality , by local climate , age group , sex and medical cause of death . We used geo-coded mortality data and wavelets to analyse the seasonality of mortality by age group and sex from 1980 to 2016 in the USA and its subnational climatic regions . Death rates in men and women ≥ 45 years peaked in December to February and were lowest in June to August , driven by cardiorespiratory diseases and injuries . In these ages , percent difference in death rates between peak and minimum months did not vary across climate regions , nor changed from 1980 to 2016 . Under five years , seasonality of all-cause mortality largely disappeared after the 1990s . In adolescents and young adults , especially in males , death rates peaked in June/July and were lowest in December/January , driven by injury deaths .', 'summary': 'In the USA , more deaths happen in the winter than the summer . But when deaths occur varies greatly by sex , age , cause of death , and possibly region . Seasonal differences in death rates can change over time due to changes in factors that cause disease or affect treatment . Analyzing the seasonality of deaths can help scientists determine whether interventions to minimize deaths during a certain time of year are needed , or whether existing ones are effective . Scrutinizing seasonal patterns in death over time can also help scientists determine whether large-scale weather or climate changes are affecting the seasonality of death . Now , Parks et al . show that there are age and sex differences in which times of year most deaths occur . Parks et al . analyzed data on US deaths between 1980 and 2016 . While overall deaths in a year were highest in winter and lowest in summer , a greater number of young men died during summer – mainly due to injuries – than during winter . Seasonal differences in deaths among young children have largely disappeared and seasonal differences in the deaths of older children and young adults have become smaller . Deaths among women and men aged 45 or older peaked between December and February – largely caused by respiratory and heart diseases , or injuries . Deaths in this older age group were lowest during the summer months . Death patterns in older people changed little over time . No regional differences were found in seasonal death patterns , despite large climate variation across the USA . The analysis by Parks et al . suggests public health and medical interventions have been successful in reducing seasonal deaths among many groups . But more needs to be done to address seasonal differences in deaths among older adults . For example , by boosting flu vaccination rates , providing warnings about severe weather and better insulation for homes . Using technology like hands-free communication devices or home visits to help keep vulnerable elderly people connected during the winter months may also help .'}\n",
            "{'abstract': 'Cell-fate reprograming is at the heart of development , yet very little is known about the molecular mechanisms promoting or inhibiting reprograming in intact organisms . In the C . elegans germline , reprograming germ cells into somatic cells requires chromatin perturbation . Here , we describe that such reprograming is facilitated by GLP-1/Notch signaling pathway . This is surprising , since this pathway is best known for maintaining undifferentiated germline stem cells/progenitors . Through a combination of genetics , tissue-specific transcriptome analysis , and functional studies of candidate genes , we uncovered a possible explanation for this unexpected role of GLP-1/Notch . We propose that GLP-1/Notch promotes reprograming by activating specific genes , silenced by the Polycomb repressive complex 2 ( PRC2 ) , and identify the conserved histone demethylase UTX-1 as a crucial GLP-1/Notch target facilitating reprograming . These findings have wide implications , ranging from development to diseases associated with abnormal Notch signaling .', 'summary': 'The DNA in genes encodes the basic information needed to build an organism or control its day-to-day operations . Most cells in an organism contain the same genetic information , but different types of cell use the information differently . For example , many of the genes that are active in a muscle cell are different from those that are active in a skin cell . These different patterns of gene activation largely determine a cell’s identity and are brought about by DNA-binding proteins or chemical modifications to the DNA ( which are both forms of so-called epigenetic regulation ) . Nevertheless , cells occasionally change their identities – a phenomenon that is referred to as reprograming . This process allows tissues to be regenerated after wounding , but , due to technical difficulties , reprograming has been often studied in isolated cells grown in a dish . Seelk , Adrian-Kalchhauser et al . set out to understand how being surrounded by intact tissue influences reprograming . The experiments made use of C . elegans worms , because disturbing how this worm’s DNA is packaged can trigger its cells to undergo reprograming . Seelk , Adrian-Kalchhauser et al . show that a signaling pathway that is found in many different animals enhances this kind of reprograming in C . elegans . On the one hand , these findings help in understanding how epigenetic regulation can be altered by a specific tissue environment . On the other hand , the findings also suggest that abnormal signaling can result in altered epigenetic control of gene expression and lead to cells changing their identity . Indeed , increased signaling is linked to a major epigenetic mechanism seen in specific blood tumors , suggesting that the regulatory principles uncovered using this simple worm model could eventually provide insights into a human disease . A future challenge will be to determine precisely how the studied signaling pathway interacts with the epigenetic regulator that controls reprograming . Understanding this interaction in molecular detail could help to devise strategies for controlling reprograming . These strategies could in turn lead to treatments for people with conditions that cause specific cells types to be lost , such as Alzheimer’s disease or injuries .'}\n",
            "{'abstract': 'Most movements are not unitary , but are comprised of sequences . Although patients with cerebellar pathology display severe deficits in the execution and learning of sequences ( Doyon et al . , 1997; Shin and Ivry , 2003 ) , most of our understanding of cerebellar mechanisms has come from analyses of single component movements . Eyelid conditioning is a cerebellar-mediated behavior that provides the ability to control and restrict inputs to the cerebellum through stimulation of mossy fibers . We utilized this advantage to test directly how the cerebellum can learn a sequence of inter-connected movement components in rabbits . We show that the feedback signals from one component are sufficient to serve as a cue for the next component in the sequence . In vivo recordings from Purkinje cells demonstrated that all components of the sequence were encoded similarly by cerebellar cortex . These results provide a simple yet general framework for how the cerebellum can use simple associate learning processes to chain together a sequence of appropriately timed responses .', 'summary': 'Imagine a gymnastics competition in which participants take turns to cartwheel and somersault across the floor . The routines on display comprise sequences of precisely timed movements learned through practice . This is also true for many of the actions we perform every day , such as reaching for a cup of coffee . A region of the brain called the cerebellum helps us learn sequences of movements . But how does it do this ? To find out , Khilkevich et al . came up with a new version of an old experiment . Rabbits were first trained to blink their eye in response to a specific external cue . This type of learning , called associative learning , has been shown before in the cerebellum . But Khilkevich et al . wondered whether the cerebellum could also use internal feedback signals from the eyeblink as a cue to learn the next movement ? If so , this might explain how the cerebellum can chain movements together in a sequence . As predicted , Khilkevich et al . found that rabbits could learn to blink their eye in response to an initial signal , and then blink again in response to the first blink . Control experiments confirmed that the second eyeblink was coupled to the first , and not to the original cue . Moreover , on many trials the rabbits showed a third and even fourth eyeblink . This is because feedback signals from the first , second or third blink were the same . Thus , the feedback signals from the first blink triggered the second blink , feedback from the second triggered the third , and so forth . Rabbits could also learn to use a blink of the left eye as a cue for a blink of the right eye . Similar patterns of neuronal activity accompanied each blink , suggesting that the same mechanism generated them all . The cerebellum can thus use feedback from one movement as a cue to learn the proper timing of the next movement in a sequence . A key question is whether this mechanism of sequence learning extends beyond movement . The cerebellum has extensive connections to the brain’s outer layer , the cortex , including many areas involved in cognition . Future experiments should test whether the cerebellum might help guide sequences of cortical activity during cognitive tasks .'}\n"
          ]
        }
      ],
      "source": [
        "print(train_dataset[0])\n",
        "print(val_dataset[0])\n",
        "print(test_dataset[0])\n"
      ]
    },
    {
      "cell_type": "markdown",
      "source": [
        "##Loading the pretrained model"
      ],
      "metadata": {
        "id": "wQIaQCmmFlEP"
      }
    },
    {
      "cell_type": "code",
      "execution_count": null,
      "metadata": {
        "id": "TyZrFrIL3wnb",
        "colab": {
          "base_uri": "https://localhost:8080/",
          "height": 328,
          "referenced_widgets": [
            "4f14300b8bf840a9b8a2057a06fba1b5",
            "b38d03166c99496482245855f0a1dca0",
            "c7bbe086498246a79698757b5f353d66",
            "c55f62f2de0843a6957785ca9c16be81",
            "a26c7d582ed34b28b8c411aae2b7bf38",
            "f6f26595b25649fe9c46f1a3b7edccff",
            "c59058a51fb746d4a4670976c110b2d8",
            "ca2310ff55344607b154a49182ba8ca9",
            "0ff9b3e84b104089b7268711a613e444",
            "a83f7666ae5841f8a7706c0364e6b86d",
            "8e2514f589de48ae9a29274cbab6ce9d",
            "429335c4c2964b54931b7f9b9509f483",
            "977b7a56f27142bbb7d6813deac5b859",
            "465d9b623f50409ea278e9f249625d98",
            "ffec1ce1dee14e68a6818844648f2b0b",
            "4bf9f9c0a6ce4d66b852b6901e5f513c",
            "1211c75ba1984056979ac45ee69353bd",
            "88ee7fab06b0445ea0fb0f5ec4daf2d8",
            "13dfb1377f234542b5655f04ddb47c12",
            "17ec3b1b740244f89053d0f67b4d0079",
            "b41016a7a62748f2b1a78bdc3949ed78",
            "00219c9dde024373adbce4872d55d58b",
            "7a1c4f708fff4408a04bb0b378611e48",
            "01f4ebfff5ea4fb597473cd728262c71",
            "7490141949b94eaf9b010977e58fdaa7",
            "0c74ae18c5224205b58a12126041145a",
            "7dd875c6b00a4fa89f5e8a391a17849f",
            "525e4ebdd5be4dd68b3897487c2372ae",
            "7618ca2ee54a4a208d9c11a628d4544c",
            "213755cd7d264147a3447ebaf5089230",
            "6ff30ca1597545e4b7860ef17e421b26",
            "7dab43b00c674e2f9fd3b85c846a66c0",
            "6ce531fcbcfa439d86a30a2c84e30f92",
            "052d24adcbb446b4aff67243844ad017",
            "c8737bb2ddc34c9682d306b18b5ed617",
            "b0e0628a5c0a432f9cfa3e320e91d982",
            "94abf9a05f014500aebfec7261fda110",
            "1e9f18a30d0543d5b67ed24716b59f9d",
            "610f80055f654efcbc4e91e8e5b33702",
            "cf7c6a5dd1474fdcb71190460d2f9e9f",
            "af4a56334faf45eeb33a4e0834498ed5",
            "2ab1b003e3c747f7921f3a11d5dedc1e",
            "b7fae28038c941dbaa913765aed10390",
            "9bb5de5678cf485da955ec0d5ca25466",
            "4b3ada8417d6423bb656b15c7af901c2",
            "bf95c1bfe7054b0588c8a12d6f20db43",
            "68182e5464664cdeb0549187876fcf22",
            "2052e25e691a494ca558324fa69da127",
            "6795cf83bfdf47e1a92a4e2cbd5db177",
            "82d1aa2fa57b420dbd197c6283f32845",
            "1b3a93141428432ca31deee3b8a82f3c",
            "6798665c61644ffb92014b5affadf16a",
            "92fe426478c149deb8dd725c11631a03",
            "7a3ee58e6ab74eb3b40e560d4642c402",
            "c111dbb74bb6436e8c2307a18656ef87"
          ]
        },
        "outputId": "3b0b23c7-d38e-4e7b-8044-d2aa2f9ada92"
      },
      "outputs": [
        {
          "output_type": "stream",
          "name": "stderr",
          "text": [
            "/usr/local/lib/python3.10/dist-packages/huggingface_hub/file_download.py:1132: FutureWarning: `resume_download` is deprecated and will be removed in version 1.0.0. Downloads always resume when possible. If you want to force a new download, use `force_download=True`.\n",
            "  warnings.warn(\n",
            "/usr/local/lib/python3.10/dist-packages/huggingface_hub/utils/_token.py:89: UserWarning: \n",
            "The secret `HF_TOKEN` does not exist in your Colab secrets.\n",
            "To authenticate with the Hugging Face Hub, create a token in your settings tab (https://huggingface.co/settings/tokens), set it as secret in your Google Colab and restart your session.\n",
            "You will be able to reuse this secret in all of your notebooks.\n",
            "Please note that authentication is recommended but still optional to access public models or datasets.\n",
            "  warnings.warn(\n"
          ]
        },
        {
          "output_type": "display_data",
          "data": {
            "text/plain": [
              "tokenizer_config.json:   0%|          | 0.00/2.54k [00:00<?, ?B/s]"
            ],
            "application/vnd.jupyter.widget-view+json": {
              "version_major": 2,
              "version_minor": 0,
              "model_id": "4f14300b8bf840a9b8a2057a06fba1b5"
            }
          },
          "metadata": {}
        },
        {
          "output_type": "display_data",
          "data": {
            "text/plain": [
              "tokenizer.json:   0%|          | 0.00/2.42M [00:00<?, ?B/s]"
            ],
            "application/vnd.jupyter.widget-view+json": {
              "version_major": 2,
              "version_minor": 0,
              "model_id": "429335c4c2964b54931b7f9b9509f483"
            }
          },
          "metadata": {}
        },
        {
          "output_type": "display_data",
          "data": {
            "text/plain": [
              "special_tokens_map.json:   0%|          | 0.00/2.20k [00:00<?, ?B/s]"
            ],
            "application/vnd.jupyter.widget-view+json": {
              "version_major": 2,
              "version_minor": 0,
              "model_id": "7a1c4f708fff4408a04bb0b378611e48"
            }
          },
          "metadata": {}
        },
        {
          "output_type": "display_data",
          "data": {
            "text/plain": [
              "config.json:   0%|          | 0.00/787 [00:00<?, ?B/s]"
            ],
            "application/vnd.jupyter.widget-view+json": {
              "version_major": 2,
              "version_minor": 0,
              "model_id": "052d24adcbb446b4aff67243844ad017"
            }
          },
          "metadata": {}
        },
        {
          "output_type": "display_data",
          "data": {
            "text/plain": [
              "model.safetensors:   0%|          | 0.00/3.13G [00:00<?, ?B/s]"
            ],
            "application/vnd.jupyter.widget-view+json": {
              "version_major": 2,
              "version_minor": 0,
              "model_id": "4b3ada8417d6423bb656b15c7af901c2"
            }
          },
          "metadata": {}
        }
      ],
      "source": [
        "# Load the model and tokenizer\n",
        "model_name = \"haining/scientific_abstract_simplification\"\n",
        "tokenizer = AutoTokenizer.from_pretrained(\n",
        "    \"haining/scientific_abstract_simplification\")\n",
        "model = AutoModelForSeq2SeqLM.from_pretrained(\n",
        "    \"haining/scientific_abstract_simplification\")"
      ]
    },
    {
      "cell_type": "code",
      "source": [],
      "metadata": {
        "id": "HPzIlDagJihD"
      },
      "execution_count": null,
      "outputs": []
    },
    {
      "cell_type": "code",
      "source": [
        "def count_tokens(texts_list):\n",
        "  tokenized_list = [len(tokenizer(\n",
        "      text, padding=False, return_tensors='pt',\n",
        "      truncation=False)['input_ids'][0]) for text in texts_list]\n",
        "  print(tokenized_list)\n",
        "  avg_tokens = np.mean(tokenized_list)\n",
        "  max_tokens = np.max(tokenized_list)\n",
        "  min_tokens = np.min(tokenized_list)\n",
        "  return [avg_tokens, max_tokens, min_tokens]\n",
        "\n",
        "train_tokens_counts = count_tokens(train_abstract_list)\n",
        "val_tokens_counts = count_tokens(val_abstract_list)\n",
        "test_tokens_counts = count_tokens(test_abstract_list)\n",
        "\n",
        "token_counts_df = pd.DataFrame({\n",
        "    \"Average Tokens\": [train_tokens_counts[0], val_tokens_counts[0], test_tokens_counts[0]],\n",
        "    \"Max Tokens\": [train_tokens_counts[1], val_tokens_counts[1], test_tokens_counts[1]],\n",
        "    \"Min Tokens\": [train_tokens_counts[2], val_tokens_counts[2], test_tokens_counts[2]]\n",
        "})\n",
        "\n",
        "print(token_counts_df)"
      ],
      "metadata": {
        "colab": {
          "base_uri": "https://localhost:8080/"
        },
        "id": "IE1k3f46GPUL",
        "outputId": "078eb031-5630-4a97-f480-ff50cf525737"
      },
      "execution_count": null,
      "outputs": [
        {
          "output_type": "stream",
          "name": "stdout",
          "text": [
            "[227, 258, 373, 222, 228, 266, 243, 262, 319, 257, 273, 298, 267, 252, 197, 216, 306, 265, 241, 226, 230, 284, 295, 233, 327, 230, 292, 286, 267, 240, 216, 233, 284, 292, 172, 275, 328, 248, 254, 277, 364, 231, 296, 324, 248, 234, 292, 236, 353, 304, 261, 290, 254, 246, 361, 231, 296, 234, 286, 262, 285, 243, 295, 241, 271, 308, 398, 299, 269, 324, 319, 297, 301, 322, 253, 343, 203, 263, 269, 291, 301, 272, 320, 307, 296, 223, 250, 232, 246, 284, 392, 227, 303, 288, 248, 257, 322, 367, 272, 254, 244, 249, 219, 226, 229, 360, 289, 255, 275, 245, 256, 238, 259, 285, 268, 321, 150, 262, 263, 361, 195, 266, 293, 292, 254, 255, 299, 245, 334, 254, 234, 263, 313, 222, 273, 259, 237, 218, 302, 283, 214, 229, 289, 310, 334, 214, 279, 286, 248, 288, 232, 261, 309, 291, 290, 252, 250, 310, 285, 311, 289, 228, 294, 321, 260, 308, 286, 220, 339, 224, 340, 198, 318, 230, 290, 247, 357, 305, 283, 258, 323, 286, 271, 278, 242, 259, 273, 251, 308, 269, 349, 289, 308, 221, 237, 274, 304, 299, 274, 322, 300, 286, 283, 283, 362, 285, 316, 325, 293, 255, 206, 289, 318, 232, 288, 302, 232, 217, 248, 420, 344, 289, 257, 167, 288, 268, 280, 252, 347, 248, 263, 268, 263, 188, 349, 261, 269, 315, 307, 218, 205, 307, 269, 254, 173, 292, 194, 392, 340, 237, 249, 305, 259, 291, 311, 324, 266, 255, 364, 253, 266, 286, 237, 338, 309, 298, 211, 269, 282, 226, 313, 290, 275, 236, 328, 272, 269, 336, 299, 278, 312, 252, 277, 269, 272, 289, 275, 324, 219, 308, 281, 247, 299, 284, 247, 215, 238, 214, 228, 323, 304, 289, 279, 310, 259, 223, 220, 235, 307, 123, 281, 262, 275, 305, 281, 223, 230, 264, 239, 312, 218, 221, 245, 259, 297, 308, 251, 230, 280, 255, 209, 234, 306, 257, 238, 284, 223, 256, 242, 241, 261, 281, 235, 237, 305, 301, 276, 288, 252, 240, 251, 367, 225, 244, 296, 229, 255, 253, 241, 209, 249, 198, 235, 236, 229, 272, 239, 259, 287, 272, 328, 238, 287, 291, 259, 204, 276, 372, 265, 284, 300, 243, 295, 271, 280, 268, 281, 342, 291, 241, 337, 289, 282, 246, 294, 285, 382, 208, 218, 314, 344, 284, 311, 310, 238, 148, 274, 278, 286, 261, 234, 291, 280, 401, 304, 270, 292, 284, 221, 228, 324, 206, 238, 223, 306, 323, 279, 310, 245, 377, 280, 453, 273, 270, 235, 286, 239, 280, 347, 266, 251, 176, 229, 168, 259, 320, 320, 144, 285, 293, 291, 272, 253, 331, 305, 185, 327, 246, 253, 366, 255, 251, 241, 367, 363, 270, 355, 256, 258, 250, 265, 276, 328, 259, 268, 261, 217, 154, 196, 220, 259, 284, 225, 300, 282, 341, 170, 270, 242, 250, 266, 246, 266, 295, 202, 177, 207, 251, 316, 291, 210, 261, 264, 314, 317, 241, 239, 289, 281, 291, 254, 391, 237, 321, 296, 279, 224, 274, 271, 258, 269, 298, 303, 234, 305, 233, 283, 275, 258, 259, 298, 313, 333, 233, 245, 247, 244, 259, 318, 227, 237, 303, 247, 229, 303, 235, 287, 238, 376, 270, 522, 265, 335, 236, 384, 276, 246, 279, 295, 273, 204, 314, 235, 272, 270, 209, 268, 313, 257, 287, 252, 282, 336, 257, 209, 227, 398, 281, 275, 397, 244, 242, 299, 257, 278, 261, 247, 232, 327, 299, 298, 265, 268, 344, 274, 342, 268, 333, 262, 238, 262, 351, 206, 298, 308, 209, 322, 256, 269, 298, 416, 311, 317, 243, 270, 216, 231, 313, 332, 301, 252, 256, 209, 257, 325, 311, 243, 264, 249, 246, 217, 274, 273, 251, 239, 262, 329, 304, 367, 331, 217, 232, 289, 302, 214, 275, 345, 250, 259, 306, 240, 312, 325, 276, 288, 299, 252, 260, 273, 279, 234, 138, 371, 242, 234, 244, 302, 265, 297, 229, 206, 337, 309, 286, 300, 257, 305, 225, 288, 275, 254, 263, 314, 276, 221, 263, 248, 247, 203, 267, 364, 244, 261, 226, 279, 297, 270, 254, 275, 286, 292, 245, 267, 387, 270, 271, 288, 235, 325, 241, 176, 261, 236, 250, 227, 183, 270, 247, 162, 345, 248, 295, 279, 229, 320, 292, 243, 240, 231, 236, 235, 288, 254, 339, 197, 358, 221, 285, 281, 243, 300, 291, 335, 227, 250, 335, 243, 329, 329, 293, 315, 372, 267, 299, 219, 271, 210, 294, 315, 253, 308, 217, 362, 292, 296, 237, 280, 262, 425, 231, 340, 313, 220, 225, 299, 241, 217, 138, 238, 324, 270, 322, 292, 264, 318, 307, 268, 329, 280, 379, 322, 331, 278, 290, 221, 224, 300, 292, 266, 203, 313, 403, 313, 289, 333, 335, 303, 279, 296, 218, 167, 348, 239, 293, 308, 214, 249, 252, 242, 298, 297, 282, 279, 350, 296, 288, 326, 222, 319, 267, 284, 260, 260, 221, 283, 270, 223, 254, 223, 282, 258, 265, 211, 241, 330, 312, 274, 335, 231, 306, 330, 263, 331, 288, 269, 295, 250, 285, 206, 249, 218, 316, 223, 291, 304, 336, 317, 331, 306, 259, 303, 234, 284, 251, 257, 293, 334, 270, 283, 279, 271, 266, 292, 229, 292, 298, 263, 237, 251, 346, 228, 271, 273, 274, 225, 269, 281, 302, 213, 315, 326, 279, 298, 240, 187, 341, 369, 307, 421, 275, 375, 273, 352, 337, 247, 293, 260, 282, 265, 263, 273, 254, 263, 283, 245, 248, 251, 274, 293, 285, 292, 295, 238, 276, 290, 324, 321, 274, 258, 337, 226, 302, 243, 317, 226, 273, 302, 239, 296, 281, 298, 270, 234, 375, 254, 281, 217, 245, 302, 273, 325, 323, 293, 272, 490, 305, 258, 267, 274, 306, 288, 266, 216, 332, 263, 265, 237, 272, 230, 259, 237, 270, 276, 248, 217, 317, 311, 241, 252, 299, 296, 300, 235, 287, 280, 295, 288, 258, 302, 204, 261, 267, 247, 285, 253, 320, 297, 296, 259, 309, 216, 332, 296, 209, 370, 237, 225, 251, 266, 213, 227, 326, 259, 246, 234, 302, 290, 279, 340, 343, 288, 304, 241, 209, 217, 283, 220, 254, 347, 252, 307, 237, 312, 319, 390, 241, 261, 223, 270, 253, 199, 264, 273, 283, 298, 267, 291, 250, 307, 199, 270, 224, 244, 283, 347, 197, 615, 327, 259, 275, 180, 264, 267, 257, 386, 386, 267, 238, 291, 265, 269, 244, 190, 281, 343, 286, 197, 320, 212, 330, 255, 307, 256, 266, 313, 211, 238, 410, 280, 314, 235, 222, 251, 302, 282, 300, 284, 332, 310, 237, 298, 267, 267, 254, 202, 224, 236, 230, 310, 281, 333, 338, 216, 299, 297, 295, 256, 261, 350, 276, 245, 267, 348, 324, 285, 183, 272, 303, 269, 251, 250, 268, 280, 235, 241, 254, 235, 283, 264, 221, 233, 254, 264, 210, 299, 279, 238, 309, 256, 282, 246, 270, 301, 294, 308, 263, 299, 214, 305, 284, 300, 288, 266, 272, 274, 262, 243, 260, 265, 247, 212, 280, 263, 250, 297, 303, 227, 289, 347, 379, 257, 257, 235, 270, 265, 249, 284, 203, 271, 263, 264, 321, 294, 292, 238, 284, 266, 259, 188, 371, 244, 237, 301, 281, 198, 255, 260, 319, 341, 357, 320, 229, 239, 229, 291, 273, 251, 241, 258, 226, 437, 224, 306, 317, 321, 253, 267, 309, 330, 254, 245, 387, 332, 313, 233, 386, 249, 276, 204, 246, 292, 222, 253, 232, 374, 282, 220, 293, 284, 238, 410, 274, 285, 232, 264, 233, 228, 232, 285, 252, 254, 273, 314, 233, 270, 237, 305, 354, 254, 271, 281, 253, 334, 176, 251, 264, 297, 225, 315, 271, 301, 242, 351, 259, 269, 301, 257, 296, 263, 264, 236, 288, 291, 253, 210, 258, 362, 255, 228, 320, 327, 322, 287, 318, 260, 304, 307, 251, 250, 344, 296, 244, 369, 306, 328, 245, 238, 305, 245, 302, 150, 296, 224, 279, 276, 265, 288, 216, 317, 285, 234, 282, 227, 287, 229, 372, 368, 286, 134, 259, 348, 252, 292, 291, 333, 224, 214, 275, 309, 229, 246, 359, 271, 259, 233, 273, 258, 240, 287, 284, 287, 249, 288, 241, 291, 236, 309, 244, 314, 262, 272, 294, 276, 231, 274, 337, 296, 318, 222, 303, 245, 284, 154, 239, 264, 251, 294, 232, 306, 304, 279, 261, 279, 217, 251, 284, 289, 249, 441, 313, 205, 288, 291, 326, 271, 274, 275, 287, 285, 230, 220, 292, 297, 284, 205, 320, 325, 278, 275, 217, 232, 261, 627, 238, 301, 284, 315, 314, 294, 234, 685, 235, 327, 242, 277, 271, 225, 274, 237, 239, 257, 208, 275, 262, 354, 273, 281, 286, 262, 237, 437, 256, 354, 190, 219, 282, 312, 313, 283, 245, 253, 295, 290, 260, 322, 253, 331, 267, 321, 260, 276, 212, 273, 241, 232, 312, 241, 478, 272, 245, 253, 270, 229, 302, 278, 253, 218, 293, 196, 282, 305, 310, 248, 303, 265, 326, 273, 219, 337, 245, 267, 284, 185, 264, 260, 248, 263, 301, 171, 270, 241, 242, 218, 301, 216, 294, 222, 241, 368, 229, 272, 277, 277, 262, 295, 268, 273, 257, 302, 249, 316, 291, 291, 290, 249, 224, 280, 326, 263, 535, 250, 228, 228, 214, 290, 327, 273, 169, 280, 213, 221, 273, 331, 309, 311, 235, 251, 269, 279, 276, 311, 279, 312, 248, 261, 265, 282, 287, 214, 217, 234, 205, 281, 233, 255, 346, 288, 228, 267, 255, 256, 243, 373, 281, 99, 285, 262, 249, 297, 346, 237, 280, 234, 259, 303, 288, 233, 317, 252, 323, 330, 231, 314, 238, 279, 279, 280, 238, 279, 254, 273, 257, 274, 253, 287, 245, 215, 454, 276, 273, 189, 263, 217, 247, 199, 230, 268, 206, 253, 222, 272, 237, 247, 270, 269, 220, 248, 260, 306, 271, 258, 298, 346, 178, 364, 282, 268, 270, 209, 291, 275, 273, 264, 304, 202, 323, 302, 275, 242, 282, 296, 364, 242, 321, 316, 280, 248, 224, 283, 281, 299, 256, 273, 253, 305, 234, 211, 321, 267, 215, 304, 241, 298, 258, 324, 246, 324, 294, 357, 268, 323, 246, 288, 246, 279, 245, 250, 261, 209, 298, 225, 305, 265, 288, 249, 277, 233, 326, 258, 253, 331, 281, 227, 294, 262, 226, 228, 285, 152, 259, 214, 230, 327, 267, 231, 210, 231, 275, 263, 254, 349, 274, 254, 335, 260, 324, 219, 236, 242, 281, 278, 272, 259, 234, 197, 318, 273, 272, 299, 323, 276, 201, 237, 204, 327, 329, 275, 298, 341, 327, 289, 315, 240, 267, 322, 213, 328, 308, 328, 237, 321, 247, 246, 247, 265, 281, 311, 315, 271, 295, 274, 211, 293, 292, 368, 299, 238, 337, 231, 268, 311, 286, 308, 336, 318, 268, 266, 280, 291, 213, 278, 258, 284, 231, 262, 294, 215, 338, 284, 260, 280, 206, 292, 243, 260, 241, 268, 254, 244, 262, 219, 286, 301, 270, 254, 242, 301, 275, 274, 279, 322, 269, 274, 281, 270, 271, 264, 263, 207, 148, 252, 245, 326, 264, 299, 257, 282, 224, 341, 250, 303, 193, 263, 336, 256, 328, 285, 250, 283, 245, 309, 317, 264, 284, 299, 259, 289, 279, 264, 369, 263, 200, 241, 316, 389, 310, 256, 228, 263, 258, 228, 370, 291, 239, 253, 272, 280, 337, 238, 302, 456, 328, 287, 272, 292, 209, 259, 281, 275, 277, 258, 230, 268, 199, 268, 282, 235, 210, 291, 258, 309, 261, 235, 228, 252, 342, 278, 290, 248, 279, 236, 195, 266, 320, 268, 255, 181, 194, 277, 185, 297, 298, 236, 330, 324, 410, 332, 260, 255, 192, 206, 331, 322, 263, 206, 288, 200, 261, 281, 268, 244, 313, 255, 286, 255, 304, 300, 327, 260, 254, 261, 342, 252, 272, 305, 276, 284, 248, 252, 235, 290, 336, 220, 304, 269, 354, 195, 287, 272, 291, 242, 243, 372, 306, 267, 263, 288, 789, 277, 287, 245, 308, 291, 309, 260, 228, 324, 246, 232, 277, 291, 286, 203, 303, 226, 252, 302, 266, 236, 303, 318, 304, 243, 288, 271, 392, 260, 268, 277, 423, 294, 290, 277, 282, 253, 303, 251, 305, 308, 227, 269, 257, 261, 289, 266, 251, 225, 233, 284, 346, 245, 329, 230, 258, 176, 265, 287, 253, 270, 290, 278, 224, 322, 244, 298, 287, 289, 231, 301, 281, 262, 359, 288, 248, 262, 288, 293, 243, 238, 270, 266, 240, 180, 186, 255, 294, 321, 277, 278, 363, 218, 298, 241, 260, 289, 256, 316, 295, 237, 214, 331, 272, 289, 271, 239, 267, 338, 227, 272, 250, 268, 215, 288, 269, 287, 286, 245, 313, 261, 269, 299, 336, 440, 369, 271, 233, 291, 287, 131, 308, 244, 244, 202, 263, 261, 266, 221, 320, 240, 314, 253, 267, 318, 225, 268, 267, 260, 242, 263, 236, 256, 242, 213, 332, 280, 272, 270, 314, 313, 276, 238, 289, 263, 286, 263, 253, 244, 208, 378, 257, 239, 235, 271, 269, 238, 310, 252, 314, 221, 343, 283, 237, 234, 239, 295, 272, 265, 237, 280, 271, 267, 248, 269, 354, 433, 279, 295, 234, 289, 339, 273, 299, 268, 245, 308, 147, 313, 312, 295, 279, 212, 267, 231, 313, 267, 292, 354, 267, 248, 334, 234, 372, 302, 188, 249, 287, 233, 314, 270, 286, 314, 183, 286, 299, 310, 237, 244, 222, 257, 300, 344, 286, 238, 246, 293, 261, 241, 290, 239, 206, 291, 309, 264, 231, 212, 353, 271, 306, 295, 345, 286, 249, 266, 267, 277, 275, 227, 285, 260, 228, 230, 331, 280, 224, 158, 224, 308, 310, 350, 333, 221, 217, 275, 241, 305, 244, 260, 331, 303, 232, 226, 240, 218, 297, 333, 220, 215, 315, 286, 293, 273, 258, 259, 163, 251, 236, 309, 233, 314, 335, 267, 359, 214, 300, 248, 239, 326, 256, 225, 350, 263, 330, 313, 254, 330, 286, 278, 275, 313, 232, 283, 255, 292, 284, 222, 225, 265, 362, 237, 343, 255, 269, 309, 251, 303, 233, 242, 250, 336, 246, 232, 204, 340, 290, 281, 289, 261, 221, 254, 258, 307, 270, 319, 341, 329, 250, 251, 212, 278, 240, 250, 218, 259, 269, 253, 234, 259, 298, 289, 140, 320, 314, 304, 322, 279, 346, 276, 355, 220, 217, 226, 183, 250, 249, 263, 288, 352, 194, 276, 362, 245, 288, 318, 227, 768, 317, 313, 223, 300, 224, 318, 443, 193, 375, 235, 264, 253, 307, 319, 263, 287, 299, 317, 324, 285, 246, 331, 324, 270, 288, 253, 317, 223, 289, 270, 218, 251, 330, 290, 228, 243, 330, 249, 223, 243, 307, 275, 286, 253, 220, 294, 228, 302, 288, 282, 252, 319, 397, 224, 265, 375, 298, 246, 279, 234, 280, 295, 242, 263, 217, 289, 285, 238, 267, 252, 215, 441, 302, 180, 373, 333, 317, 322, 293, 294, 233, 254, 251, 288, 214, 304, 234, 289, 236, 209, 207, 321, 270, 206, 263, 265, 286, 255, 344, 243, 321, 230, 329, 313, 254, 259, 270, 234, 308, 293, 231, 237, 361, 312, 246, 303, 277, 203, 306, 283, 280, 253, 337, 280, 224, 310, 388, 259, 297, 149, 316, 302, 193, 271, 210, 274, 246, 255, 254, 265, 281, 275, 295, 279, 317, 217, 347, 281, 267, 246, 337, 266, 232, 303, 255, 241, 293, 298, 272, 288, 318, 236, 257, 276, 259, 298, 258, 309, 295, 250, 282, 274, 356, 415, 290, 277, 293, 246, 225, 282, 311, 321, 332, 306, 244, 298, 334, 254, 321, 272, 238, 258, 320, 266, 237, 273, 260, 291, 203, 304, 228, 282, 259, 255, 213, 299, 274, 179, 266, 311, 265, 220, 258, 279, 253, 272, 305, 255, 300, 246, 263, 249, 316, 252, 227, 206, 279, 215, 261, 233, 261, 283, 258, 261, 277, 309, 271, 315, 259, 295, 271, 268, 253, 281, 253, 228, 223, 242, 203, 254, 309, 281, 260, 247, 213, 286, 355, 262, 260, 295, 262, 273, 225, 238, 285, 287, 316, 280, 289, 254, 307, 257, 251, 253, 266, 330, 225, 272, 236, 251, 275, 259, 429, 305, 317, 333, 282, 254, 298, 271, 230, 321, 235, 264, 243, 334, 377, 249, 312, 200, 243, 241, 196, 344, 206, 333, 272, 341, 336, 278, 330, 233, 225, 286, 256, 259, 256, 243, 289, 291, 216, 289, 223, 317, 295, 270, 238, 287, 258, 276, 291, 286, 290, 237, 268, 330, 237, 223, 245, 315, 307, 296, 242, 233, 302, 269, 293, 347, 239, 259, 306, 350, 297, 204, 308, 270, 202, 206, 240, 288, 296, 231, 284, 257, 338, 355, 729, 303, 239, 328, 289, 275, 349, 212, 246, 227, 256, 284, 324, 384, 288, 228, 262, 379, 207, 273, 265, 329, 320, 259, 248, 273, 322, 452, 297, 272, 215, 284, 223, 270, 371, 285, 243, 265, 294, 265, 277, 301, 305, 249, 192, 271, 308, 239, 330, 265, 242, 366, 221, 276, 188, 252, 264, 252, 265, 221, 267, 315, 235, 296, 268, 222, 263, 338, 239, 271, 242, 307, 310, 273, 319, 261, 276, 256, 277, 254, 291, 290, 324, 317, 313, 191, 316, 248, 336, 210, 232, 247, 330, 276, 281, 306, 233, 273, 302, 270, 282, 215, 245, 306, 276, 259, 233, 231, 210, 222, 320, 241, 223, 307, 230, 262, 269, 292, 235, 235, 300, 230, 316, 309, 229, 250, 217, 227, 250, 320, 248, 291, 263, 291, 216, 285, 223, 196, 242, 245, 264, 215, 278, 250, 231, 251, 245, 213, 203, 238, 244, 285, 364, 224, 236, 260, 270, 299, 292, 285, 272, 295, 268, 362, 216, 275, 270, 298, 233, 213, 251, 351, 259, 321, 300, 241, 271, 302, 225, 267, 286, 340, 148, 249, 327, 363, 259, 328, 353, 223, 279, 119, 292, 322, 310, 257, 269, 271, 790, 321, 245, 231, 246, 266, 265, 243, 218, 274, 295, 286, 304, 240, 261, 231, 317, 241, 279, 272, 299, 227, 461, 288, 261, 255, 289, 224, 256, 230, 304, 297, 298, 254, 236, 269, 275, 245, 254, 296, 259, 188, 298, 244, 287, 244, 253, 293, 216, 236, 255, 208, 225, 272, 258, 242, 243, 315, 317, 242, 260, 169, 235, 276, 322, 275, 234, 193, 243, 285, 330, 245, 185, 240, 371, 303, 267, 338, 344, 284, 502, 261, 247, 271, 346, 222, 260, 258, 236, 255, 207, 271, 266, 232, 213, 254, 264, 215, 321, 257, 274, 204, 229, 409, 218, 307, 275, 229, 315, 258, 301, 249, 302, 322, 254, 331, 225, 165, 291, 354, 291, 337, 202, 208, 271, 212, 226, 289, 251, 281, 316, 220, 280, 345, 285, 254, 250, 303, 268, 250, 236, 228, 317, 276, 284, 292, 251, 301, 315, 211, 273, 251, 226, 261, 266, 323, 280, 295, 378, 261, 268, 282, 360, 229, 218, 325, 397, 272, 241, 275, 276, 293, 304, 311, 334, 313, 197, 261, 264, 259, 287, 254, 272, 244, 294, 255, 289, 284, 301, 309, 218, 199, 303, 233, 220, 324, 216, 240, 272, 283, 328, 304, 211, 241, 297, 291, 221, 222, 287, 309, 329, 281, 168, 349, 196, 325, 311, 322, 328, 259, 289, 288, 275, 252, 252, 294, 271, 322, 312, 303, 269, 268, 315, 251, 262, 269, 269, 352, 260, 249, 264, 268, 244, 225, 215, 231, 310, 288, 271, 277, 220, 270, 267, 224, 267, 271, 269, 324, 291, 189, 272, 252, 263, 273, 297, 268, 320, 237, 289, 310, 296, 236, 414, 264, 326, 354, 293, 255, 259, 257, 240, 688, 268, 348, 339, 253, 266, 235, 272, 250, 303, 343, 319, 403, 303, 242, 378, 252, 257, 301, 345, 260, 301, 335, 241, 241, 261, 224, 221, 237, 362, 275, 221, 275, 289, 289, 296, 297, 265, 315, 239, 270, 234, 288, 222, 207, 293, 281, 272, 265, 219, 232, 268, 263, 296, 246, 244, 261, 281, 281, 295, 268, 210, 276, 292, 289, 288, 209, 240, 305, 253, 265, 195, 294, 298, 301, 252, 251, 261, 241, 322, 247, 264, 302, 282, 221, 240, 253, 206, 324, 287, 225, 255, 249, 301, 287, 231, 225, 203, 236, 184, 270, 269, 214, 425, 251, 277, 329, 288, 256, 287, 285, 257, 229, 238, 297, 321, 256, 234, 318, 321, 209, 324, 284, 282, 312, 211, 325, 274, 274, 278, 257, 297, 368, 236, 257, 260, 316, 279, 277, 336, 243, 233, 249, 206, 173, 258, 246, 256, 347, 323, 256, 281, 308, 203, 215, 227, 294, 204, 183, 288, 308, 287, 307, 243, 293, 307, 278, 316, 295, 321, 298, 341, 233, 347, 417, 313, 267, 249, 239, 248, 327, 293, 295, 263, 239, 265, 304, 272, 241, 295, 262, 293, 265, 224, 280, 214, 257, 261, 251, 268, 196, 269, 238, 311, 291, 194, 264, 299, 242, 223, 257, 257, 360, 250, 236, 268, 313, 216, 284, 271, 265, 270, 326, 279, 347, 264, 267, 276, 241, 228, 254, 244, 313, 337, 284, 236, 289, 248, 292, 233, 300, 335, 323, 215, 247, 285, 244, 275, 213, 245, 236, 280, 250, 276, 341, 236, 262, 323, 309, 273, 244, 268, 315, 344, 270, 241, 238, 275, 98, 264, 298, 285, 261, 271, 287, 293, 315, 215, 291, 226, 253, 298, 334, 333, 263, 218, 267, 207, 301, 281, 293, 248, 245, 341, 299, 323, 245, 238, 280, 234, 300, 217, 288, 265, 251, 278, 291, 290, 268, 287, 226, 214, 326, 311, 233, 256, 277, 249, 272, 246, 247, 244, 264, 284, 281, 236, 297, 221, 262, 259, 220, 255, 250, 295, 263, 314, 297, 265, 296, 302, 283, 234, 298, 302, 258, 223, 271, 294, 280, 200, 230, 228, 255, 263, 262, 263, 249, 299, 205, 274, 302, 298, 213, 248, 293, 212, 230, 232, 247, 247, 232, 230, 310, 249, 226, 204, 320, 230, 301, 271, 291, 373, 224, 293, 271, 274, 274, 235, 253, 317, 262, 260, 244, 324, 236, 237, 220, 213, 327, 367, 241, 312, 268, 195, 272, 264, 395, 278, 310, 245, 303, 241, 308, 258, 383, 292, 285, 313, 302, 279, 275, 286, 205, 243, 263, 287, 258, 255, 235, 218, 187, 275, 273, 252, 279, 271, 252, 250, 295, 286, 303, 361, 260, 274, 287, 329, 286, 318, 262, 310, 261, 288, 249, 318, 232, 295, 322, 234, 286, 318, 231, 262, 322, 305, 259, 269, 224, 325, 253, 322, 192, 312, 267, 285, 282, 392, 292, 308, 236, 218, 287, 270, 248, 245, 267, 275, 329, 273, 318, 312, 263, 247, 227, 269, 409, 253, 393, 280, 308, 267, 259, 251, 222, 274, 269, 288, 264, 226, 224, 286, 250, 256, 246, 258, 295, 316, 298, 179, 294, 387, 286, 216, 280, 236, 299, 280, 243, 261, 280, 266, 310, 172, 296, 338, 254, 204, 268, 245, 252, 319, 255, 434, 277, 259, 301, 178, 295, 227, 355, 240, 288, 312, 300, 243, 284, 335, 254, 298, 337, 302, 238, 261, 281, 219, 227, 280, 322, 264, 294, 274, 242, 253, 364, 299, 232, 271, 263, 223, 234, 289, 153, 311, 279, 250, 281, 282, 215, 237, 313, 290, 207, 290, 331, 230, 294, 277, 216, 307, 287, 268, 212, 296, 226, 297, 236, 324, 397, 305, 287, 237, 261, 221, 326, 207, 287, 259, 262, 235, 241, 260, 297, 272, 255, 305, 235, 242, 366, 312, 237, 332, 230, 281, 238, 253, 235, 233, 235, 259, 254, 201, 269, 239, 277, 228, 302, 275, 255, 264, 303, 232, 281, 277, 219, 259, 224, 283, 246, 294, 357, 258, 276, 411, 237, 243, 278, 250, 261, 225, 322, 356, 232, 237, 234, 422, 249, 255, 215, 297, 283, 286, 252, 320, 268, 288, 273, 295, 281, 301, 315, 281, 236, 310, 357, 282, 241, 230, 293, 280, 188, 272, 273, 239, 216, 290, 295, 263, 289, 133, 285, 273, 268, 269, 300, 223, 224, 239, 276, 269, 320, 248, 288, 247, 223, 176, 260, 273, 268, 311, 340, 274, 278, 342, 298, 221, 327, 292, 255, 350, 347, 302, 350, 241, 232, 342, 289, 307, 339, 317, 269, 239, 245, 214, 252, 248, 239, 259, 319, 240, 241, 247, 236, 244, 360, 243, 225, 260, 265, 238, 237, 260, 258, 360, 203, 246, 212, 238, 254, 241, 342, 303, 268, 125, 289, 364, 287, 326, 179, 319, 306, 229, 285, 290, 352, 243, 315, 255, 286, 236, 264, 270, 281, 244, 230, 396, 266, 277, 241, 286, 273, 308, 261, 117, 320, 316, 226, 312, 314, 345, 297, 228, 305, 255, 216, 220, 278, 292, 288, 367, 203, 254, 288, 267, 314, 242, 283, 288, 312, 287, 255, 299, 189, 248, 328, 287, 276, 193, 261, 259, 247, 278, 280, 228, 244, 212, 295, 286, 291, 278, 323, 219, 248, 310, 267, 279, 240, 318, 221, 218, 259, 262, 281, 209, 231, 203, 303, 282, 324, 258, 287, 291, 297, 271, 242, 240, 270, 176, 240, 292, 298, 234, 297, 347, 241, 226, 323, 259, 292, 403, 241, 223, 272, 221, 305, 285, 250, 243, 259, 371, 229, 228, 275, 316, 248, 366, 285, 300, 259, 280, 225, 278, 258, 332, 205, 224, 283, 280, 334, 341, 281, 251, 290, 254, 203, 289, 268, 295, 322, 299, 268, 197, 320, 243, 310, 452, 291, 253, 227, 288, 317, 253, 303, 296, 265, 303, 321, 246, 220, 221, 279, 206, 267, 299, 249, 275, 253, 248, 286, 203, 241, 268, 297, 349, 218, 302, 220, 326, 303, 326, 304, 277, 337, 274, 304, 399, 225, 271, 267, 293, 327, 213, 298, 263, 288, 300, 258, 366, 310, 294, 301, 265, 263, 229, 372, 286, 251, 248, 258, 243, 310, 290, 314, 285, 137, 295, 214, 315, 289, 273, 270, 290, 330, 309, 311, 199, 284, 294, 220, 270, 238, 264, 319, 307, 298, 239, 271, 267, 300, 247, 292, 203, 322, 217, 325, 174, 281, 336, 293, 248, 295, 242, 254, 215, 277, 214, 287, 318, 288, 405, 215, 331, 255, 312, 227, 325, 210, 310, 251, 248, 296, 322, 273, 258, 246, 223, 223, 273, 273, 223, 197, 259, 294, 312, 243, 260, 299, 296, 284, 541, 238, 414, 258, 254, 281, 213, 251, 388]\n",
            "[265, 325, 287, 229, 404, 309, 204, 354, 206, 285, 249, 275, 218, 165, 252, 304, 301, 245, 241, 284, 267, 290, 305, 332, 224, 210, 318, 274, 254, 278, 254, 226, 260, 248, 268, 285, 267, 198, 237, 269, 260, 193, 291, 300, 229, 242, 312, 259, 298, 222, 235, 243, 322, 231, 236, 287, 301, 281, 345, 349, 234, 289, 261, 238, 292, 234, 264, 273, 319, 309, 356, 283, 214, 253, 258, 291, 193, 293, 290, 373, 306, 265, 244, 234, 222, 241, 282, 249, 228, 276, 293, 298, 304, 239, 263, 285, 247, 304, 291, 263, 203, 128, 217, 295, 277, 223, 251, 297, 291, 245, 289, 286, 245, 279, 331, 232, 268, 228, 285, 310, 322, 282, 191, 292, 411, 305, 244, 225, 256, 268, 236, 300, 245, 267, 257, 309, 202, 222, 310, 240, 304, 299, 244, 243, 244, 317, 239, 276, 287, 231, 217, 252, 222, 283, 326, 242, 271, 252, 358, 301, 330, 288, 333, 201, 257, 265, 278, 305, 303, 248, 296, 288, 275, 294, 216, 386, 255, 377, 245, 288, 335, 250, 303, 265, 192, 223, 342, 249, 233, 229, 306, 292, 532, 292, 328, 299, 297, 367, 288, 259, 264, 277, 269, 277, 271, 283, 297, 247, 319, 227, 264, 315, 320, 326, 227, 233, 256, 222, 275, 259, 315, 299, 316, 360, 220, 211, 347, 249, 265, 260, 267, 252, 269, 317, 261, 254, 235, 270, 247, 275, 238]\n",
            "[238, 133, 254, 265, 311, 246, 272, 280, 235, 285, 254, 280, 268, 302, 315, 304, 316, 228, 276, 221, 270, 279, 281, 202, 176, 269, 318, 298, 223, 297, 333, 289, 253, 263, 333, 277, 269, 202, 355, 260, 291, 282, 192, 228, 225, 232, 293, 295, 229, 261, 301, 333, 336, 317, 289, 281, 279, 338, 266, 244, 250, 240, 245, 280, 218, 320, 240, 221, 255, 301, 311, 276, 308, 298, 328, 232, 297, 213, 285, 278, 225, 308, 243, 285, 244, 343, 289, 282, 268, 243, 295, 212, 262, 280, 266, 276, 244, 285, 268, 300, 308, 268, 252, 267, 300, 208, 215, 320, 260, 232, 293, 339, 252, 274, 270, 264, 331, 282, 324, 230, 265, 245, 222, 265, 273, 260, 213, 265, 297, 335, 329, 410, 389, 232, 337, 273, 285, 299, 289, 266, 276, 339, 243, 265, 311, 253, 319, 214, 243, 393, 281, 241, 248, 275, 325, 333, 211, 296, 267, 232, 296, 194, 254, 301, 238, 143, 283, 288, 273, 231, 296, 308, 269, 283, 225, 288, 258, 264, 269, 273, 255, 266, 279, 238, 297, 249, 266, 285, 302, 292, 259, 345, 692, 237, 206, 281, 278, 292, 401, 242, 247, 248, 233, 223, 320, 329, 264, 234, 278, 268, 377, 231, 217, 310, 273, 294, 250, 333, 241, 272, 267, 291, 264, 300, 282, 327, 241, 224, 279, 259, 335, 283, 280, 285, 312, 270, 278, 239, 230, 301, 299]\n",
            "   Average Tokens  Max Tokens  Min Tokens\n",
            "0      273.843304         790          98\n",
            "1      272.568465         532         128\n",
            "2      275.282158         692         133\n"
          ]
        }
      ]
    },
    {
      "cell_type": "code",
      "source": [
        "def plot_token_frequency(texts_list, tokenizer, title):\n",
        "    # Tokenize the texts and count the number of tokens\n",
        "    token_lengths = [\n",
        "        len(tokenizer(\n",
        "            text, padding=False, return_tensors='pt', truncation=False)[\n",
        "                'input_ids'][0]) for text in texts_list]\n",
        "\n",
        "    # Create a DataFrame for plotting\n",
        "    df = pd.DataFrame(token_lengths, columns=['Token Length'])\n",
        "\n",
        "    # Plot the frequency distribution\n",
        "    plt.figure(figsize=(10, 6))\n",
        "    df['Token Length'].plot(kind='hist', bins=20, edgecolor='black')\n",
        "    plt.title(title)\n",
        "    plt.xlabel('Number of Tokens')\n",
        "    plt.ylabel('Frequency')\n",
        "    plt.grid(True)\n",
        "    plt.show()\n",
        "\n",
        "# Plot the frequency distribution for each text list\n",
        "plot_token_frequency(\n",
        "    train_abstract_list, tokenizer, \"Tokens dist. for training set\")\n",
        "plot_token_frequency(val_abstract_list, tokenizer, \"Tokens dist. for val set\")\n",
        "plot_token_frequency(test_abstract_list, tokenizer, \"Tokens dist. for test set\")"
      ],
      "metadata": {
        "colab": {
          "base_uri": "https://localhost:8080/",
          "height": 1000
        },
        "id": "T3dW_YjRNIC2",
        "outputId": "fe42d119-6656-47b9-991d-9e55193e90d5"
      },
      "execution_count": null,
      "outputs": [
        {
          "output_type": "display_data",
          "data": {
            "text/plain": [
              "<Figure size 1000x600 with 1 Axes>"
            ],
            "image/png": "[encoded data removed]"
          },
          "metadata": {}
        },
        {
          "output_type": "display_data",
          "data": {
            "text/plain": [
              "<Figure size 1000x600 with 1 Axes>"
            ],
            "image/png": "[encoded data removed]"
          },
          "metadata": {}
        },
        {
          "output_type": "display_data",
          "data": {
            "text/plain": [
              "<Figure size 1000x600 with 1 Axes>"
            ],
            "image/png": "[encoded data removed]"
          },
          "metadata": {}
        }
      ]
    },
    {
      "cell_type": "code",
      "execution_count": null,
      "metadata": {
        "colab": {
          "base_uri": "https://localhost:8080/",
          "height": 171,
          "referenced_widgets": [
            "f82aa3d8789f4d06a02721311927ceb2",
            "d78d5069c9b74e179573ce348015b780",
            "2941d265a10e40d9a83dec65e65746f5",
            "3a961519cc4d4b698a629c491866c9da",
            "4827aa7e064547e0a7fbf64f5bd4144a",
            "1c77f1dd87f848ada71a334f8ca4c258",
            "8652dcc79004498cad394ec90e46ff97",
            "3bbad0746e824e17a5029109279a5245",
            "467d7a619a534dc7aed3a3b636d63650",
            "84089120a1224f6b9d2403b813c413e8",
            "719576c70fba46eabb93873b15ccb317",
            "e614f50a55744b57a0694432cf59913d",
            "5816c792f9a34eb296e53d915c8e82d8",
            "1a20994c7a0346d68f68bc3338d0edf2",
            "409a76bcf12d4d35958ebaf1e478f2a1",
            "54e96f81b15449c4b1bd4dd6e6cd0a45",
            "7602405d092647418501fe9cb6baed3f",
            "a24ce338029148bfb55242c77527df5f",
            "2617e04ce58444bdab658daed4b0f173",
            "8ec949f0850245259719e7439104474c",
            "be1b1de9c0c14526895495fe69486419",
            "620036f1572349bc8d03124572473f19",
            "815cab717c844de0be3679e49df1e53e",
            "682563a4cc3547b7b656b1c0dcaa0509",
            "5f6eec2fed0f4db5b79d71630f737f5c",
            "cb66c9d8357d425fab959d0c29d9e845",
            "6f08e8c0a36b43c387da7a99d5fa547f",
            "d60806125af74d50a16d9a2731c3409d",
            "084e4f42f7694789a9842c07071023e4",
            "f483baf36f5d46cb8dddb1e37bab8764",
            "590c9fad0db04cb18ae5e9957a4a5468",
            "ad5dc1c38976482faa7cce7bcd7d0036",
            "08400660a9a64359b5849de86197cc22"
          ]
        },
        "id": "YRFDUXGvUzvv",
        "outputId": "2d11a5d6-87b6-410e-8005-d8499575704b"
      },
      "outputs": [
        {
          "output_type": "display_data",
          "data": {
            "text/plain": [
              "Map:   0%|          | 0/4346 [00:00<?, ? examples/s]"
            ],
            "application/vnd.jupyter.widget-view+json": {
              "version_major": 2,
              "version_minor": 0,
              "model_id": "f82aa3d8789f4d06a02721311927ceb2"
            }
          },
          "metadata": {}
        },
        {
          "output_type": "stream",
          "name": "stderr",
          "text": [
            "/usr/local/lib/python3.10/dist-packages/transformers/tokenization_utils_base.py:3856: UserWarning: `as_target_tokenizer` is deprecated and will be removed in v5 of Transformers. You can tokenize your labels by using the argument `text_target` of the regular `__call__` method (either in the same call as your input texts if you use the same keyword arguments, or in a separate call.\n",
            "  warnings.warn(\n"
          ]
        },
        {
          "output_type": "display_data",
          "data": {
            "text/plain": [
              "Map:   0%|          | 0/241 [00:00<?, ? examples/s]"
            ],
            "application/vnd.jupyter.widget-view+json": {
              "version_major": 2,
              "version_minor": 0,
              "model_id": "e614f50a55744b57a0694432cf59913d"
            }
          },
          "metadata": {}
        },
        {
          "output_type": "display_data",
          "data": {
            "text/plain": [
              "Map:   0%|          | 0/241 [00:00<?, ? examples/s]"
            ],
            "application/vnd.jupyter.widget-view+json": {
              "version_major": 2,
              "version_minor": 0,
              "model_id": "815cab717c844de0be3679e49df1e53e"
            }
          },
          "metadata": {}
        }
      ],
      "source": [
        "# Preprocess the data\n",
        "def preprocess_data(examples):\n",
        "    inputs = [abstract for abstract in examples['abstract']]\n",
        "    model_inputs = tokenizer(\n",
        "        inputs, max_length=512, truncation=True, padding=\"max_length\",\n",
        "        return_tensors='pt')\n",
        "\n",
        "    with tokenizer.as_target_tokenizer():\n",
        "        labels = tokenizer(\n",
        "            examples['summary'], max_length=512, truncation=True,\n",
        "            padding=\"max_length\", return_tensors='pt')\n",
        "\n",
        "    model_inputs[\"labels\"] = labels[\"input_ids\"]\n",
        "    return model_inputs\n",
        "\n",
        "# Preprocess the datasets\n",
        "train_dataset_prep = train_dataset.map(preprocess_data, batched=True)\n",
        "val_dataset_prep = val_dataset.map(preprocess_data, batched=True)\n",
        "test_dataset_prep = test_dataset.map(preprocess_data, batched=True)"
      ]
    },
    {
      "cell_type": "code",
      "source": [
        "len(train_data)"
      ],
      "metadata": {
        "colab": {
          "base_uri": "https://localhost:8080/"
        },
        "id": "bZfAtc0aDsDE",
        "outputId": "f4f927c8-53c8-40d9-b515-326d2116b56b"
      },
      "execution_count": null,
      "outputs": [
        {
          "output_type": "execute_result",
          "data": {
            "text/plain": [
              "4346"
            ]
          },
          "metadata": {},
          "execution_count": 18
        }
      ]
    },
    {
      "cell_type": "code",
      "execution_count": null,
      "metadata": {
        "id": "Afwg7v90GHDg"
      },
      "outputs": [],
      "source": [
        "def generate_summary(abstract):\n",
        "    inputs = tokenizer(\n",
        "        abstract, return_tensors=\"pt\", max_length=600, padding='max_length',\n",
        "        truncation=True)\n",
        "    input_ids = inputs[\"input_ids\"]\n",
        "\n",
        "    # Generate summary\n",
        "    outputs = model.generate(\n",
        "        input_ids, max_length=512, min_length=300, num_beams=4, temperature=0.4,\n",
        "        early_stopping=True, do_sample=True)\n",
        "\n",
        "    summary = tokenizer.decode(outputs[0], skip_special_tokens=True)\n",
        "    return summary"
      ]
    },
    {
      "cell_type": "code",
      "source": [
        "generate_summary(test_abstract_list[0])"
      ],
      "metadata": {
        "colab": {
          "base_uri": "https://localhost:8080/",
          "height": 244
        },
        "id": "-ziEgWPU75aQ",
        "outputId": "bb0f608e-52d6-4374-aa56-ac99a0fbfe7f"
      },
      "execution_count": null,
      "outputs": [
        {
          "output_type": "execute_result",
          "data": {
            "text/plain": [
              "'Most movements are not unitary, but are composed of sequences. People with cerebellar pathology have severe problems with sequencing. Eyelid conditioning is a cerebellar-mediated behavior that provides the ability to control and restrict inputs to the cerebellum through stimulation of mossy fibers. We used this ability to directly how the cerebellum can learn a sequence of inter-connected movement components in rabbits. We show that the feedback signals from one component are sufficient to serve as a cue for the next component in the sequence. In vivo recordings from Purkinje cells demonstrated that all components of the sequence were encoded similarly by cerebellar cortex. These results provide a simple yet general framework for how the cerebellum can use simple associate learning processes to chain together a sequence of appropriately timed responses.                                                           '"
            ],
            "application/vnd.google.colaboratory.intrinsic+json": {
              "type": "string"
            }
          },
          "metadata": {},
          "execution_count": 54
        }
      ]
    },
    {
      "cell_type": "markdown",
      "metadata": {
        "id": "Vyj-l8GtCed2"
      },
      "source": [
        "###Training"
      ]
    },
    {
      "cell_type": "code",
      "execution_count": null,
      "metadata": {
        "colab": {
          "base_uri": "https://localhost:8080/",
          "height": 245
        },
        "id": "C8_6kwAkLRvU",
        "outputId": "ead7bbfe-491b-4d98-c1cd-e243899b586b"
      },
      "outputs": [
        {
          "output_type": "error",
          "ename": "NameError",
          "evalue": "name 'Seq2SeqTrainingArguments' is not defined",
          "traceback": [
            "\u001b[0;31m---------------------------------------------------------------------------\u001b[0m",
            "\u001b[0;31mNameError\u001b[0m                                 Traceback (most recent call last)",
            "\u001b[0;32m<ipython-input-2-aa1eb326966a>\u001b[0m in \u001b[0;36m<cell line: 2>\u001b[0;34m()\u001b[0m\n\u001b[1;32m      1\u001b[0m \u001b[0;31m# Set training arguments\u001b[0m\u001b[0;34m\u001b[0m\u001b[0;34m\u001b[0m\u001b[0m\n\u001b[0;32m----> 2\u001b[0;31m training_args = Seq2SeqTrainingArguments(\n\u001b[0m\u001b[1;32m      3\u001b[0m     \u001b[0moutput_dir\u001b[0m\u001b[0;34m=\u001b[0m\u001b[0;34m\"./results\"\u001b[0m\u001b[0;34m,\u001b[0m\u001b[0;34m\u001b[0m\u001b[0;34m\u001b[0m\u001b[0m\n\u001b[1;32m      4\u001b[0m     \u001b[0mevaluation_strategy\u001b[0m\u001b[0;34m=\u001b[0m\u001b[0;34m\"epoch\"\u001b[0m\u001b[0;34m,\u001b[0m\u001b[0;34m\u001b[0m\u001b[0;34m\u001b[0m\u001b[0m\n\u001b[1;32m      5\u001b[0m     \u001b[0mlearning_rate\u001b[0m\u001b[0;34m=\u001b[0m\u001b[0;36m2e-5\u001b[0m\u001b[0;34m,\u001b[0m\u001b[0;34m\u001b[0m\u001b[0;34m\u001b[0m\u001b[0m\n",
            "\u001b[0;31mNameError\u001b[0m: name 'Seq2SeqTrainingArguments' is not defined"
          ]
        }
      ],
      "source": [
        "# Set training arguments\n",
        "training_args = Seq2SeqTrainingArguments(\n",
        "    output_dir=\"./results\",\n",
        "    evaluation_strategy=\"epoch\",\n",
        "    learning_rate=2e-5,\n",
        "    per_device_train_batch_size=4,\n",
        "    per_device_eval_batch_size=4,\n",
        "    weight_decay=0.01,\n",
        "    save_total_limit=3,\n",
        "    num_train_epochs=3,\n",
        "    predict_with_generate=True,\n",
        ")"
      ]
    },
    {
      "cell_type": "code",
      "execution_count": null,
      "metadata": {
        "id": "taCfaWItLYvd"
      },
      "outputs": [],
      "source": [
        "# Initialize the Trainer\n",
        "trainer = Seq2SeqTrainer(\n",
        "    model=model,\n",
        "    args=training_args,\n",
        "    train_dataset=train_dataset_prep,\n",
        "    eval_dataset=val_dataset_prep,\n",
        "    tokenizer=tokenizer,\n",
        ")"
      ]
    },
    {
      "cell_type": "code",
      "execution_count": null,
      "metadata": {
        "colab": {
          "base_uri": "https://localhost:8080/",
          "height": 222
        },
        "id": "D7Kfyz7cLdrr",
        "outputId": "15375563-6270-47d3-91ac-6c052a366a8c"
      },
      "outputs": [
        {
          "output_type": "display_data",
          "data": {
            "text/plain": [
              "<IPython.core.display.HTML object>"
            ],
            "text/html": [
              "\n",
              "    <div>\n",
              "      \n",
              "      <progress value='3261' max='3261' style='width:300px; height:20px; vertical-align: middle;'></progress>\n",
              "      [3261/3261 56:02, Epoch 3/3]\n",
              "    </div>\n",
              "    <table border=\"1\" class=\"dataframe\">\n",
              "  <thead>\n",
              " <tr style=\"text-align: left;\">\n",
              "      <th>Epoch</th>\n",
              "      <th>Training Loss</th>\n",
              "      <th>Validation Loss</th>\n",
              "    </tr>\n",
              "  </thead>\n",
              "  <tbody>\n",
              "    <tr>\n",
              "      <td>1</td>\n",
              "      <td>2.153000</td>\n",
              "      <td>1.985127</td>\n",
              "    </tr>\n",
              "    <tr>\n",
              "      <td>2</td>\n",
              "      <td>2.053800</td>\n",
              "      <td>1.943585</td>\n",
              "    </tr>\n",
              "    <tr>\n",
              "      <td>3</td>\n",
              "      <td>2.018300</td>\n",
              "      <td>1.934009</td>\n",
              "    </tr>\n",
              "  </tbody>\n",
              "</table><p>"
            ]
          },
          "metadata": {}
        },
        {
          "output_type": "execute_result",
          "data": {
            "text/plain": [
              "TrainOutput(global_step=3261, training_loss=2.1171551013936005, metrics={'train_runtime': 3363.6676, 'train_samples_per_second': 3.876, 'train_steps_per_second': 0.969, 'total_flos': 3.52143334490112e+16, 'train_loss': 2.1171551013936005, 'epoch': 3.0})"
            ]
          },
          "metadata": {},
          "execution_count": 38
        }
      ],
      "source": [
        "trainer.train()"
      ]
    },
    {
      "cell_type": "code",
      "execution_count": null,
      "metadata": {
        "colab": {
          "base_uri": "https://localhost:8080/"
        },
        "id": "dXBl_2E7CcPf",
        "outputId": "28a788bb-069d-4492-c349-3f21e22af563"
      },
      "outputs": [
        {
          "output_type": "execute_result",
          "data": {
            "text/plain": [
              "('./drive/MyDrive/Biolay/Data sets/Elife/fine-tuned-model1/tokenizer_config.json',\n",
              " './drive/MyDrive/Biolay/Data sets/Elife/fine-tuned-model1/special_tokens_map.json',\n",
              " './drive/MyDrive/Biolay/Data sets/Elife/fine-tuned-model1/tokenizer.json')"
            ]
          },
          "metadata": {},
          "execution_count": 39
        }
      ],
      "source": [
        "# Save the fine-tuned model\n",
        "model.save_pretrained(\"./drive/MyDrive/Biolay/Data sets/Elife/fine-tuned-model1\")\n",
        "tokenizer.save_pretrained(\"./drive/MyDrive/Biolay/Data sets/Elife/fine-tuned-model1\")"
      ]
    },
    {
      "cell_type": "code",
      "execution_count": null,
      "metadata": {
        "colab": {
          "base_uri": "https://localhost:8080/"
        },
        "id": "vGq-3hXND7bk",
        "outputId": "72268ddb-7a23-4282-bc5b-1603a39e69a0"
      },
      "outputs": [
        {
          "output_type": "stream",
          "name": "stdout",
          "text": [
            "[{'generated_text': 'Cell-fate reproduction is essential for all organisms, from humans to insects. In the nematode C. elegans, the germline is the first cell to divide, and it is essential for the development of new tissues and organs. However, it is not fully understood how the germline is reprogrammed to become different cell types. Here, we show that a signaling pathway called GLP-1/Notch promotes the reprogramming of germline cells into somatic cells. This pathway is best known for maintaining undifferentiated stem cells/progenitors in the germline, but it is not known how it promotes the reprogramming of germline cells into somatic cells. Here, we identify a protein called UTX-1 as a crucial target of GLP-1/Notch and show that it is essential for the reprogramming of germline cells into somatic cells. These findings have wide implications, ranging from diseases associated with abnormal Notch signaling to diseases associated with mutations in the Notch signaling pathway.'}]\n",
            "Summary: Cell-fate reproduction is essential for all organisms, from humans to insects. In the nematode C. elegans, the germline is the first cell to divide, and it is essential for the development of new tissues and organs. However, it is not fully understood how the germline is reprogrammed to become different cell types. Here, we show that a signaling pathway called GLP-1/Notch promotes the reprogramming of germline cells into somatic cells. This pathway is best known for maintaining undifferentiated stem cells/progenitors in the germline, but it is not known how it promotes the reprogramming of germline cells into somatic cells. Here, we identify a protein called UTX-1 as a crucial target of GLP-1/Notch and show that it is essential for the reprogramming of germline cells into somatic cells. These findings have wide implications, ranging from diseases associated with abnormal Notch signaling to diseases associated with mutations in the Notch signaling pathway.\n"
          ]
        }
      ],
      "source": [
        "# # Load the fine-tuned model and tokenizer\n",
        "# fine_tuned_model_path = \"./drive/MyDrive/Biolay/Data sets/Elife/fine-tuned-model1\"\n",
        "# fine_tuned_tokenizer_path = \"./drive/MyDrive/Biolay/Data sets/Elife/fine-tuned-model1\"\n",
        "\n",
        "# pipe = pipeline(\n",
        "#     \"text2text-generation\", model=fine_tuned_model_path,\n",
        "#     tokenizer=fine_tuned_tokenizer_path)\n",
        "\n",
        "# # Example usage\n",
        "# abstract = \"\"\"\n",
        "# Cell-fate reprograming is at the heart of development, yet very little is known\n",
        "# about the molecular mechanisms promoting or inhibiting reprograming in intact\n",
        "# organisms. In the C. elegans germline, reprograming germ cells into somatic\n",
        "# cells requires chromatin perturbation. Here, we describe that such reprograming\n",
        "# is facilitated by GLP-1/Notch signaling pathway. This is surprising, since this\n",
        "# pathway is best known for maintaining undifferentiated germline stem\n",
        "# cells/progenitors. Through a combination of genetics, tissue-specific\n",
        "# transcriptome analysis, and functional studies of candidate genes, we uncovered\n",
        "# a possible explanation for this unexpected role of GLP-1/Notch. We propose that\n",
        "# GLP-1/Notch promotes reprograming by activating specific genes, silenced by the\n",
        "# Polycomb repressive complex 2 (PRC2), and identify the conserved histone\n",
        "# demethylase UTX-1 as a crucial GLP-1/Notch target facilitating reprograming.\n",
        "# These findings have wide implications, ranging from development to diseases\n",
        "# associated with abnormal Notch signaling.\n",
        "# \"\"\"\n",
        "\n",
        "# output = pipe(abstract, max_length=512, min_length=200, do_sample=False)\n",
        "# print(output)\n",
        "# print(\"Summary:\", output[0]['generated_text'])\n"
      ]
    },
    {
      "cell_type": "markdown",
      "source": [
        "###Evaluation"
      ],
      "metadata": {
        "id": "k0qpjW_YjD-u"
      }
    },
    {
      "cell_type": "code",
      "source": [
        "import os, sys, json\n",
        "import textstat\n",
        "import numpy as np\n",
        "from rouge_score import rouge_scorer\n",
        "from bert_score import score\n",
        "import nltk\n",
        "from alignscore import AlignScore\n",
        "from lens.lens_score import LENS\n",
        "from summac.model_summac import SummaCConv\n",
        "from transformers import AutoTokenizer, AutoModelForSeq2SeqLM\n",
        "\n",
        "nltk.download('punkt')"
      ],
      "metadata": {
        "id": "r6g3RijLjDO2",
        "colab": {
          "base_uri": "https://localhost:8080/"
        },
        "outputId": "9723be90-d35d-4877-cabe-6efd68da58a1"
      },
      "execution_count": null,
      "outputs": [
        {
          "output_type": "stream",
          "name": "stderr",
          "text": [
            "[nltk_data] Downloading package punkt to /root/nltk_data...\n",
            "[nltk_data]   Package punkt is already up-to-date!\n"
          ]
        },
        {
          "output_type": "execute_result",
          "data": {
            "text/plain": [
              "True"
            ]
          },
          "metadata": {},
          "execution_count": 151
        }
      ]
    },
    {
      "cell_type": "code",
      "source": [
        "import torch"
      ],
      "metadata": {
        "id": "oUQ1sZ3ofhMJ"
      },
      "execution_count": null,
      "outputs": []
    },
    {
      "cell_type": "code",
      "source": [
        "# Load the fine-tuned model and tokenizer from Google Drive\n",
        "model_path_tuned = \"./drive/MyDrive/Biolay/Data sets/Elife/fine-tuned-model1/\"\n",
        "tokenizer = AutoTokenizer.from_pretrained(\"haining/scientific_abstract_simplification\")\n",
        "# tokenizer = AutoTokenizer.from_pretrained(model_path)\n",
        "model_tuned = AutoModelForSeq2SeqLM.from_pretrained(model_path_tuned).to('cuda')"
      ],
      "metadata": {
        "id": "Vtp5ZMGRmXMw"
      },
      "execution_count": null,
      "outputs": []
    },
    {
      "cell_type": "code",
      "source": [
        "def calc_rouge(preds, refs):\n",
        "  # Get ROUGE F1 scores\n",
        "  scorer = rouge_scorer.RougeScorer(['rouge1', 'rouge2', 'rougeLsum'], \\\n",
        "                                    use_stemmer=True, split_summaries=True)\n",
        "  scores = [scorer.score(p, refs[i]) for i, p in enumerate(preds)]\n",
        "  return np.mean([s['rouge1'].fmeasure for s in scores]), \\\n",
        "         np.mean([s['rouge2'].fmeasure for s in scores]), \\\n",
        "         np.mean([s['rougeLsum'].fmeasure for s in scores])\n",
        "\n",
        "def calc_bertscore(preds, refs):\n",
        "  # Get BERTScore F1 scores\n",
        "  P, R, F1 = score(preds, refs, lang=\"en\", verbose=True, device='cuda:0')\n",
        "  return np.mean(F1.tolist())\n",
        "\n",
        "def calc_readability(preds):\n",
        "  fkgl_scores = []\n",
        "  cli_scores = []\n",
        "  dcrs_scores = []\n",
        "  for pred in preds:\n",
        "    fkgl_scores.append(textstat.flesch_kincaid_grade(pred))\n",
        "    cli_scores.append(textstat.coleman_liau_index(pred))\n",
        "    dcrs_scores.append(textstat.dale_chall_readability_score(pred))\n",
        "  return np.mean(fkgl_scores), np.mean(cli_scores), np.mean(dcrs_scores)\n",
        "\n",
        "def calc_lens(preds, refs, docs):\n",
        "  model_path = \"./drive/MyDrive/Biolay/evauation_scripts/models/LENS/LENS/checkpoints/epoch=5-step=6102.ckpt\"\n",
        "  metric = LENS(model_path, rescale=True)\n",
        "  abstracts = [d.split(\"\\n\")[0] for d in docs]\n",
        "  refs = [[x] for x in refs]\n",
        "\n",
        "  scores = metric.score(abstracts, preds, refs, batch_size=8, gpus=1)\n",
        "  return np.mean(scores)\n",
        "\n",
        "def calc_alignscore(preds, docs):\n",
        "  alignscorer = AlignScore(\n",
        "      model='roberta-base', batch_size=16, device='cuda:0',\n",
        "      ckpt_path='./drive/MyDrive/Biolay/evauation_scripts/models/AlignScore/AlignScore-base.ckpt',\n",
        "      evaluation_mode='nli_sp')\n",
        "  return np.mean(alignscorer.score(contexts=docs, claims=preds))\n",
        "\n",
        "def cal_summac(preds, docs):\n",
        "  model_conv = SummaCConv(models=[\"vitc\"], bins='percentile', granularity=\"sentence\", nli_labels=\"e\", device=\"cuda\", start_file=\"default\", agg=\"mean\")\n",
        "  return np.mean(model_conv.score(docs, preds)['scores'])\n",
        "\n",
        "def read_file_lines(path):\n",
        "  with open(path, 'r') as f:\n",
        "    lines = f.readlines()\n",
        "\n",
        "  if path.endswith('.jsonl'):\n",
        "    lines = [json.loads(line) for line in lines]\n",
        "\n",
        "  return lines"
      ],
      "metadata": {
        "id": "GR7AFtzBltfM"
      },
      "execution_count": null,
      "outputs": []
    },
    {
      "cell_type": "code",
      "source": [
        "def generate_predictions(abstracts, model, tokenizer, output_path):\n",
        "    INSTRUCTION = \"summarize, simplify, and contextualize: \"\n",
        "    preds = []\n",
        "    for abstract in abstracts:\n",
        "        inputs = tokenizer(\n",
        "            INSTRUCTION + abstract, return_tensors='pt', truncation=True,\n",
        "            padding=True, max_length=512).to('cuda')\n",
        "        summary_ids = model.generate(\n",
        "            inputs['input_ids'], attention_mask=inputs['attention_mask'],\n",
        "            max_length=512, min_length=300, num_beams=4, temperature=0.4,\n",
        "            early_stopping=True, do_sample=True)\n",
        "        preds.append(tokenizer.decode(summary_ids[0], skip_special_tokens=True))\n",
        "\n",
        "    # Save predictions to a file\n",
        "    with open(output_path, 'w') as f:\n",
        "        for pred in preds:\n",
        "            f.write(pred + '\\n')\n",
        "\n",
        "    return preds\n"
      ],
      "metadata": {
        "id": "WoMgbbmXOu11"
      },
      "execution_count": null,
      "outputs": []
    },
    {
      "cell_type": "code",
      "source": [
        "def evaluate(refs, docs, model, tokenizer):\n",
        "  # Load data from files\n",
        "  preds = generate_predictions(\n",
        "      docs, model_tuned, tokenizer,\n",
        "      './drive/MyDrive/Biolay/Data sets/Elife/results/preds.txt')\n",
        "\n",
        "  score_dict = {}\n",
        "\n",
        "  # Relevance scores\n",
        "  rouge1_score, rouge2_score, rougel_score = calc_rouge(preds, refs)\n",
        "  score_dict['ROUGE1'] = rouge1_score\n",
        "  score_dict['ROUGE2'] = rouge2_score\n",
        "  score_dict['ROUGEL'] = rougel_score\n",
        "  score_dict['BERTScore'] = calc_bertscore(preds, refs)\n",
        "\n",
        "  # # Readability scores\n",
        "  fkgl_score, cli_score, dcrs_score = calc_readability(preds)\n",
        "  score_dict['FKGL'] = fkgl_score\n",
        "  score_dict['DCRS'] = dcrs_score\n",
        "  score_dict['CLI'] = cli_score\n",
        "  score_dict['LENS'] = calc_lens(preds, refs, docs)\n",
        "\n",
        "  # Factuality scores\n",
        "  score_dict['AlignScore'] = calc_alignscore(preds, docs)\n",
        "  score_dict['SummaC'] = cal_summac(preds, docs)\n",
        "\n",
        "  return score_dict"
      ],
      "metadata": {
        "id": "0dC1pseLPr-Y"
      },
      "execution_count": null,
      "outputs": []
    },
    {
      "cell_type": "code",
      "source": [
        "def write_scores(score_dict, output_filepath):\n",
        "  # Write scores to file\n",
        "  with open(output_filepath, 'w') as f:\n",
        "    for key, value in score_dict.items():\n",
        "      f.write(f\"{key}: {value}\\n\")"
      ],
      "metadata": {
        "id": "diZvsFOgPzYp"
      },
      "execution_count": null,
      "outputs": []
    },
    {
      "cell_type": "code",
      "source": [
        "output_dir = \"./drive/MyDrive/Biolay/Data sets/Elife/results/scores\"\n",
        "elife_scores = evaluate(\n",
        "    test_summary_list[0:2], test_abstract_list[0:2], model_tuned, tokenizer)\n",
        "write_scores(elife_scores, os.path.join(output_dir, 'elife_scores.txt'))\n",
        "\n",
        "torch.cuda.empty_cache()"
      ],
      "metadata": {
        "colab": {
          "base_uri": "https://localhost:8080/",
          "height": 478
        },
        "id": "WbhWr5EqS6dU",
        "outputId": "36b96756-4044-4136-92d7-f454def8d1aa"
      },
      "execution_count": null,
      "outputs": [
        {
          "output_type": "error",
          "ename": "UnicodeEncodeError",
          "evalue": "'ascii' codec can't encode character '\\u2019' in position 96: ordinal not in range(128)",
          "traceback": [
            "\u001b[0;31m---------------------------------------------------------------------------\u001b[0m",
            "\u001b[0;31mUnicodeEncodeError\u001b[0m                        Traceback (most recent call last)",
            "\u001b[0;32m<ipython-input-138-2b0fac5fbb33>\u001b[0m in \u001b[0;36m<cell line: 2>\u001b[0;34m()\u001b[0m\n\u001b[1;32m      1\u001b[0m \u001b[0moutput_dir\u001b[0m \u001b[0;34m=\u001b[0m \u001b[0;34m\"./drive/MyDrive/Biolay/Data sets/Elife/results/scores\"\u001b[0m\u001b[0;34m\u001b[0m\u001b[0;34m\u001b[0m\u001b[0m\n\u001b[0;32m----> 2\u001b[0;31m elife_scores = evaluate(\n\u001b[0m\u001b[1;32m      3\u001b[0m     test_summary_list[0:2], test_abstract_list[0:2], model_tuned, tokenizer)\n\u001b[1;32m      4\u001b[0m \u001b[0mwrite_scores\u001b[0m\u001b[0;34m(\u001b[0m\u001b[0melife_scores\u001b[0m\u001b[0;34m,\u001b[0m \u001b[0mos\u001b[0m\u001b[0;34m.\u001b[0m\u001b[0mpath\u001b[0m\u001b[0;34m.\u001b[0m\u001b[0mjoin\u001b[0m\u001b[0;34m(\u001b[0m\u001b[0moutput_dir\u001b[0m\u001b[0;34m,\u001b[0m \u001b[0;34m'elife_scores.txt'\u001b[0m\u001b[0;34m)\u001b[0m\u001b[0;34m)\u001b[0m\u001b[0;34m\u001b[0m\u001b[0;34m\u001b[0m\u001b[0m\n\u001b[1;32m      5\u001b[0m \u001b[0;34m\u001b[0m\u001b[0m\n",
            "\u001b[0;32m<ipython-input-137-8b53708c3e82>\u001b[0m in \u001b[0;36mevaluate\u001b[0;34m(refs, docs, model, tokenizer)\u001b[0m\n\u001b[1;32m      1\u001b[0m \u001b[0;32mdef\u001b[0m \u001b[0mevaluate\u001b[0m\u001b[0;34m(\u001b[0m\u001b[0mrefs\u001b[0m\u001b[0;34m,\u001b[0m \u001b[0mdocs\u001b[0m\u001b[0;34m,\u001b[0m \u001b[0mmodel\u001b[0m\u001b[0;34m,\u001b[0m \u001b[0mtokenizer\u001b[0m\u001b[0;34m)\u001b[0m\u001b[0;34m:\u001b[0m\u001b[0;34m\u001b[0m\u001b[0;34m\u001b[0m\u001b[0m\n\u001b[1;32m      2\u001b[0m   \u001b[0;31m# Load data from files\u001b[0m\u001b[0;34m\u001b[0m\u001b[0;34m\u001b[0m\u001b[0m\n\u001b[0;32m----> 3\u001b[0;31m   preds = generate_predictions(\n\u001b[0m\u001b[1;32m      4\u001b[0m       \u001b[0mdocs\u001b[0m\u001b[0;34m,\u001b[0m \u001b[0mmodel_tuned\u001b[0m\u001b[0;34m,\u001b[0m \u001b[0mtokenizer\u001b[0m\u001b[0;34m,\u001b[0m\u001b[0;34m\u001b[0m\u001b[0;34m\u001b[0m\u001b[0m\n\u001b[1;32m      5\u001b[0m       './drive/MyDrive/Biolay/Data sets/Elife/results/preds.txt')\n",
            "\u001b[0;32m<ipython-input-115-3f0467601d30>\u001b[0m in \u001b[0;36mgenerate_predictions\u001b[0;34m(abstracts, model, tokenizer, output_path)\u001b[0m\n\u001b[1;32m     15\u001b[0m     \u001b[0;32mwith\u001b[0m \u001b[0mopen\u001b[0m\u001b[0;34m(\u001b[0m\u001b[0moutput_path\u001b[0m\u001b[0;34m,\u001b[0m \u001b[0;34m'w'\u001b[0m\u001b[0;34m)\u001b[0m \u001b[0;32mas\u001b[0m \u001b[0mf\u001b[0m\u001b[0;34m:\u001b[0m\u001b[0;34m\u001b[0m\u001b[0;34m\u001b[0m\u001b[0m\n\u001b[1;32m     16\u001b[0m         \u001b[0;32mfor\u001b[0m \u001b[0mpred\u001b[0m \u001b[0;32min\u001b[0m \u001b[0mpreds\u001b[0m\u001b[0;34m:\u001b[0m\u001b[0;34m\u001b[0m\u001b[0;34m\u001b[0m\u001b[0m\n\u001b[0;32m---> 17\u001b[0;31m             \u001b[0mf\u001b[0m\u001b[0;34m.\u001b[0m\u001b[0mwrite\u001b[0m\u001b[0;34m(\u001b[0m\u001b[0mpred\u001b[0m \u001b[0;34m+\u001b[0m \u001b[0;34m'\\n'\u001b[0m\u001b[0;34m)\u001b[0m\u001b[0;34m\u001b[0m\u001b[0;34m\u001b[0m\u001b[0m\n\u001b[0m\u001b[1;32m     18\u001b[0m \u001b[0;34m\u001b[0m\u001b[0m\n\u001b[1;32m     19\u001b[0m     \u001b[0;32mreturn\u001b[0m \u001b[0mpreds\u001b[0m\u001b[0;34m\u001b[0m\u001b[0;34m\u001b[0m\u001b[0m\n",
            "\u001b[0;31mUnicodeEncodeError\u001b[0m: 'ascii' codec can't encode character '\\u2019' in position 96: ordinal not in range(128)"
          ]
        }
      ]
    },
    {
      "cell_type": "code",
      "source": [
        "output_dir = \"./drive/MyDrive/Biolay/Data sets/Elife/results/scores\"\n",
        "elife_scores_base = evaluate(\n",
        "    test_summary_list[0:2], test_abstract_list[0:2], model.to('cuda'), tokenizer)\n",
        "write_scores(elife_scores, os.path.join(output_dir, 'elife_scores_base.txt'))\n",
        "\n",
        "torch.cuda.empty_cache()"
      ],
      "metadata": {
        "colab": {
          "base_uri": "https://localhost:8080/",
          "height": 1000,
          "referenced_widgets": [
            "1692085a60374f21a2e12622c5f9f3fd",
            "81e0d409f377443ab6a0172536213d52",
            "67d69830578b4e6a97c2c41e609031cf",
            "5576c306cf6248498501cbcdec30e299",
            "ddfb3ef7a3d1418eb8c6078b5cb1c819",
            "59e2c9a915504be28257e6ffc6190c32",
            "a528ec2dc7184cc4badadc47e476eec9",
            "cb46a10c8af74abf822e29766ef54b07",
            "85bba078065142fca4b549ead149d724",
            "e19eb0235aae4d42a6fb447b4c5a11f9",
            "e20d34c6cb31440ea43a453e542b5812",
            "a3205e9933ba4933863fd2dd8658e2ce",
            "3bf16d22ddbd4f08b86661c0f0353164",
            "116e7159d9a04042ac12a9d029079720",
            "3d17a4b17613472881956b8d0f6dd825",
            "358988f9fa0e4a9d81e676c84855dfdb",
            "f8e80024065744c994325e3aa67bc84c",
            "880570250e6c4c78bc393e4fcfd304f0",
            "49672ed027e54543b859cbff7f8b6e34",
            "4b39c201307e449eb444daa22dbe4b29",
            "ba5be2d5934f43628565577d54abff83",
            "54fd060b5bbe4372a7125b2a92a7a3e9"
          ]
        },
        "id": "f0gcN_BnEw63",
        "outputId": "8c4f6ce1-314f-45a1-ae5a-dbb52a84906e"
      },
      "execution_count": null,
      "outputs": [
        {
          "output_type": "stream",
          "name": "stderr",
          "text": [
            "Some weights of RobertaModel were not initialized from the model checkpoint at roberta-large and are newly initialized: ['roberta.pooler.dense.bias', 'roberta.pooler.dense.weight']\n",
            "You should probably TRAIN this model on a down-stream task to be able to use it for predictions and inference.\n"
          ]
        },
        {
          "output_type": "stream",
          "name": "stdout",
          "text": [
            "calculating scores...\n",
            "computing bert embedding.\n"
          ]
        },
        {
          "output_type": "display_data",
          "data": {
            "text/plain": [
              "  0%|          | 0/1 [00:00<?, ?it/s]"
            ],
            "application/vnd.jupyter.widget-view+json": {
              "version_major": 2,
              "version_minor": 0,
              "model_id": "1692085a60374f21a2e12622c5f9f3fd"
            }
          },
          "metadata": {}
        },
        {
          "output_type": "stream",
          "name": "stdout",
          "text": [
            "computing greedy matching.\n"
          ]
        },
        {
          "output_type": "display_data",
          "data": {
            "text/plain": [
              "  0%|          | 0/1 [00:00<?, ?it/s]"
            ],
            "application/vnd.jupyter.widget-view+json": {
              "version_major": 2,
              "version_minor": 0,
              "model_id": "a3205e9933ba4933863fd2dd8658e2ce"
            }
          },
          "metadata": {}
        },
        {
          "output_type": "stream",
          "name": "stdout",
          "text": [
            "done in 0.17 seconds, 11.85 sentences/sec\n"
          ]
        },
        {
          "output_type": "error",
          "ename": "TypeError",
          "evalue": "pytorch_lightning.core.module.LightningModule.load_from_checkpoint() got multiple values for keyword argument 'strict'",
          "traceback": [
            "\u001b[0;31m---------------------------------------------------------------------------\u001b[0m",
            "\u001b[0;31mTypeError\u001b[0m                                 Traceback (most recent call last)",
            "\u001b[0;32m<ipython-input-158-5fc6a5f0b0cd>\u001b[0m in \u001b[0;36m<cell line: 2>\u001b[0;34m()\u001b[0m\n\u001b[1;32m      1\u001b[0m \u001b[0moutput_dir\u001b[0m \u001b[0;34m=\u001b[0m \u001b[0;34m\"./drive/MyDrive/Biolay/Data sets/Elife/results/scores\"\u001b[0m\u001b[0;34m\u001b[0m\u001b[0;34m\u001b[0m\u001b[0m\n\u001b[0;32m----> 2\u001b[0;31m elife_scores_base = evaluate(\n\u001b[0m\u001b[1;32m      3\u001b[0m     test_summary_list[0:2], test_abstract_list[0:2], model.to('cuda'), tokenizer)\n\u001b[1;32m      4\u001b[0m \u001b[0mwrite_scores\u001b[0m\u001b[0;34m(\u001b[0m\u001b[0melife_scores\u001b[0m\u001b[0;34m,\u001b[0m \u001b[0mos\u001b[0m\u001b[0;34m.\u001b[0m\u001b[0mpath\u001b[0m\u001b[0;34m.\u001b[0m\u001b[0mjoin\u001b[0m\u001b[0;34m(\u001b[0m\u001b[0moutput_dir\u001b[0m\u001b[0;34m,\u001b[0m \u001b[0;34m'elife_scores_base.txt'\u001b[0m\u001b[0;34m)\u001b[0m\u001b[0;34m)\u001b[0m\u001b[0;34m\u001b[0m\u001b[0;34m\u001b[0m\u001b[0m\n\u001b[1;32m      5\u001b[0m \u001b[0;34m\u001b[0m\u001b[0m\n",
            "\u001b[0;32m<ipython-input-156-8b53708c3e82>\u001b[0m in \u001b[0;36mevaluate\u001b[0;34m(refs, docs, model, tokenizer)\u001b[0m\n\u001b[1;32m     19\u001b[0m   \u001b[0mscore_dict\u001b[0m\u001b[0;34m[\u001b[0m\u001b[0;34m'DCRS'\u001b[0m\u001b[0;34m]\u001b[0m \u001b[0;34m=\u001b[0m \u001b[0mdcrs_score\u001b[0m\u001b[0;34m\u001b[0m\u001b[0;34m\u001b[0m\u001b[0m\n\u001b[1;32m     20\u001b[0m   \u001b[0mscore_dict\u001b[0m\u001b[0;34m[\u001b[0m\u001b[0;34m'CLI'\u001b[0m\u001b[0;34m]\u001b[0m \u001b[0;34m=\u001b[0m \u001b[0mcli_score\u001b[0m\u001b[0;34m\u001b[0m\u001b[0;34m\u001b[0m\u001b[0m\n\u001b[0;32m---> 21\u001b[0;31m   \u001b[0mscore_dict\u001b[0m\u001b[0;34m[\u001b[0m\u001b[0;34m'LENS'\u001b[0m\u001b[0;34m]\u001b[0m \u001b[0;34m=\u001b[0m \u001b[0mcalc_lens\u001b[0m\u001b[0;34m(\u001b[0m\u001b[0mpreds\u001b[0m\u001b[0;34m,\u001b[0m \u001b[0mrefs\u001b[0m\u001b[0;34m,\u001b[0m \u001b[0mdocs\u001b[0m\u001b[0;34m)\u001b[0m\u001b[0;34m\u001b[0m\u001b[0;34m\u001b[0m\u001b[0m\n\u001b[0m\u001b[1;32m     22\u001b[0m \u001b[0;34m\u001b[0m\u001b[0m\n\u001b[1;32m     23\u001b[0m   \u001b[0;31m# Factuality scores\u001b[0m\u001b[0;34m\u001b[0m\u001b[0;34m\u001b[0m\u001b[0m\n",
            "\u001b[0;32m<ipython-input-154-9efe7f5580dc>\u001b[0m in \u001b[0;36mcalc_lens\u001b[0;34m(preds, refs, docs)\u001b[0m\n\u001b[1;32m     25\u001b[0m \u001b[0;32mdef\u001b[0m \u001b[0mcalc_lens\u001b[0m\u001b[0;34m(\u001b[0m\u001b[0mpreds\u001b[0m\u001b[0;34m,\u001b[0m \u001b[0mrefs\u001b[0m\u001b[0;34m,\u001b[0m \u001b[0mdocs\u001b[0m\u001b[0;34m)\u001b[0m\u001b[0;34m:\u001b[0m\u001b[0;34m\u001b[0m\u001b[0;34m\u001b[0m\u001b[0m\n\u001b[1;32m     26\u001b[0m   \u001b[0mmodel_path\u001b[0m \u001b[0;34m=\u001b[0m \u001b[0;34m\"./drive/MyDrive/Biolay/evauation_scripts/models/LENS/LENS/checkpoints/epoch=5-step=6102.ckpt\"\u001b[0m\u001b[0;34m\u001b[0m\u001b[0;34m\u001b[0m\u001b[0m\n\u001b[0;32m---> 27\u001b[0;31m   \u001b[0mmetric\u001b[0m \u001b[0;34m=\u001b[0m \u001b[0mLENS\u001b[0m\u001b[0;34m(\u001b[0m\u001b[0mmodel_path\u001b[0m\u001b[0;34m,\u001b[0m \u001b[0mrescale\u001b[0m\u001b[0;34m=\u001b[0m\u001b[0;32mTrue\u001b[0m\u001b[0;34m)\u001b[0m\u001b[0;34m\u001b[0m\u001b[0;34m\u001b[0m\u001b[0m\n\u001b[0m\u001b[1;32m     28\u001b[0m   \u001b[0mabstracts\u001b[0m \u001b[0;34m=\u001b[0m \u001b[0;34m[\u001b[0m\u001b[0md\u001b[0m\u001b[0;34m.\u001b[0m\u001b[0msplit\u001b[0m\u001b[0;34m(\u001b[0m\u001b[0;34m\"\\n\"\u001b[0m\u001b[0;34m)\u001b[0m\u001b[0;34m[\u001b[0m\u001b[0;36m0\u001b[0m\u001b[0;34m]\u001b[0m \u001b[0;32mfor\u001b[0m \u001b[0md\u001b[0m \u001b[0;32min\u001b[0m \u001b[0mdocs\u001b[0m\u001b[0;34m]\u001b[0m\u001b[0;34m\u001b[0m\u001b[0;34m\u001b[0m\u001b[0m\n\u001b[1;32m     29\u001b[0m   \u001b[0mrefs\u001b[0m \u001b[0;34m=\u001b[0m \u001b[0;34m[\u001b[0m\u001b[0;34m[\u001b[0m\u001b[0mx\u001b[0m\u001b[0;34m]\u001b[0m \u001b[0;32mfor\u001b[0m \u001b[0mx\u001b[0m \u001b[0;32min\u001b[0m \u001b[0mrefs\u001b[0m\u001b[0;34m]\u001b[0m\u001b[0;34m\u001b[0m\u001b[0;34m\u001b[0m\u001b[0m\n",
            "\u001b[0;32m/usr/local/lib/python3.10/dist-packages/lens/lens_score.py\u001b[0m in \u001b[0;36m__init__\u001b[0;34m(self, path, rescale)\u001b[0m\n\u001b[1;32m     10\u001b[0m \u001b[0;34m\u001b[0m\u001b[0m\n\u001b[1;32m     11\u001b[0m \u001b[0;34m\u001b[0m\u001b[0m\n\u001b[0;32m---> 12\u001b[0;31m     def score(self, complex, simplified, references,\n\u001b[0m\u001b[1;32m     13\u001b[0m               batch_size=16, gpus=1):\n\u001b[1;32m     14\u001b[0m \u001b[0;34m\u001b[0m\u001b[0m\n",
            "\u001b[0;32m/usr/local/lib/python3.10/dist-packages/lens/models/__init__.py\u001b[0m in \u001b[0;36mload_from_checkpoint\u001b[0;34m(checkpoint_path)\u001b[0m\n",
            "\u001b[0;31mTypeError\u001b[0m: pytorch_lightning.core.module.LightningModule.load_from_checkpoint() got multiple values for keyword argument 'strict'"
          ]
        }
      ]
    },
    {
      "cell_type": "markdown",
      "source": [
        "###NOTES"
      ],
      "metadata": {
        "id": "L-2qXiIq-4Pq"
      }
    },
    {
      "cell_type": "code",
      "source": [
        "predictions = generate_predictions(\n",
        "      test_abstract_list[0:2], model_tuned, tokenizer,\n",
        "      './drive/MyDrive/Biolay/Data sets/Elife/results/preds.txt')"
      ],
      "metadata": {
        "colab": {
          "base_uri": "https://localhost:8080/",
          "height": 367
        },
        "id": "sAXUUbuF5xQx",
        "outputId": "4c674b3e-9f7b-4e57-a100-7ee33e7024dd"
      },
      "execution_count": null,
      "outputs": [
        {
          "output_type": "error",
          "ename": "UnicodeEncodeError",
          "evalue": "'ascii' codec can't encode character '\\u2019' in position 96: ordinal not in range(128)",
          "traceback": [
            "\u001b[0;31m---------------------------------------------------------------------------\u001b[0m",
            "\u001b[0;31mUnicodeEncodeError\u001b[0m                        Traceback (most recent call last)",
            "\u001b[0;32m<ipython-input-136-46b326816e30>\u001b[0m in \u001b[0;36m<cell line: 1>\u001b[0;34m()\u001b[0m\n\u001b[0;32m----> 1\u001b[0;31m predictions = generate_predictions(\n\u001b[0m\u001b[1;32m      2\u001b[0m       \u001b[0mtest_abstract_list\u001b[0m\u001b[0;34m[\u001b[0m\u001b[0;36m0\u001b[0m\u001b[0;34m:\u001b[0m\u001b[0;36m2\u001b[0m\u001b[0;34m]\u001b[0m\u001b[0;34m,\u001b[0m \u001b[0mmodel_tuned\u001b[0m\u001b[0;34m,\u001b[0m \u001b[0mtokenizer\u001b[0m\u001b[0;34m,\u001b[0m\u001b[0;34m\u001b[0m\u001b[0;34m\u001b[0m\u001b[0m\n\u001b[1;32m      3\u001b[0m       './drive/MyDrive/Biolay/Data sets/Elife/results/preds.txt')\n",
            "\u001b[0;32m<ipython-input-115-3f0467601d30>\u001b[0m in \u001b[0;36mgenerate_predictions\u001b[0;34m(abstracts, model, tokenizer, output_path)\u001b[0m\n\u001b[1;32m     15\u001b[0m     \u001b[0;32mwith\u001b[0m \u001b[0mopen\u001b[0m\u001b[0;34m(\u001b[0m\u001b[0moutput_path\u001b[0m\u001b[0;34m,\u001b[0m \u001b[0;34m'w'\u001b[0m\u001b[0;34m)\u001b[0m \u001b[0;32mas\u001b[0m \u001b[0mf\u001b[0m\u001b[0;34m:\u001b[0m\u001b[0;34m\u001b[0m\u001b[0;34m\u001b[0m\u001b[0m\n\u001b[1;32m     16\u001b[0m         \u001b[0;32mfor\u001b[0m \u001b[0mpred\u001b[0m \u001b[0;32min\u001b[0m \u001b[0mpreds\u001b[0m\u001b[0;34m:\u001b[0m\u001b[0;34m\u001b[0m\u001b[0;34m\u001b[0m\u001b[0m\n\u001b[0;32m---> 17\u001b[0;31m             \u001b[0mf\u001b[0m\u001b[0;34m.\u001b[0m\u001b[0mwrite\u001b[0m\u001b[0;34m(\u001b[0m\u001b[0mpred\u001b[0m \u001b[0;34m+\u001b[0m \u001b[0;34m'\\n'\u001b[0m\u001b[0;34m)\u001b[0m\u001b[0;34m\u001b[0m\u001b[0;34m\u001b[0m\u001b[0m\n\u001b[0m\u001b[1;32m     18\u001b[0m \u001b[0;34m\u001b[0m\u001b[0m\n\u001b[1;32m     19\u001b[0m     \u001b[0;32mreturn\u001b[0m \u001b[0mpreds\u001b[0m\u001b[0;34m\u001b[0m\u001b[0;34m\u001b[0m\u001b[0m\n",
            "\u001b[0;31mUnicodeEncodeError\u001b[0m: 'ascii' codec can't encode character '\\u2019' in position 96: ordinal not in range(128)"
          ]
        }
      ]
    },
    {
      "cell_type": "code",
      "source": [
        "test_abstract_list[0]"
      ],
      "metadata": {
        "colab": {
          "base_uri": "https://localhost:8080/",
          "height": 261
        },
        "id": "UbGVY4aT5WTM",
        "outputId": "34f21b16-7750-4ae1-e580-773e39d6fe40"
      },
      "execution_count": null,
      "outputs": [
        {
          "output_type": "execute_result",
          "data": {
            "text/plain": [
              "'Most movements are not unitary , but are comprised of sequences . Although patients with cerebellar pathology display severe deficits in the execution and learning of sequences ( Doyon et al . , 1997; Shin and Ivry , 2003 ) , most of our understanding of cerebellar mechanisms has come from analyses of single component movements . Eyelid conditioning is a cerebellar-mediated behavior that provides the ability to control and restrict inputs to the cerebellum through stimulation of mossy fibers . We utilized this advantage to test directly how the cerebellum can learn a sequence of inter-connected movement components in rabbits . We show that the feedback signals from one component are sufficient to serve as a cue for the next component in the sequence . In vivo recordings from Purkinje cells demonstrated that all components of the sequence were encoded similarly by cerebellar cortex . These results provide a simple yet general framework for how the cerebellum can use simple associate learning processes to chain together a sequence of appropriately timed responses .'"
            ],
            "application/vnd.google.colaboratory.intrinsic+json": {
              "type": "string"
            }
          },
          "metadata": {},
          "execution_count": 46
        }
      ]
    },
    {
      "cell_type": "code",
      "source": [
        "prediction_base = generate_predictions(\n",
        "      test_abstract_list[0:2], model.to('cuda'), tokenizer,\n",
        "      './drive/MyDrive/Biolay/Data sets/Elife/results/preds.txt')"
      ],
      "metadata": {
        "id": "7zImDmP26AFk"
      },
      "execution_count": null,
      "outputs": []
    },
    {
      "cell_type": "code",
      "source": [
        "output_dir = \"./drive/MyDrive/Biolay/Data sets/Elife/results/scores\"\n",
        "elife_scores_base = evaluate(\n",
        "    test_summary_list[0:2], test_abstract_list[0:2], model.to('cuda'), tokenizer)\n",
        "write_scores(elife_scores, os.path.join(output_dir, 'elife_scores_base.txt'))\n",
        "\n",
        "torch.cuda.empty_cache()"
      ],
      "metadata": {
        "id": "L6-t79Vu7FLm"
      },
      "execution_count": null,
      "outputs": []
    },
    {
      "cell_type": "code",
      "source": [],
      "metadata": {
        "id": "6EuyQq9RHhNI"
      },
      "execution_count": null,
      "outputs": []
    }
  ],
  "metadata": {
    "accelerator": "GPU",
    "colab": {
      "gpuType": "L4",
      "machine_shape": "hm",
      "provenance": [],
      "include_colab_link": true
    },
    "kernelspec": {
      "display_name": "Python 3",
      "name": "python3"
    },
    "language_info": {
      "name": "python"
    },
    "widgets": {
      "application/vnd.jupyter.widget-state+json": {
        "1692085a60374f21a2e12622c5f9f3fd": {
          "model_module": "@jupyter-widgets/controls",
          "model_name": "HBoxModel",
          "model_module_version": "1.5.0",
          "state": {
            "_dom_classes": [],
            "_model_module": "@jupyter-widgets/controls",
            "_model_module_version": "1.5.0",
            "_model_name": "HBoxModel",
            "_view_count": null,
            "_view_module": "@jupyter-widgets/controls",
            "_view_module_version": "1.5.0",
            "_view_name": "HBoxView",
            "box_style": "",
            "children": [
              "IPY_MODEL_81e0d409f377443ab6a0172536213d52",
              "IPY_MODEL_67d69830578b4e6a97c2c41e609031cf",
              "IPY_MODEL_5576c306cf6248498501cbcdec30e299"
            ],
            "layout": "IPY_MODEL_ddfb3ef7a3d1418eb8c6078b5cb1c819"
          }
        },
        "81e0d409f377443ab6a0172536213d52": {
          "model_module": "@jupyter-widgets/controls",
          "model_name": "HTMLModel",
          "model_module_version": "1.5.0",
          "state": {
            "_dom_classes": [],
            "_model_module": "@jupyter-widgets/controls",
            "_model_module_version": "1.5.0",
            "_model_name": "HTMLModel",
            "_view_count": null,
            "_view_module": "@jupyter-widgets/controls",
            "_view_module_version": "1.5.0",
            "_view_name": "HTMLView",
            "description": "",
            "description_tooltip": null,
            "layout": "IPY_MODEL_59e2c9a915504be28257e6ffc6190c32",
            "placeholder": "​",
            "style": "IPY_MODEL_a528ec2dc7184cc4badadc47e476eec9",
            "value": "100%"
          }
        },
        "67d69830578b4e6a97c2c41e609031cf": {
          "model_module": "@jupyter-widgets/controls",
          "model_name": "FloatProgressModel",
          "model_module_version": "1.5.0",
          "state": {
            "_dom_classes": [],
            "_model_module": "@jupyter-widgets/controls",
            "_model_module_version": "1.5.0",
            "_model_name": "FloatProgressModel",
            "_view_count": null,
            "_view_module": "@jupyter-widgets/controls",
            "_view_module_version": "1.5.0",
            "_view_name": "ProgressView",
            "bar_style": "success",
            "description": "",
            "description_tooltip": null,
            "layout": "IPY_MODEL_cb46a10c8af74abf822e29766ef54b07",
            "max": 1,
            "min": 0,
            "orientation": "horizontal",
            "style": "IPY_MODEL_85bba078065142fca4b549ead149d724",
            "value": 1
          }
        },
        "5576c306cf6248498501cbcdec30e299": {
          "model_module": "@jupyter-widgets/controls",
          "model_name": "HTMLModel",
          "model_module_version": "1.5.0",
          "state": {
            "_dom_classes": [],
            "_model_module": "@jupyter-widgets/controls",
            "_model_module_version": "1.5.0",
            "_model_name": "HTMLModel",
            "_view_count": null,
            "_view_module": "@jupyter-widgets/controls",
            "_view_module_version": "1.5.0",
            "_view_name": "HTMLView",
            "description": "",
            "description_tooltip": null,
            "layout": "IPY_MODEL_e19eb0235aae4d42a6fb447b4c5a11f9",
            "placeholder": "​",
            "style": "IPY_MODEL_e20d34c6cb31440ea43a453e542b5812",
            "value": " 1/1 [00:00&lt;00:00,  6.91it/s]"
          }
        },
        "ddfb3ef7a3d1418eb8c6078b5cb1c819": {
          "model_module": "@jupyter-widgets/base",
          "model_name": "LayoutModel",
          "model_module_version": "1.2.0",
          "state": {
            "_model_module": "@jupyter-widgets/base",
            "_model_module_version": "1.2.0",
            "_model_name": "LayoutModel",
            "_view_count": null,
            "_view_module": "@jupyter-widgets/base",
            "_view_module_version": "1.2.0",
            "_view_name": "LayoutView",
            "align_content": null,
            "align_items": null,
            "align_self": null,
            "border": null,
            "bottom": null,
            "display": null,
            "flex": null,
            "flex_flow": null,
            "grid_area": null,
            "grid_auto_columns": null,
            "grid_auto_flow": null,
            "grid_auto_rows": null,
            "grid_column": null,
            "grid_gap": null,
            "grid_row": null,
            "grid_template_areas": null,
            "grid_template_columns": null,
            "grid_template_rows": null,
            "height": null,
            "justify_content": null,
            "justify_items": null,
            "left": null,
            "margin": null,
            "max_height": null,
            "max_width": null,
            "min_height": null,
            "min_width": null,
            "object_fit": null,
            "object_position": null,
            "order": null,
            "overflow": null,
            "overflow_x": null,
            "overflow_y": null,
            "padding": null,
            "right": null,
            "top": null,
            "visibility": null,
            "width": null
          }
        },
        "59e2c9a915504be28257e6ffc6190c32": {
          "model_module": "@jupyter-widgets/base",
          "model_name": "LayoutModel",
          "model_module_version": "1.2.0",
          "state": {
            "_model_module": "@jupyter-widgets/base",
            "_model_module_version": "1.2.0",
            "_model_name": "LayoutModel",
            "_view_count": null,
            "_view_module": "@jupyter-widgets/base",
            "_view_module_version": "1.2.0",
            "_view_name": "LayoutView",
            "align_content": null,
            "align_items": null,
            "align_self": null,
            "border": null,
            "bottom": null,
            "display": null,
            "flex": null,
            "flex_flow": null,
            "grid_area": null,
            "grid_auto_columns": null,
            "grid_auto_flow": null,
            "grid_auto_rows": null,
            "grid_column": null,
            "grid_gap": null,
            "grid_row": null,
            "grid_template_areas": null,
            "grid_template_columns": null,
            "grid_template_rows": null,
            "height": null,
            "justify_content": null,
            "justify_items": null,
            "left": null,
            "margin": null,
            "max_height": null,
            "max_width": null,
            "min_height": null,
            "min_width": null,
            "object_fit": null,
            "object_position": null,
            "order": null,
            "overflow": null,
            "overflow_x": null,
            "overflow_y": null,
            "padding": null,
            "right": null,
            "top": null,
            "visibility": null,
            "width": null
          }
        },
        "a528ec2dc7184cc4badadc47e476eec9": {
          "model_module": "@jupyter-widgets/controls",
          "model_name": "DescriptionStyleModel",
          "model_module_version": "1.5.0",
          "state": {
            "_model_module": "@jupyter-widgets/controls",
            "_model_module_version": "1.5.0",
            "_model_name": "DescriptionStyleModel",
            "_view_count": null,
            "_view_module": "@jupyter-widgets/base",
            "_view_module_version": "1.2.0",
            "_view_name": "StyleView",
            "description_width": ""
          }
        },
        "cb46a10c8af74abf822e29766ef54b07": {
          "model_module": "@jupyter-widgets/base",
          "model_name": "LayoutModel",
          "model_module_version": "1.2.0",
          "state": {
            "_model_module": "@jupyter-widgets/base",
            "_model_module_version": "1.2.0",
            "_model_name": "LayoutModel",
            "_view_count": null,
            "_view_module": "@jupyter-widgets/base",
            "_view_module_version": "1.2.0",
            "_view_name": "LayoutView",
            "align_content": null,
            "align_items": null,
            "align_self": null,
            "border": null,
            "bottom": null,
            "display": null,
            "flex": null,
            "flex_flow": null,
            "grid_area": null,
            "grid_auto_columns": null,
            "grid_auto_flow": null,
            "grid_auto_rows": null,
            "grid_column": null,
            "grid_gap": null,
            "grid_row": null,
            "grid_template_areas": null,
            "grid_template_columns": null,
            "grid_template_rows": null,
            "height": null,
            "justify_content": null,
            "justify_items": null,
            "left": null,
            "margin": null,
            "max_height": null,
            "max_width": null,
            "min_height": null,
            "min_width": null,
            "object_fit": null,
            "object_position": null,
            "order": null,
            "overflow": null,
            "overflow_x": null,
            "overflow_y": null,
            "padding": null,
            "right": null,
            "top": null,
            "visibility": null,
            "width": null
          }
        },
        "85bba078065142fca4b549ead149d724": {
          "model_module": "@jupyter-widgets/controls",
          "model_name": "ProgressStyleModel",
          "model_module_version": "1.5.0",
          "state": {
            "_model_module": "@jupyter-widgets/controls",
            "_model_module_version": "1.5.0",
            "_model_name": "ProgressStyleModel",
            "_view_count": null,
            "_view_module": "@jupyter-widgets/base",
            "_view_module_version": "1.2.0",
            "_view_name": "StyleView",
            "bar_color": null,
            "description_width": ""
          }
        },
        "e19eb0235aae4d42a6fb447b4c5a11f9": {
          "model_module": "@jupyter-widgets/base",
          "model_name": "LayoutModel",
          "model_module_version": "1.2.0",
          "state": {
            "_model_module": "@jupyter-widgets/base",
            "_model_module_version": "1.2.0",
            "_model_name": "LayoutModel",
            "_view_count": null,
            "_view_module": "@jupyter-widgets/base",
            "_view_module_version": "1.2.0",
            "_view_name": "LayoutView",
            "align_content": null,
            "align_items": null,
            "align_self": null,
            "border": null,
            "bottom": null,
            "display": null,
            "flex": null,
            "flex_flow": null,
            "grid_area": null,
            "grid_auto_columns": null,
            "grid_auto_flow": null,
            "grid_auto_rows": null,
            "grid_column": null,
            "grid_gap": null,
            "grid_row": null,
            "grid_template_areas": null,
            "grid_template_columns": null,
            "grid_template_rows": null,
            "height": null,
            "justify_content": null,
            "justify_items": null,
            "left": null,
            "margin": null,
            "max_height": null,
            "max_width": null,
            "min_height": null,
            "min_width": null,
            "object_fit": null,
            "object_position": null,
            "order": null,
            "overflow": null,
            "overflow_x": null,
            "overflow_y": null,
            "padding": null,
            "right": null,
            "top": null,
            "visibility": null,
            "width": null
          }
        },
        "e20d34c6cb31440ea43a453e542b5812": {
          "model_module": "@jupyter-widgets/controls",
          "model_name": "DescriptionStyleModel",
          "model_module_version": "1.5.0",
          "state": {
            "_model_module": "@jupyter-widgets/controls",
            "_model_module_version": "1.5.0",
            "_model_name": "DescriptionStyleModel",
            "_view_count": null,
            "_view_module": "@jupyter-widgets/base",
            "_view_module_version": "1.2.0",
            "_view_name": "StyleView",
            "description_width": ""
          }
        },
        "a3205e9933ba4933863fd2dd8658e2ce": {
          "model_module": "@jupyter-widgets/controls",
          "model_name": "HBoxModel",
          "model_module_version": "1.5.0",
          "state": {
            "_dom_classes": [],
            "_model_module": "@jupyter-widgets/controls",
            "_model_module_version": "1.5.0",
            "_model_name": "HBoxModel",
            "_view_count": null,
            "_view_module": "@jupyter-widgets/controls",
            "_view_module_version": "1.5.0",
            "_view_name": "HBoxView",
            "box_style": "",
            "children": [
              "IPY_MODEL_3bf16d22ddbd4f08b86661c0f0353164",
              "IPY_MODEL_116e7159d9a04042ac12a9d029079720",
              "IPY_MODEL_3d17a4b17613472881956b8d0f6dd825"
            ],
            "layout": "IPY_MODEL_358988f9fa0e4a9d81e676c84855dfdb"
          }
        },
        "3bf16d22ddbd4f08b86661c0f0353164": {
          "model_module": "@jupyter-widgets/controls",
          "model_name": "HTMLModel",
          "model_module_version": "1.5.0",
          "state": {
            "_dom_classes": [],
            "_model_module": "@jupyter-widgets/controls",
            "_model_module_version": "1.5.0",
            "_model_name": "HTMLModel",
            "_view_count": null,
            "_view_module": "@jupyter-widgets/controls",
            "_view_module_version": "1.5.0",
            "_view_name": "HTMLView",
            "description": "",
            "description_tooltip": null,
            "layout": "IPY_MODEL_f8e80024065744c994325e3aa67bc84c",
            "placeholder": "​",
            "style": "IPY_MODEL_880570250e6c4c78bc393e4fcfd304f0",
            "value": "100%"
          }
        },
        "116e7159d9a04042ac12a9d029079720": {
          "model_module": "@jupyter-widgets/controls",
          "model_name": "FloatProgressModel",
          "model_module_version": "1.5.0",
          "state": {
            "_dom_classes": [],
            "_model_module": "@jupyter-widgets/controls",
            "_model_module_version": "1.5.0",
            "_model_name": "FloatProgressModel",
            "_view_count": null,
            "_view_module": "@jupyter-widgets/controls",
            "_view_module_version": "1.5.0",
            "_view_name": "ProgressView",
            "bar_style": "success",
            "description": "",
            "description_tooltip": null,
            "layout": "IPY_MODEL_49672ed027e54543b859cbff7f8b6e34",
            "max": 1,
            "min": 0,
            "orientation": "horizontal",
            "style": "IPY_MODEL_4b39c201307e449eb444daa22dbe4b29",
            "value": 1
          }
        },
        "3d17a4b17613472881956b8d0f6dd825": {
          "model_module": "@jupyter-widgets/controls",
          "model_name": "HTMLModel",
          "model_module_version": "1.5.0",
          "state": {
            "_dom_classes": [],
            "_model_module": "@jupyter-widgets/controls",
            "_model_module_version": "1.5.0",
            "_model_name": "HTMLModel",
            "_view_count": null,
            "_view_module": "@jupyter-widgets/controls",
            "_view_module_version": "1.5.0",
            "_view_name": "HTMLView",
            "description": "",
            "description_tooltip": null,
            "layout": "IPY_MODEL_ba5be2d5934f43628565577d54abff83",
            "placeholder": "​",
            "style": "IPY_MODEL_54fd060b5bbe4372a7125b2a92a7a3e9",
            "value": " 1/1 [00:00&lt;00:00, 51.56it/s]"
          }
        },
        "358988f9fa0e4a9d81e676c84855dfdb": {
          "model_module": "@jupyter-widgets/base",
          "model_name": "LayoutModel",
          "model_module_version": "1.2.0",
          "state": {
            "_model_module": "@jupyter-widgets/base",
            "_model_module_version": "1.2.0",
            "_model_name": "LayoutModel",
            "_view_count": null,
            "_view_module": "@jupyter-widgets/base",
            "_view_module_version": "1.2.0",
            "_view_name": "LayoutView",
            "align_content": null,
            "align_items": null,
            "align_self": null,
            "border": null,
            "bottom": null,
            "display": null,
            "flex": null,
            "flex_flow": null,
            "grid_area": null,
            "grid_auto_columns": null,
            "grid_auto_flow": null,
            "grid_auto_rows": null,
            "grid_column": null,
            "grid_gap": null,
            "grid_row": null,
            "grid_template_areas": null,
            "grid_template_columns": null,
            "grid_template_rows": null,
            "height": null,
            "justify_content": null,
            "justify_items": null,
            "left": null,
            "margin": null,
            "max_height": null,
            "max_width": null,
            "min_height": null,
            "min_width": null,
            "object_fit": null,
            "object_position": null,
            "order": null,
            "overflow": null,
            "overflow_x": null,
            "overflow_y": null,
            "padding": null,
            "right": null,
            "top": null,
            "visibility": null,
            "width": null
          }
        },
        "f8e80024065744c994325e3aa67bc84c": {
          "model_module": "@jupyter-widgets/base",
          "model_name": "LayoutModel",
          "model_module_version": "1.2.0",
          "state": {
            "_model_module": "@jupyter-widgets/base",
            "_model_module_version": "1.2.0",
            "_model_name": "LayoutModel",
            "_view_count": null,
            "_view_module": "@jupyter-widgets/base",
            "_view_module_version": "1.2.0",
            "_view_name": "LayoutView",
            "align_content": null,
            "align_items": null,
            "align_self": null,
            "border": null,
            "bottom": null,
            "display": null,
            "flex": null,
            "flex_flow": null,
            "grid_area": null,
            "grid_auto_columns": null,
            "grid_auto_flow": null,
            "grid_auto_rows": null,
            "grid_column": null,
            "grid_gap": null,
            "grid_row": null,
            "grid_template_areas": null,
            "grid_template_columns": null,
            "grid_template_rows": null,
            "height": null,
            "justify_content": null,
            "justify_items": null,
            "left": null,
            "margin": null,
            "max_height": null,
            "max_width": null,
            "min_height": null,
            "min_width": null,
            "object_fit": null,
            "object_position": null,
            "order": null,
            "overflow": null,
            "overflow_x": null,
            "overflow_y": null,
            "padding": null,
            "right": null,
            "top": null,
            "visibility": null,
            "width": null
          }
        },
        "880570250e6c4c78bc393e4fcfd304f0": {
          "model_module": "@jupyter-widgets/controls",
          "model_name": "DescriptionStyleModel",
          "model_module_version": "1.5.0",
          "state": {
            "_model_module": "@jupyter-widgets/controls",
            "_model_module_version": "1.5.0",
            "_model_name": "DescriptionStyleModel",
            "_view_count": null,
            "_view_module": "@jupyter-widgets/base",
            "_view_module_version": "1.2.0",
            "_view_name": "StyleView",
            "description_width": ""
          }
        },
        "49672ed027e54543b859cbff7f8b6e34": {
          "model_module": "@jupyter-widgets/base",
          "model_name": "LayoutModel",
          "model_module_version": "1.2.0",
          "state": {
            "_model_module": "@jupyter-widgets/base",
            "_model_module_version": "1.2.0",
            "_model_name": "LayoutModel",
            "_view_count": null,
            "_view_module": "@jupyter-widgets/base",
            "_view_module_version": "1.2.0",
            "_view_name": "LayoutView",
            "align_content": null,
            "align_items": null,
            "align_self": null,
            "border": null,
            "bottom": null,
            "display": null,
            "flex": null,
            "flex_flow": null,
            "grid_area": null,
            "grid_auto_columns": null,
            "grid_auto_flow": null,
            "grid_auto_rows": null,
            "grid_column": null,
            "grid_gap": null,
            "grid_row": null,
            "grid_template_areas": null,
            "grid_template_columns": null,
            "grid_template_rows": null,
            "height": null,
            "justify_content": null,
            "justify_items": null,
            "left": null,
            "margin": null,
            "max_height": null,
            "max_width": null,
            "min_height": null,
            "min_width": null,
            "object_fit": null,
            "object_position": null,
            "order": null,
            "overflow": null,
            "overflow_x": null,
            "overflow_y": null,
            "padding": null,
            "right": null,
            "top": null,
            "visibility": null,
            "width": null
          }
        },
        "4b39c201307e449eb444daa22dbe4b29": {
          "model_module": "@jupyter-widgets/controls",
          "model_name": "ProgressStyleModel",
          "model_module_version": "1.5.0",
          "state": {
            "_model_module": "@jupyter-widgets/controls",
            "_model_module_version": "1.5.0",
            "_model_name": "ProgressStyleModel",
            "_view_count": null,
            "_view_module": "@jupyter-widgets/base",
            "_view_module_version": "1.2.0",
            "_view_name": "StyleView",
            "bar_color": null,
            "description_width": ""
          }
        },
        "ba5be2d5934f43628565577d54abff83": {
          "model_module": "@jupyter-widgets/base",
          "model_name": "LayoutModel",
          "model_module_version": "1.2.0",
          "state": {
            "_model_module": "@jupyter-widgets/base",
            "_model_module_version": "1.2.0",
            "_model_name": "LayoutModel",
            "_view_count": null,
            "_view_module": "@jupyter-widgets/base",
            "_view_module_version": "1.2.0",
            "_view_name": "LayoutView",
            "align_content": null,
            "align_items": null,
            "align_self": null,
            "border": null,
            "bottom": null,
            "display": null,
            "flex": null,
            "flex_flow": null,
            "grid_area": null,
            "grid_auto_columns": null,
            "grid_auto_flow": null,
            "grid_auto_rows": null,
            "grid_column": null,
            "grid_gap": null,
            "grid_row": null,
            "grid_template_areas": null,
            "grid_template_columns": null,
            "grid_template_rows": null,
            "height": null,
            "justify_content": null,
            "justify_items": null,
            "left": null,
            "margin": null,
            "max_height": null,
            "max_width": null,
            "min_height": null,
            "min_width": null,
            "object_fit": null,
            "object_position": null,
            "order": null,
            "overflow": null,
            "overflow_x": null,
            "overflow_y": null,
            "padding": null,
            "right": null,
            "top": null,
            "visibility": null,
            "width": null
          }
        },
        "54fd060b5bbe4372a7125b2a92a7a3e9": {
          "model_module": "@jupyter-widgets/controls",
          "model_name": "DescriptionStyleModel",
          "model_module_version": "1.5.0",
          "state": {
            "_model_module": "@jupyter-widgets/controls",
            "_model_module_version": "1.5.0",
            "_model_name": "DescriptionStyleModel",
            "_view_count": null,
            "_view_module": "@jupyter-widgets/base",
            "_view_module_version": "1.2.0",
            "_view_name": "StyleView",
            "description_width": ""
          }
        },
        "4f14300b8bf840a9b8a2057a06fba1b5": {
          "model_module": "@jupyter-widgets/controls",
          "model_name": "HBoxModel",
          "model_module_version": "1.5.0",
          "state": {
            "_dom_classes": [],
            "_model_module": "@jupyter-widgets/controls",
            "_model_module_version": "1.5.0",
            "_model_name": "HBoxModel",
            "_view_count": null,
            "_view_module": "@jupyter-widgets/controls",
            "_view_module_version": "1.5.0",
            "_view_name": "HBoxView",
            "box_style": "",
            "children": [
              "IPY_MODEL_b38d03166c99496482245855f0a1dca0",
              "IPY_MODEL_c7bbe086498246a79698757b5f353d66",
              "IPY_MODEL_c55f62f2de0843a6957785ca9c16be81"
            ],
            "layout": "IPY_MODEL_a26c7d582ed34b28b8c411aae2b7bf38"
          }
        },
        "b38d03166c99496482245855f0a1dca0": {
          "model_module": "@jupyter-widgets/controls",
          "model_name": "HTMLModel",
          "model_module_version": "1.5.0",
          "state": {
            "_dom_classes": [],
            "_model_module": "@jupyter-widgets/controls",
            "_model_module_version": "1.5.0",
            "_model_name": "HTMLModel",
            "_view_count": null,
            "_view_module": "@jupyter-widgets/controls",
            "_view_module_version": "1.5.0",
            "_view_name": "HTMLView",
            "description": "",
            "description_tooltip": null,
            "layout": "IPY_MODEL_f6f26595b25649fe9c46f1a3b7edccff",
            "placeholder": "​",
            "style": "IPY_MODEL_c59058a51fb746d4a4670976c110b2d8",
            "value": "tokenizer_config.json: 100%"
          }
        },
        "c7bbe086498246a79698757b5f353d66": {
          "model_module": "@jupyter-widgets/controls",
          "model_name": "FloatProgressModel",
          "model_module_version": "1.5.0",
          "state": {
            "_dom_classes": [],
            "_model_module": "@jupyter-widgets/controls",
            "_model_module_version": "1.5.0",
            "_model_name": "FloatProgressModel",
            "_view_count": null,
            "_view_module": "@jupyter-widgets/controls",
            "_view_module_version": "1.5.0",
            "_view_name": "ProgressView",
            "bar_style": "success",
            "description": "",
            "description_tooltip": null,
            "layout": "IPY_MODEL_ca2310ff55344607b154a49182ba8ca9",
            "max": 2539,
            "min": 0,
            "orientation": "horizontal",
            "style": "IPY_MODEL_0ff9b3e84b104089b7268711a613e444",
            "value": 2539
          }
        },
        "c55f62f2de0843a6957785ca9c16be81": {
          "model_module": "@jupyter-widgets/controls",
          "model_name": "HTMLModel",
          "model_module_version": "1.5.0",
          "state": {
            "_dom_classes": [],
            "_model_module": "@jupyter-widgets/controls",
            "_model_module_version": "1.5.0",
            "_model_name": "HTMLModel",
            "_view_count": null,
            "_view_module": "@jupyter-widgets/controls",
            "_view_module_version": "1.5.0",
            "_view_name": "HTMLView",
            "description": "",
            "description_tooltip": null,
            "layout": "IPY_MODEL_a83f7666ae5841f8a7706c0364e6b86d",
            "placeholder": "​",
            "style": "IPY_MODEL_8e2514f589de48ae9a29274cbab6ce9d",
            "value": " 2.54k/2.54k [00:00&lt;00:00, 193kB/s]"
          }
        },
        "a26c7d582ed34b28b8c411aae2b7bf38": {
          "model_module": "@jupyter-widgets/base",
          "model_name": "LayoutModel",
          "model_module_version": "1.2.0",
          "state": {
            "_model_module": "@jupyter-widgets/base",
            "_model_module_version": "1.2.0",
            "_model_name": "LayoutModel",
            "_view_count": null,
            "_view_module": "@jupyter-widgets/base",
            "_view_module_version": "1.2.0",
            "_view_name": "LayoutView",
            "align_content": null,
            "align_items": null,
            "align_self": null,
            "border": null,
            "bottom": null,
            "display": null,
            "flex": null,
            "flex_flow": null,
            "grid_area": null,
            "grid_auto_columns": null,
            "grid_auto_flow": null,
            "grid_auto_rows": null,
            "grid_column": null,
            "grid_gap": null,
            "grid_row": null,
            "grid_template_areas": null,
            "grid_template_columns": null,
            "grid_template_rows": null,
            "height": null,
            "justify_content": null,
            "justify_items": null,
            "left": null,
            "margin": null,
            "max_height": null,
            "max_width": null,
            "min_height": null,
            "min_width": null,
            "object_fit": null,
            "object_position": null,
            "order": null,
            "overflow": null,
            "overflow_x": null,
            "overflow_y": null,
            "padding": null,
            "right": null,
            "top": null,
            "visibility": null,
            "width": null
          }
        },
        "f6f26595b25649fe9c46f1a3b7edccff": {
          "model_module": "@jupyter-widgets/base",
          "model_name": "LayoutModel",
          "model_module_version": "1.2.0",
          "state": {
            "_model_module": "@jupyter-widgets/base",
            "_model_module_version": "1.2.0",
            "_model_name": "LayoutModel",
            "_view_count": null,
            "_view_module": "@jupyter-widgets/base",
            "_view_module_version": "1.2.0",
            "_view_name": "LayoutView",
            "align_content": null,
            "align_items": null,
            "align_self": null,
            "border": null,
            "bottom": null,
            "display": null,
            "flex": null,
            "flex_flow": null,
            "grid_area": null,
            "grid_auto_columns": null,
            "grid_auto_flow": null,
            "grid_auto_rows": null,
            "grid_column": null,
            "grid_gap": null,
            "grid_row": null,
            "grid_template_areas": null,
            "grid_template_columns": null,
            "grid_template_rows": null,
            "height": null,
            "justify_content": null,
            "justify_items": null,
            "left": null,
            "margin": null,
            "max_height": null,
            "max_width": null,
            "min_height": null,
            "min_width": null,
            "object_fit": null,
            "object_position": null,
            "order": null,
            "overflow": null,
            "overflow_x": null,
            "overflow_y": null,
            "padding": null,
            "right": null,
            "top": null,
            "visibility": null,
            "width": null
          }
        },
        "c59058a51fb746d4a4670976c110b2d8": {
          "model_module": "@jupyter-widgets/controls",
          "model_name": "DescriptionStyleModel",
          "model_module_version": "1.5.0",
          "state": {
            "_model_module": "@jupyter-widgets/controls",
            "_model_module_version": "1.5.0",
            "_model_name": "DescriptionStyleModel",
            "_view_count": null,
            "_view_module": "@jupyter-widgets/base",
            "_view_module_version": "1.2.0",
            "_view_name": "StyleView",
            "description_width": ""
          }
        },
        "ca2310ff55344607b154a49182ba8ca9": {
          "model_module": "@jupyter-widgets/base",
          "model_name": "LayoutModel",
          "model_module_version": "1.2.0",
          "state": {
            "_model_module": "@jupyter-widgets/base",
            "_model_module_version": "1.2.0",
            "_model_name": "LayoutModel",
            "_view_count": null,
            "_view_module": "@jupyter-widgets/base",
            "_view_module_version": "1.2.0",
            "_view_name": "LayoutView",
            "align_content": null,
            "align_items": null,
            "align_self": null,
            "border": null,
            "bottom": null,
            "display": null,
            "flex": null,
            "flex_flow": null,
            "grid_area": null,
            "grid_auto_columns": null,
            "grid_auto_flow": null,
            "grid_auto_rows": null,
            "grid_column": null,
            "grid_gap": null,
            "grid_row": null,
            "grid_template_areas": null,
            "grid_template_columns": null,
            "grid_template_rows": null,
            "height": null,
            "justify_content": null,
            "justify_items": null,
            "left": null,
            "margin": null,
            "max_height": null,
            "max_width": null,
            "min_height": null,
            "min_width": null,
            "object_fit": null,
            "object_position": null,
            "order": null,
            "overflow": null,
            "overflow_x": null,
            "overflow_y": null,
            "padding": null,
            "right": null,
            "top": null,
            "visibility": null,
            "width": null
          }
        },
        "0ff9b3e84b104089b7268711a613e444": {
          "model_module": "@jupyter-widgets/controls",
          "model_name": "ProgressStyleModel",
          "model_module_version": "1.5.0",
          "state": {
            "_model_module": "@jupyter-widgets/controls",
            "_model_module_version": "1.5.0",
            "_model_name": "ProgressStyleModel",
            "_view_count": null,
            "_view_module": "@jupyter-widgets/base",
            "_view_module_version": "1.2.0",
            "_view_name": "StyleView",
            "bar_color": null,
            "description_width": ""
          }
        },
        "a83f7666ae5841f8a7706c0364e6b86d": {
          "model_module": "@jupyter-widgets/base",
          "model_name": "LayoutModel",
          "model_module_version": "1.2.0",
          "state": {
            "_model_module": "@jupyter-widgets/base",
            "_model_module_version": "1.2.0",
            "_model_name": "LayoutModel",
            "_view_count": null,
            "_view_module": "@jupyter-widgets/base",
            "_view_module_version": "1.2.0",
            "_view_name": "LayoutView",
            "align_content": null,
            "align_items": null,
            "align_self": null,
            "border": null,
            "bottom": null,
            "display": null,
            "flex": null,
            "flex_flow": null,
            "grid_area": null,
            "grid_auto_columns": null,
            "grid_auto_flow": null,
            "grid_auto_rows": null,
            "grid_column": null,
            "grid_gap": null,
            "grid_row": null,
            "grid_template_areas": null,
            "grid_template_columns": null,
            "grid_template_rows": null,
            "height": null,
            "justify_content": null,
            "justify_items": null,
            "left": null,
            "margin": null,
            "max_height": null,
            "max_width": null,
            "min_height": null,
            "min_width": null,
            "object_fit": null,
            "object_position": null,
            "order": null,
            "overflow": null,
            "overflow_x": null,
            "overflow_y": null,
            "padding": null,
            "right": null,
            "top": null,
            "visibility": null,
            "width": null
          }
        },
        "8e2514f589de48ae9a29274cbab6ce9d": {
          "model_module": "@jupyter-widgets/controls",
          "model_name": "DescriptionStyleModel",
          "model_module_version": "1.5.0",
          "state": {
            "_model_module": "@jupyter-widgets/controls",
            "_model_module_version": "1.5.0",
            "_model_name": "DescriptionStyleModel",
            "_view_count": null,
            "_view_module": "@jupyter-widgets/base",
            "_view_module_version": "1.2.0",
            "_view_name": "StyleView",
            "description_width": ""
          }
        },
        "429335c4c2964b54931b7f9b9509f483": {
          "model_module": "@jupyter-widgets/controls",
          "model_name": "HBoxModel",
          "model_module_version": "1.5.0",
          "state": {
            "_dom_classes": [],
            "_model_module": "@jupyter-widgets/controls",
            "_model_module_version": "1.5.0",
            "_model_name": "HBoxModel",
            "_view_count": null,
            "_view_module": "@jupyter-widgets/controls",
            "_view_module_version": "1.5.0",
            "_view_name": "HBoxView",
            "box_style": "",
            "children": [
              "IPY_MODEL_977b7a56f27142bbb7d6813deac5b859",
              "IPY_MODEL_465d9b623f50409ea278e9f249625d98",
              "IPY_MODEL_ffec1ce1dee14e68a6818844648f2b0b"
            ],
            "layout": "IPY_MODEL_4bf9f9c0a6ce4d66b852b6901e5f513c"
          }
        },
        "977b7a56f27142bbb7d6813deac5b859": {
          "model_module": "@jupyter-widgets/controls",
          "model_name": "HTMLModel",
          "model_module_version": "1.5.0",
          "state": {
            "_dom_classes": [],
            "_model_module": "@jupyter-widgets/controls",
            "_model_module_version": "1.5.0",
            "_model_name": "HTMLModel",
            "_view_count": null,
            "_view_module": "@jupyter-widgets/controls",
            "_view_module_version": "1.5.0",
            "_view_name": "HTMLView",
            "description": "",
            "description_tooltip": null,
            "layout": "IPY_MODEL_1211c75ba1984056979ac45ee69353bd",
            "placeholder": "​",
            "style": "IPY_MODEL_88ee7fab06b0445ea0fb0f5ec4daf2d8",
            "value": "tokenizer.json: 100%"
          }
        },
        "465d9b623f50409ea278e9f249625d98": {
          "model_module": "@jupyter-widgets/controls",
          "model_name": "FloatProgressModel",
          "model_module_version": "1.5.0",
          "state": {
            "_dom_classes": [],
            "_model_module": "@jupyter-widgets/controls",
            "_model_module_version": "1.5.0",
            "_model_name": "FloatProgressModel",
            "_view_count": null,
            "_view_module": "@jupyter-widgets/controls",
            "_view_module_version": "1.5.0",
            "_view_name": "ProgressView",
            "bar_style": "success",
            "description": "",
            "description_tooltip": null,
            "layout": "IPY_MODEL_13dfb1377f234542b5655f04ddb47c12",
            "max": 2422164,
            "min": 0,
            "orientation": "horizontal",
            "style": "IPY_MODEL_17ec3b1b740244f89053d0f67b4d0079",
            "value": 2422164
          }
        },
        "ffec1ce1dee14e68a6818844648f2b0b": {
          "model_module": "@jupyter-widgets/controls",
          "model_name": "HTMLModel",
          "model_module_version": "1.5.0",
          "state": {
            "_dom_classes": [],
            "_model_module": "@jupyter-widgets/controls",
            "_model_module_version": "1.5.0",
            "_model_name": "HTMLModel",
            "_view_count": null,
            "_view_module": "@jupyter-widgets/controls",
            "_view_module_version": "1.5.0",
            "_view_name": "HTMLView",
            "description": "",
            "description_tooltip": null,
            "layout": "IPY_MODEL_b41016a7a62748f2b1a78bdc3949ed78",
            "placeholder": "​",
            "style": "IPY_MODEL_00219c9dde024373adbce4872d55d58b",
            "value": " 2.42M/2.42M [00:00&lt;00:00, 50.2MB/s]"
          }
        },
        "4bf9f9c0a6ce4d66b852b6901e5f513c": {
          "model_module": "@jupyter-widgets/base",
          "model_name": "LayoutModel",
          "model_module_version": "1.2.0",
          "state": {
            "_model_module": "@jupyter-widgets/base",
            "_model_module_version": "1.2.0",
            "_model_name": "LayoutModel",
            "_view_count": null,
            "_view_module": "@jupyter-widgets/base",
            "_view_module_version": "1.2.0",
            "_view_name": "LayoutView",
            "align_content": null,
            "align_items": null,
            "align_self": null,
            "border": null,
            "bottom": null,
            "display": null,
            "flex": null,
            "flex_flow": null,
            "grid_area": null,
            "grid_auto_columns": null,
            "grid_auto_flow": null,
            "grid_auto_rows": null,
            "grid_column": null,
            "grid_gap": null,
            "grid_row": null,
            "grid_template_areas": null,
            "grid_template_columns": null,
            "grid_template_rows": null,
            "height": null,
            "justify_content": null,
            "justify_items": null,
            "left": null,
            "margin": null,
            "max_height": null,
            "max_width": null,
            "min_height": null,
            "min_width": null,
            "object_fit": null,
            "object_position": null,
            "order": null,
            "overflow": null,
            "overflow_x": null,
            "overflow_y": null,
            "padding": null,
            "right": null,
            "top": null,
            "visibility": null,
            "width": null
          }
        },
        "1211c75ba1984056979ac45ee69353bd": {
          "model_module": "@jupyter-widgets/base",
          "model_name": "LayoutModel",
          "model_module_version": "1.2.0",
          "state": {
            "_model_module": "@jupyter-widgets/base",
            "_model_module_version": "1.2.0",
            "_model_name": "LayoutModel",
            "_view_count": null,
            "_view_module": "@jupyter-widgets/base",
            "_view_module_version": "1.2.0",
            "_view_name": "LayoutView",
            "align_content": null,
            "align_items": null,
            "align_self": null,
            "border": null,
            "bottom": null,
            "display": null,
            "flex": null,
            "flex_flow": null,
            "grid_area": null,
            "grid_auto_columns": null,
            "grid_auto_flow": null,
            "grid_auto_rows": null,
            "grid_column": null,
            "grid_gap": null,
            "grid_row": null,
            "grid_template_areas": null,
            "grid_template_columns": null,
            "grid_template_rows": null,
            "height": null,
            "justify_content": null,
            "justify_items": null,
            "left": null,
            "margin": null,
            "max_height": null,
            "max_width": null,
            "min_height": null,
            "min_width": null,
            "object_fit": null,
            "object_position": null,
            "order": null,
            "overflow": null,
            "overflow_x": null,
            "overflow_y": null,
            "padding": null,
            "right": null,
            "top": null,
            "visibility": null,
            "width": null
          }
        },
        "88ee7fab06b0445ea0fb0f5ec4daf2d8": {
          "model_module": "@jupyter-widgets/controls",
          "model_name": "DescriptionStyleModel",
          "model_module_version": "1.5.0",
          "state": {
            "_model_module": "@jupyter-widgets/controls",
            "_model_module_version": "1.5.0",
            "_model_name": "DescriptionStyleModel",
            "_view_count": null,
            "_view_module": "@jupyter-widgets/base",
            "_view_module_version": "1.2.0",
            "_view_name": "StyleView",
            "description_width": ""
          }
        },
        "13dfb1377f234542b5655f04ddb47c12": {
          "model_module": "@jupyter-widgets/base",
          "model_name": "LayoutModel",
          "model_module_version": "1.2.0",
          "state": {
            "_model_module": "@jupyter-widgets/base",
            "_model_module_version": "1.2.0",
            "_model_name": "LayoutModel",
            "_view_count": null,
            "_view_module": "@jupyter-widgets/base",
            "_view_module_version": "1.2.0",
            "_view_name": "LayoutView",
            "align_content": null,
            "align_items": null,
            "align_self": null,
            "border": null,
            "bottom": null,
            "display": null,
            "flex": null,
            "flex_flow": null,
            "grid_area": null,
            "grid_auto_columns": null,
            "grid_auto_flow": null,
            "grid_auto_rows": null,
            "grid_column": null,
            "grid_gap": null,
            "grid_row": null,
            "grid_template_areas": null,
            "grid_template_columns": null,
            "grid_template_rows": null,
            "height": null,
            "justify_content": null,
            "justify_items": null,
            "left": null,
            "margin": null,
            "max_height": null,
            "max_width": null,
            "min_height": null,
            "min_width": null,
            "object_fit": null,
            "object_position": null,
            "order": null,
            "overflow": null,
            "overflow_x": null,
            "overflow_y": null,
            "padding": null,
            "right": null,
            "top": null,
            "visibility": null,
            "width": null
          }
        },
        "17ec3b1b740244f89053d0f67b4d0079": {
          "model_module": "@jupyter-widgets/controls",
          "model_name": "ProgressStyleModel",
          "model_module_version": "1.5.0",
          "state": {
            "_model_module": "@jupyter-widgets/controls",
            "_model_module_version": "1.5.0",
            "_model_name": "ProgressStyleModel",
            "_view_count": null,
            "_view_module": "@jupyter-widgets/base",
            "_view_module_version": "1.2.0",
            "_view_name": "StyleView",
            "bar_color": null,
            "description_width": ""
          }
        },
        "b41016a7a62748f2b1a78bdc3949ed78": {
          "model_module": "@jupyter-widgets/base",
          "model_name": "LayoutModel",
          "model_module_version": "1.2.0",
          "state": {
            "_model_module": "@jupyter-widgets/base",
            "_model_module_version": "1.2.0",
            "_model_name": "LayoutModel",
            "_view_count": null,
            "_view_module": "@jupyter-widgets/base",
            "_view_module_version": "1.2.0",
            "_view_name": "LayoutView",
            "align_content": null,
            "align_items": null,
            "align_self": null,
            "border": null,
            "bottom": null,
            "display": null,
            "flex": null,
            "flex_flow": null,
            "grid_area": null,
            "grid_auto_columns": null,
            "grid_auto_flow": null,
            "grid_auto_rows": null,
            "grid_column": null,
            "grid_gap": null,
            "grid_row": null,
            "grid_template_areas": null,
            "grid_template_columns": null,
            "grid_template_rows": null,
            "height": null,
            "justify_content": null,
            "justify_items": null,
            "left": null,
            "margin": null,
            "max_height": null,
            "max_width": null,
            "min_height": null,
            "min_width": null,
            "object_fit": null,
            "object_position": null,
            "order": null,
            "overflow": null,
            "overflow_x": null,
            "overflow_y": null,
            "padding": null,
            "right": null,
            "top": null,
            "visibility": null,
            "width": null
          }
        },
        "00219c9dde024373adbce4872d55d58b": {
          "model_module": "@jupyter-widgets/controls",
          "model_name": "DescriptionStyleModel",
          "model_module_version": "1.5.0",
          "state": {
            "_model_module": "@jupyter-widgets/controls",
            "_model_module_version": "1.5.0",
            "_model_name": "DescriptionStyleModel",
            "_view_count": null,
            "_view_module": "@jupyter-widgets/base",
            "_view_module_version": "1.2.0",
            "_view_name": "StyleView",
            "description_width": ""
          }
        },
        "7a1c4f708fff4408a04bb0b378611e48": {
          "model_module": "@jupyter-widgets/controls",
          "model_name": "HBoxModel",
          "model_module_version": "1.5.0",
          "state": {
            "_dom_classes": [],
            "_model_module": "@jupyter-widgets/controls",
            "_model_module_version": "1.5.0",
            "_model_name": "HBoxModel",
            "_view_count": null,
            "_view_module": "@jupyter-widgets/controls",
            "_view_module_version": "1.5.0",
            "_view_name": "HBoxView",
            "box_style": "",
            "children": [
              "IPY_MODEL_01f4ebfff5ea4fb597473cd728262c71",
              "IPY_MODEL_7490141949b94eaf9b010977e58fdaa7",
              "IPY_MODEL_0c74ae18c5224205b58a12126041145a"
            ],
            "layout": "IPY_MODEL_7dd875c6b00a4fa89f5e8a391a17849f"
          }
        },
        "01f4ebfff5ea4fb597473cd728262c71": {
          "model_module": "@jupyter-widgets/controls",
          "model_name": "HTMLModel",
          "model_module_version": "1.5.0",
          "state": {
            "_dom_classes": [],
            "_model_module": "@jupyter-widgets/controls",
            "_model_module_version": "1.5.0",
            "_model_name": "HTMLModel",
            "_view_count": null,
            "_view_module": "@jupyter-widgets/controls",
            "_view_module_version": "1.5.0",
            "_view_name": "HTMLView",
            "description": "",
            "description_tooltip": null,
            "layout": "IPY_MODEL_525e4ebdd5be4dd68b3897487c2372ae",
            "placeholder": "​",
            "style": "IPY_MODEL_7618ca2ee54a4a208d9c11a628d4544c",
            "value": "special_tokens_map.json: 100%"
          }
        },
        "7490141949b94eaf9b010977e58fdaa7": {
          "model_module": "@jupyter-widgets/controls",
          "model_name": "FloatProgressModel",
          "model_module_version": "1.5.0",
          "state": {
            "_dom_classes": [],
            "_model_module": "@jupyter-widgets/controls",
            "_model_module_version": "1.5.0",
            "_model_name": "FloatProgressModel",
            "_view_count": null,
            "_view_module": "@jupyter-widgets/controls",
            "_view_module_version": "1.5.0",
            "_view_name": "ProgressView",
            "bar_style": "success",
            "description": "",
            "description_tooltip": null,
            "layout": "IPY_MODEL_213755cd7d264147a3447ebaf5089230",
            "max": 2201,
            "min": 0,
            "orientation": "horizontal",
            "style": "IPY_MODEL_6ff30ca1597545e4b7860ef17e421b26",
            "value": 2201
          }
        },
        "0c74ae18c5224205b58a12126041145a": {
          "model_module": "@jupyter-widgets/controls",
          "model_name": "HTMLModel",
          "model_module_version": "1.5.0",
          "state": {
            "_dom_classes": [],
            "_model_module": "@jupyter-widgets/controls",
            "_model_module_version": "1.5.0",
            "_model_name": "HTMLModel",
            "_view_count": null,
            "_view_module": "@jupyter-widgets/controls",
            "_view_module_version": "1.5.0",
            "_view_name": "HTMLView",
            "description": "",
            "description_tooltip": null,
            "layout": "IPY_MODEL_7dab43b00c674e2f9fd3b85c846a66c0",
            "placeholder": "​",
            "style": "IPY_MODEL_6ce531fcbcfa439d86a30a2c84e30f92",
            "value": " 2.20k/2.20k [00:00&lt;00:00, 191kB/s]"
          }
        },
        "7dd875c6b00a4fa89f5e8a391a17849f": {
          "model_module": "@jupyter-widgets/base",
          "model_name": "LayoutModel",
          "model_module_version": "1.2.0",
          "state": {
            "_model_module": "@jupyter-widgets/base",
            "_model_module_version": "1.2.0",
            "_model_name": "LayoutModel",
            "_view_count": null,
            "_view_module": "@jupyter-widgets/base",
            "_view_module_version": "1.2.0",
            "_view_name": "LayoutView",
            "align_content": null,
            "align_items": null,
            "align_self": null,
            "border": null,
            "bottom": null,
            "display": null,
            "flex": null,
            "flex_flow": null,
            "grid_area": null,
            "grid_auto_columns": null,
            "grid_auto_flow": null,
            "grid_auto_rows": null,
            "grid_column": null,
            "grid_gap": null,
            "grid_row": null,
            "grid_template_areas": null,
            "grid_template_columns": null,
            "grid_template_rows": null,
            "height": null,
            "justify_content": null,
            "justify_items": null,
            "left": null,
            "margin": null,
            "max_height": null,
            "max_width": null,
            "min_height": null,
            "min_width": null,
            "object_fit": null,
            "object_position": null,
            "order": null,
            "overflow": null,
            "overflow_x": null,
            "overflow_y": null,
            "padding": null,
            "right": null,
            "top": null,
            "visibility": null,
            "width": null
          }
        },
        "525e4ebdd5be4dd68b3897487c2372ae": {
          "model_module": "@jupyter-widgets/base",
          "model_name": "LayoutModel",
          "model_module_version": "1.2.0",
          "state": {
            "_model_module": "@jupyter-widgets/base",
            "_model_module_version": "1.2.0",
            "_model_name": "LayoutModel",
            "_view_count": null,
            "_view_module": "@jupyter-widgets/base",
            "_view_module_version": "1.2.0",
            "_view_name": "LayoutView",
            "align_content": null,
            "align_items": null,
            "align_self": null,
            "border": null,
            "bottom": null,
            "display": null,
            "flex": null,
            "flex_flow": null,
            "grid_area": null,
            "grid_auto_columns": null,
            "grid_auto_flow": null,
            "grid_auto_rows": null,
            "grid_column": null,
            "grid_gap": null,
            "grid_row": null,
            "grid_template_areas": null,
            "grid_template_columns": null,
            "grid_template_rows": null,
            "height": null,
            "justify_content": null,
            "justify_items": null,
            "left": null,
            "margin": null,
            "max_height": null,
            "max_width": null,
            "min_height": null,
            "min_width": null,
            "object_fit": null,
            "object_position": null,
            "order": null,
            "overflow": null,
            "overflow_x": null,
            "overflow_y": null,
            "padding": null,
            "right": null,
            "top": null,
            "visibility": null,
            "width": null
          }
        },
        "7618ca2ee54a4a208d9c11a628d4544c": {
          "model_module": "@jupyter-widgets/controls",
          "model_name": "DescriptionStyleModel",
          "model_module_version": "1.5.0",
          "state": {
            "_model_module": "@jupyter-widgets/controls",
            "_model_module_version": "1.5.0",
            "_model_name": "DescriptionStyleModel",
            "_view_count": null,
            "_view_module": "@jupyter-widgets/base",
            "_view_module_version": "1.2.0",
            "_view_name": "StyleView",
            "description_width": ""
          }
        },
        "213755cd7d264147a3447ebaf5089230": {
          "model_module": "@jupyter-widgets/base",
          "model_name": "LayoutModel",
          "model_module_version": "1.2.0",
          "state": {
            "_model_module": "@jupyter-widgets/base",
            "_model_module_version": "1.2.0",
            "_model_name": "LayoutModel",
            "_view_count": null,
            "_view_module": "@jupyter-widgets/base",
            "_view_module_version": "1.2.0",
            "_view_name": "LayoutView",
            "align_content": null,
            "align_items": null,
            "align_self": null,
            "border": null,
            "bottom": null,
            "display": null,
            "flex": null,
            "flex_flow": null,
            "grid_area": null,
            "grid_auto_columns": null,
            "grid_auto_flow": null,
            "grid_auto_rows": null,
            "grid_column": null,
            "grid_gap": null,
            "grid_row": null,
            "grid_template_areas": null,
            "grid_template_columns": null,
            "grid_template_rows": null,
            "height": null,
            "justify_content": null,
            "justify_items": null,
            "left": null,
            "margin": null,
            "max_height": null,
            "max_width": null,
            "min_height": null,
            "min_width": null,
            "object_fit": null,
            "object_position": null,
            "order": null,
            "overflow": null,
            "overflow_x": null,
            "overflow_y": null,
            "padding": null,
            "right": null,
            "top": null,
            "visibility": null,
            "width": null
          }
        },
        "6ff30ca1597545e4b7860ef17e421b26": {
          "model_module": "@jupyter-widgets/controls",
          "model_name": "ProgressStyleModel",
          "model_module_version": "1.5.0",
          "state": {
            "_model_module": "@jupyter-widgets/controls",
            "_model_module_version": "1.5.0",
            "_model_name": "ProgressStyleModel",
            "_view_count": null,
            "_view_module": "@jupyter-widgets/base",
            "_view_module_version": "1.2.0",
            "_view_name": "StyleView",
            "bar_color": null,
            "description_width": ""
          }
        },
        "7dab43b00c674e2f9fd3b85c846a66c0": {
          "model_module": "@jupyter-widgets/base",
          "model_name": "LayoutModel",
          "model_module_version": "1.2.0",
          "state": {
            "_model_module": "@jupyter-widgets/base",
            "_model_module_version": "1.2.0",
            "_model_name": "LayoutModel",
            "_view_count": null,
            "_view_module": "@jupyter-widgets/base",
            "_view_module_version": "1.2.0",
            "_view_name": "LayoutView",
            "align_content": null,
            "align_items": null,
            "align_self": null,
            "border": null,
            "bottom": null,
            "display": null,
            "flex": null,
            "flex_flow": null,
            "grid_area": null,
            "grid_auto_columns": null,
            "grid_auto_flow": null,
            "grid_auto_rows": null,
            "grid_column": null,
            "grid_gap": null,
            "grid_row": null,
            "grid_template_areas": null,
            "grid_template_columns": null,
            "grid_template_rows": null,
            "height": null,
            "justify_content": null,
            "justify_items": null,
            "left": null,
            "margin": null,
            "max_height": null,
            "max_width": null,
            "min_height": null,
            "min_width": null,
            "object_fit": null,
            "object_position": null,
            "order": null,
            "overflow": null,
            "overflow_x": null,
            "overflow_y": null,
            "padding": null,
            "right": null,
            "top": null,
            "visibility": null,
            "width": null
          }
        },
        "6ce531fcbcfa439d86a30a2c84e30f92": {
          "model_module": "@jupyter-widgets/controls",
          "model_name": "DescriptionStyleModel",
          "model_module_version": "1.5.0",
          "state": {
            "_model_module": "@jupyter-widgets/controls",
            "_model_module_version": "1.5.0",
            "_model_name": "DescriptionStyleModel",
            "_view_count": null,
            "_view_module": "@jupyter-widgets/base",
            "_view_module_version": "1.2.0",
            "_view_name": "StyleView",
            "description_width": ""
          }
        },
        "052d24adcbb446b4aff67243844ad017": {
          "model_module": "@jupyter-widgets/controls",
          "model_name": "HBoxModel",
          "model_module_version": "1.5.0",
          "state": {
            "_dom_classes": [],
            "_model_module": "@jupyter-widgets/controls",
            "_model_module_version": "1.5.0",
            "_model_name": "HBoxModel",
            "_view_count": null,
            "_view_module": "@jupyter-widgets/controls",
            "_view_module_version": "1.5.0",
            "_view_name": "HBoxView",
            "box_style": "",
            "children": [
              "IPY_MODEL_c8737bb2ddc34c9682d306b18b5ed617",
              "IPY_MODEL_b0e0628a5c0a432f9cfa3e320e91d982",
              "IPY_MODEL_94abf9a05f014500aebfec7261fda110"
            ],
            "layout": "IPY_MODEL_1e9f18a30d0543d5b67ed24716b59f9d"
          }
        },
        "c8737bb2ddc34c9682d306b18b5ed617": {
          "model_module": "@jupyter-widgets/controls",
          "model_name": "HTMLModel",
          "model_module_version": "1.5.0",
          "state": {
            "_dom_classes": [],
            "_model_module": "@jupyter-widgets/controls",
            "_model_module_version": "1.5.0",
            "_model_name": "HTMLModel",
            "_view_count": null,
            "_view_module": "@jupyter-widgets/controls",
            "_view_module_version": "1.5.0",
            "_view_name": "HTMLView",
            "description": "",
            "description_tooltip": null,
            "layout": "IPY_MODEL_610f80055f654efcbc4e91e8e5b33702",
            "placeholder": "​",
            "style": "IPY_MODEL_cf7c6a5dd1474fdcb71190460d2f9e9f",
            "value": "config.json: 100%"
          }
        },
        "b0e0628a5c0a432f9cfa3e320e91d982": {
          "model_module": "@jupyter-widgets/controls",
          "model_name": "FloatProgressModel",
          "model_module_version": "1.5.0",
          "state": {
            "_dom_classes": [],
            "_model_module": "@jupyter-widgets/controls",
            "_model_module_version": "1.5.0",
            "_model_name": "FloatProgressModel",
            "_view_count": null,
            "_view_module": "@jupyter-widgets/controls",
            "_view_module_version": "1.5.0",
            "_view_name": "ProgressView",
            "bar_style": "success",
            "description": "",
            "description_tooltip": null,
            "layout": "IPY_MODEL_af4a56334faf45eeb33a4e0834498ed5",
            "max": 787,
            "min": 0,
            "orientation": "horizontal",
            "style": "IPY_MODEL_2ab1b003e3c747f7921f3a11d5dedc1e",
            "value": 787
          }
        },
        "94abf9a05f014500aebfec7261fda110": {
          "model_module": "@jupyter-widgets/controls",
          "model_name": "HTMLModel",
          "model_module_version": "1.5.0",
          "state": {
            "_dom_classes": [],
            "_model_module": "@jupyter-widgets/controls",
            "_model_module_version": "1.5.0",
            "_model_name": "HTMLModel",
            "_view_count": null,
            "_view_module": "@jupyter-widgets/controls",
            "_view_module_version": "1.5.0",
            "_view_name": "HTMLView",
            "description": "",
            "description_tooltip": null,
            "layout": "IPY_MODEL_b7fae28038c941dbaa913765aed10390",
            "placeholder": "​",
            "style": "IPY_MODEL_9bb5de5678cf485da955ec0d5ca25466",
            "value": " 787/787 [00:00&lt;00:00, 59.8kB/s]"
          }
        },
        "1e9f18a30d0543d5b67ed24716b59f9d": {
          "model_module": "@jupyter-widgets/base",
          "model_name": "LayoutModel",
          "model_module_version": "1.2.0",
          "state": {
            "_model_module": "@jupyter-widgets/base",
            "_model_module_version": "1.2.0",
            "_model_name": "LayoutModel",
            "_view_count": null,
            "_view_module": "@jupyter-widgets/base",
            "_view_module_version": "1.2.0",
            "_view_name": "LayoutView",
            "align_content": null,
            "align_items": null,
            "align_self": null,
            "border": null,
            "bottom": null,
            "display": null,
            "flex": null,
            "flex_flow": null,
            "grid_area": null,
            "grid_auto_columns": null,
            "grid_auto_flow": null,
            "grid_auto_rows": null,
            "grid_column": null,
            "grid_gap": null,
            "grid_row": null,
            "grid_template_areas": null,
            "grid_template_columns": null,
            "grid_template_rows": null,
            "height": null,
            "justify_content": null,
            "justify_items": null,
            "left": null,
            "margin": null,
            "max_height": null,
            "max_width": null,
            "min_height": null,
            "min_width": null,
            "object_fit": null,
            "object_position": null,
            "order": null,
            "overflow": null,
            "overflow_x": null,
            "overflow_y": null,
            "padding": null,
            "right": null,
            "top": null,
            "visibility": null,
            "width": null
          }
        },
        "610f80055f654efcbc4e91e8e5b33702": {
          "model_module": "@jupyter-widgets/base",
          "model_name": "LayoutModel",
          "model_module_version": "1.2.0",
          "state": {
            "_model_module": "@jupyter-widgets/base",
            "_model_module_version": "1.2.0",
            "_model_name": "LayoutModel",
            "_view_count": null,
            "_view_module": "@jupyter-widgets/base",
            "_view_module_version": "1.2.0",
            "_view_name": "LayoutView",
            "align_content": null,
            "align_items": null,
            "align_self": null,
            "border": null,
            "bottom": null,
            "display": null,
            "flex": null,
            "flex_flow": null,
            "grid_area": null,
            "grid_auto_columns": null,
            "grid_auto_flow": null,
            "grid_auto_rows": null,
            "grid_column": null,
            "grid_gap": null,
            "grid_row": null,
            "grid_template_areas": null,
            "grid_template_columns": null,
            "grid_template_rows": null,
            "height": null,
            "justify_content": null,
            "justify_items": null,
            "left": null,
            "margin": null,
            "max_height": null,
            "max_width": null,
            "min_height": null,
            "min_width": null,
            "object_fit": null,
            "object_position": null,
            "order": null,
            "overflow": null,
            "overflow_x": null,
            "overflow_y": null,
            "padding": null,
            "right": null,
            "top": null,
            "visibility": null,
            "width": null
          }
        },
        "cf7c6a5dd1474fdcb71190460d2f9e9f": {
          "model_module": "@jupyter-widgets/controls",
          "model_name": "DescriptionStyleModel",
          "model_module_version": "1.5.0",
          "state": {
            "_model_module": "@jupyter-widgets/controls",
            "_model_module_version": "1.5.0",
            "_model_name": "DescriptionStyleModel",
            "_view_count": null,
            "_view_module": "@jupyter-widgets/base",
            "_view_module_version": "1.2.0",
            "_view_name": "StyleView",
            "description_width": ""
          }
        },
        "af4a56334faf45eeb33a4e0834498ed5": {
          "model_module": "@jupyter-widgets/base",
          "model_name": "LayoutModel",
          "model_module_version": "1.2.0",
          "state": {
            "_model_module": "@jupyter-widgets/base",
            "_model_module_version": "1.2.0",
            "_model_name": "LayoutModel",
            "_view_count": null,
            "_view_module": "@jupyter-widgets/base",
            "_view_module_version": "1.2.0",
            "_view_name": "LayoutView",
            "align_content": null,
            "align_items": null,
            "align_self": null,
            "border": null,
            "bottom": null,
            "display": null,
            "flex": null,
            "flex_flow": null,
            "grid_area": null,
            "grid_auto_columns": null,
            "grid_auto_flow": null,
            "grid_auto_rows": null,
            "grid_column": null,
            "grid_gap": null,
            "grid_row": null,
            "grid_template_areas": null,
            "grid_template_columns": null,
            "grid_template_rows": null,
            "height": null,
            "justify_content": null,
            "justify_items": null,
            "left": null,
            "margin": null,
            "max_height": null,
            "max_width": null,
            "min_height": null,
            "min_width": null,
            "object_fit": null,
            "object_position": null,
            "order": null,
            "overflow": null,
            "overflow_x": null,
            "overflow_y": null,
            "padding": null,
            "right": null,
            "top": null,
            "visibility": null,
            "width": null
          }
        },
        "2ab1b003e3c747f7921f3a11d5dedc1e": {
          "model_module": "@jupyter-widgets/controls",
          "model_name": "ProgressStyleModel",
          "model_module_version": "1.5.0",
          "state": {
            "_model_module": "@jupyter-widgets/controls",
            "_model_module_version": "1.5.0",
            "_model_name": "ProgressStyleModel",
            "_view_count": null,
            "_view_module": "@jupyter-widgets/base",
            "_view_module_version": "1.2.0",
            "_view_name": "StyleView",
            "bar_color": null,
            "description_width": ""
          }
        },
        "b7fae28038c941dbaa913765aed10390": {
          "model_module": "@jupyter-widgets/base",
          "model_name": "LayoutModel",
          "model_module_version": "1.2.0",
          "state": {
            "_model_module": "@jupyter-widgets/base",
            "_model_module_version": "1.2.0",
            "_model_name": "LayoutModel",
            "_view_count": null,
            "_view_module": "@jupyter-widgets/base",
            "_view_module_version": "1.2.0",
            "_view_name": "LayoutView",
            "align_content": null,
            "align_items": null,
            "align_self": null,
            "border": null,
            "bottom": null,
            "display": null,
            "flex": null,
            "flex_flow": null,
            "grid_area": null,
            "grid_auto_columns": null,
            "grid_auto_flow": null,
            "grid_auto_rows": null,
            "grid_column": null,
            "grid_gap": null,
            "grid_row": null,
            "grid_template_areas": null,
            "grid_template_columns": null,
            "grid_template_rows": null,
            "height": null,
            "justify_content": null,
            "justify_items": null,
            "left": null,
            "margin": null,
            "max_height": null,
            "max_width": null,
            "min_height": null,
            "min_width": null,
            "object_fit": null,
            "object_position": null,
            "order": null,
            "overflow": null,
            "overflow_x": null,
            "overflow_y": null,
            "padding": null,
            "right": null,
            "top": null,
            "visibility": null,
            "width": null
          }
        },
        "9bb5de5678cf485da955ec0d5ca25466": {
          "model_module": "@jupyter-widgets/controls",
          "model_name": "DescriptionStyleModel",
          "model_module_version": "1.5.0",
          "state": {
            "_model_module": "@jupyter-widgets/controls",
            "_model_module_version": "1.5.0",
            "_model_name": "DescriptionStyleModel",
            "_view_count": null,
            "_view_module": "@jupyter-widgets/base",
            "_view_module_version": "1.2.0",
            "_view_name": "StyleView",
            "description_width": ""
          }
        },
        "4b3ada8417d6423bb656b15c7af901c2": {
          "model_module": "@jupyter-widgets/controls",
          "model_name": "HBoxModel",
          "model_module_version": "1.5.0",
          "state": {
            "_dom_classes": [],
            "_model_module": "@jupyter-widgets/controls",
            "_model_module_version": "1.5.0",
            "_model_name": "HBoxModel",
            "_view_count": null,
            "_view_module": "@jupyter-widgets/controls",
            "_view_module_version": "1.5.0",
            "_view_name": "HBoxView",
            "box_style": "",
            "children": [
              "IPY_MODEL_bf95c1bfe7054b0588c8a12d6f20db43",
              "IPY_MODEL_68182e5464664cdeb0549187876fcf22",
              "IPY_MODEL_2052e25e691a494ca558324fa69da127"
            ],
            "layout": "IPY_MODEL_6795cf83bfdf47e1a92a4e2cbd5db177"
          }
        },
        "bf95c1bfe7054b0588c8a12d6f20db43": {
          "model_module": "@jupyter-widgets/controls",
          "model_name": "HTMLModel",
          "model_module_version": "1.5.0",
          "state": {
            "_dom_classes": [],
            "_model_module": "@jupyter-widgets/controls",
            "_model_module_version": "1.5.0",
            "_model_name": "HTMLModel",
            "_view_count": null,
            "_view_module": "@jupyter-widgets/controls",
            "_view_module_version": "1.5.0",
            "_view_name": "HTMLView",
            "description": "",
            "description_tooltip": null,
            "layout": "IPY_MODEL_82d1aa2fa57b420dbd197c6283f32845",
            "placeholder": "​",
            "style": "IPY_MODEL_1b3a93141428432ca31deee3b8a82f3c",
            "value": "model.safetensors: 100%"
          }
        },
        "68182e5464664cdeb0549187876fcf22": {
          "model_module": "@jupyter-widgets/controls",
          "model_name": "FloatProgressModel",
          "model_module_version": "1.5.0",
          "state": {
            "_dom_classes": [],
            "_model_module": "@jupyter-widgets/controls",
            "_model_module_version": "1.5.0",
            "_model_name": "FloatProgressModel",
            "_view_count": null,
            "_view_module": "@jupyter-widgets/controls",
            "_view_module_version": "1.5.0",
            "_view_name": "ProgressView",
            "bar_style": "success",
            "description": "",
            "description_tooltip": null,
            "layout": "IPY_MODEL_6798665c61644ffb92014b5affadf16a",
            "max": 3132668808,
            "min": 0,
            "orientation": "horizontal",
            "style": "IPY_MODEL_92fe426478c149deb8dd725c11631a03",
            "value": 3132668808
          }
        },
        "2052e25e691a494ca558324fa69da127": {
          "model_module": "@jupyter-widgets/controls",
          "model_name": "HTMLModel",
          "model_module_version": "1.5.0",
          "state": {
            "_dom_classes": [],
            "_model_module": "@jupyter-widgets/controls",
            "_model_module_version": "1.5.0",
            "_model_name": "HTMLModel",
            "_view_count": null,
            "_view_module": "@jupyter-widgets/controls",
            "_view_module_version": "1.5.0",
            "_view_name": "HTMLView",
            "description": "",
            "description_tooltip": null,
            "layout": "IPY_MODEL_7a3ee58e6ab74eb3b40e560d4642c402",
            "placeholder": "​",
            "style": "IPY_MODEL_c111dbb74bb6436e8c2307a18656ef87",
            "value": " 3.13G/3.13G [03:48&lt;00:00, 18.1MB/s]"
          }
        },
        "6795cf83bfdf47e1a92a4e2cbd5db177": {
          "model_module": "@jupyter-widgets/base",
          "model_name": "LayoutModel",
          "model_module_version": "1.2.0",
          "state": {
            "_model_module": "@jupyter-widgets/base",
            "_model_module_version": "1.2.0",
            "_model_name": "LayoutModel",
            "_view_count": null,
            "_view_module": "@jupyter-widgets/base",
            "_view_module_version": "1.2.0",
            "_view_name": "LayoutView",
            "align_content": null,
            "align_items": null,
            "align_self": null,
            "border": null,
            "bottom": null,
            "display": null,
            "flex": null,
            "flex_flow": null,
            "grid_area": null,
            "grid_auto_columns": null,
            "grid_auto_flow": null,
            "grid_auto_rows": null,
            "grid_column": null,
            "grid_gap": null,
            "grid_row": null,
            "grid_template_areas": null,
            "grid_template_columns": null,
            "grid_template_rows": null,
            "height": null,
            "justify_content": null,
            "justify_items": null,
            "left": null,
            "margin": null,
            "max_height": null,
            "max_width": null,
            "min_height": null,
            "min_width": null,
            "object_fit": null,
            "object_position": null,
            "order": null,
            "overflow": null,
            "overflow_x": null,
            "overflow_y": null,
            "padding": null,
            "right": null,
            "top": null,
            "visibility": null,
            "width": null
          }
        },
        "82d1aa2fa57b420dbd197c6283f32845": {
          "model_module": "@jupyter-widgets/base",
          "model_name": "LayoutModel",
          "model_module_version": "1.2.0",
          "state": {
            "_model_module": "@jupyter-widgets/base",
            "_model_module_version": "1.2.0",
            "_model_name": "LayoutModel",
            "_view_count": null,
            "_view_module": "@jupyter-widgets/base",
            "_view_module_version": "1.2.0",
            "_view_name": "LayoutView",
            "align_content": null,
            "align_items": null,
            "align_self": null,
            "border": null,
            "bottom": null,
            "display": null,
            "flex": null,
            "flex_flow": null,
            "grid_area": null,
            "grid_auto_columns": null,
            "grid_auto_flow": null,
            "grid_auto_rows": null,
            "grid_column": null,
            "grid_gap": null,
            "grid_row": null,
            "grid_template_areas": null,
            "grid_template_columns": null,
            "grid_template_rows": null,
            "height": null,
            "justify_content": null,
            "justify_items": null,
            "left": null,
            "margin": null,
            "max_height": null,
            "max_width": null,
            "min_height": null,
            "min_width": null,
            "object_fit": null,
            "object_position": null,
            "order": null,
            "overflow": null,
            "overflow_x": null,
            "overflow_y": null,
            "padding": null,
            "right": null,
            "top": null,
            "visibility": null,
            "width": null
          }
        },
        "1b3a93141428432ca31deee3b8a82f3c": {
          "model_module": "@jupyter-widgets/controls",
          "model_name": "DescriptionStyleModel",
          "model_module_version": "1.5.0",
          "state": {
            "_model_module": "@jupyter-widgets/controls",
            "_model_module_version": "1.5.0",
            "_model_name": "DescriptionStyleModel",
            "_view_count": null,
            "_view_module": "@jupyter-widgets/base",
            "_view_module_version": "1.2.0",
            "_view_name": "StyleView",
            "description_width": ""
          }
        },
        "6798665c61644ffb92014b5affadf16a": {
          "model_module": "@jupyter-widgets/base",
          "model_name": "LayoutModel",
          "model_module_version": "1.2.0",
          "state": {
            "_model_module": "@jupyter-widgets/base",
            "_model_module_version": "1.2.0",
            "_model_name": "LayoutModel",
            "_view_count": null,
            "_view_module": "@jupyter-widgets/base",
            "_view_module_version": "1.2.0",
            "_view_name": "LayoutView",
            "align_content": null,
            "align_items": null,
            "align_self": null,
            "border": null,
            "bottom": null,
            "display": null,
            "flex": null,
            "flex_flow": null,
            "grid_area": null,
            "grid_auto_columns": null,
            "grid_auto_flow": null,
            "grid_auto_rows": null,
            "grid_column": null,
            "grid_gap": null,
            "grid_row": null,
            "grid_template_areas": null,
            "grid_template_columns": null,
            "grid_template_rows": null,
            "height": null,
            "justify_content": null,
            "justify_items": null,
            "left": null,
            "margin": null,
            "max_height": null,
            "max_width": null,
            "min_height": null,
            "min_width": null,
            "object_fit": null,
            "object_position": null,
            "order": null,
            "overflow": null,
            "overflow_x": null,
            "overflow_y": null,
            "padding": null,
            "right": null,
            "top": null,
            "visibility": null,
            "width": null
          }
        },
        "92fe426478c149deb8dd725c11631a03": {
          "model_module": "@jupyter-widgets/controls",
          "model_name": "ProgressStyleModel",
          "model_module_version": "1.5.0",
          "state": {
            "_model_module": "@jupyter-widgets/controls",
            "_model_module_version": "1.5.0",
            "_model_name": "ProgressStyleModel",
            "_view_count": null,
            "_view_module": "@jupyter-widgets/base",
            "_view_module_version": "1.2.0",
            "_view_name": "StyleView",
            "bar_color": null,
            "description_width": ""
          }
        },
        "7a3ee58e6ab74eb3b40e560d4642c402": {
          "model_module": "@jupyter-widgets/base",
          "model_name": "LayoutModel",
          "model_module_version": "1.2.0",
          "state": {
            "_model_module": "@jupyter-widgets/base",
            "_model_module_version": "1.2.0",
            "_model_name": "LayoutModel",
            "_view_count": null,
            "_view_module": "@jupyter-widgets/base",
            "_view_module_version": "1.2.0",
            "_view_name": "LayoutView",
            "align_content": null,
            "align_items": null,
            "align_self": null,
            "border": null,
            "bottom": null,
            "display": null,
            "flex": null,
            "flex_flow": null,
            "grid_area": null,
            "grid_auto_columns": null,
            "grid_auto_flow": null,
            "grid_auto_rows": null,
            "grid_column": null,
            "grid_gap": null,
            "grid_row": null,
            "grid_template_areas": null,
            "grid_template_columns": null,
            "grid_template_rows": null,
            "height": null,
            "justify_content": null,
            "justify_items": null,
            "left": null,
            "margin": null,
            "max_height": null,
            "max_width": null,
            "min_height": null,
            "min_width": null,
            "object_fit": null,
            "object_position": null,
            "order": null,
            "overflow": null,
            "overflow_x": null,
            "overflow_y": null,
            "padding": null,
            "right": null,
            "top": null,
            "visibility": null,
            "width": null
          }
        },
        "c111dbb74bb6436e8c2307a18656ef87": {
          "model_module": "@jupyter-widgets/controls",
          "model_name": "DescriptionStyleModel",
          "model_module_version": "1.5.0",
          "state": {
            "_model_module": "@jupyter-widgets/controls",
            "_model_module_version": "1.5.0",
            "_model_name": "DescriptionStyleModel",
            "_view_count": null,
            "_view_module": "@jupyter-widgets/base",
            "_view_module_version": "1.2.0",
            "_view_name": "StyleView",
            "description_width": ""
          }
        },
        "f82aa3d8789f4d06a02721311927ceb2": {
          "model_module": "@jupyter-widgets/controls",
          "model_name": "HBoxModel",
          "model_module_version": "1.5.0",
          "state": {
            "_dom_classes": [],
            "_model_module": "@jupyter-widgets/controls",
            "_model_module_version": "1.5.0",
            "_model_name": "HBoxModel",
            "_view_count": null,
            "_view_module": "@jupyter-widgets/controls",
            "_view_module_version": "1.5.0",
            "_view_name": "HBoxView",
            "box_style": "",
            "children": [
              "IPY_MODEL_d78d5069c9b74e179573ce348015b780",
              "IPY_MODEL_2941d265a10e40d9a83dec65e65746f5",
              "IPY_MODEL_3a961519cc4d4b698a629c491866c9da"
            ],
            "layout": "IPY_MODEL_4827aa7e064547e0a7fbf64f5bd4144a"
          }
        },
        "d78d5069c9b74e179573ce348015b780": {
          "model_module": "@jupyter-widgets/controls",
          "model_name": "HTMLModel",
          "model_module_version": "1.5.0",
          "state": {
            "_dom_classes": [],
            "_model_module": "@jupyter-widgets/controls",
            "_model_module_version": "1.5.0",
            "_model_name": "HTMLModel",
            "_view_count": null,
            "_view_module": "@jupyter-widgets/controls",
            "_view_module_version": "1.5.0",
            "_view_name": "HTMLView",
            "description": "",
            "description_tooltip": null,
            "layout": "IPY_MODEL_1c77f1dd87f848ada71a334f8ca4c258",
            "placeholder": "​",
            "style": "IPY_MODEL_8652dcc79004498cad394ec90e46ff97",
            "value": "Map: 100%"
          }
        },
        "2941d265a10e40d9a83dec65e65746f5": {
          "model_module": "@jupyter-widgets/controls",
          "model_name": "FloatProgressModel",
          "model_module_version": "1.5.0",
          "state": {
            "_dom_classes": [],
            "_model_module": "@jupyter-widgets/controls",
            "_model_module_version": "1.5.0",
            "_model_name": "FloatProgressModel",
            "_view_count": null,
            "_view_module": "@jupyter-widgets/controls",
            "_view_module_version": "1.5.0",
            "_view_name": "ProgressView",
            "bar_style": "success",
            "description": "",
            "description_tooltip": null,
            "layout": "IPY_MODEL_3bbad0746e824e17a5029109279a5245",
            "max": 4346,
            "min": 0,
            "orientation": "horizontal",
            "style": "IPY_MODEL_467d7a619a534dc7aed3a3b636d63650",
            "value": 4346
          }
        },
        "3a961519cc4d4b698a629c491866c9da": {
          "model_module": "@jupyter-widgets/controls",
          "model_name": "HTMLModel",
          "model_module_version": "1.5.0",
          "state": {
            "_dom_classes": [],
            "_model_module": "@jupyter-widgets/controls",
            "_model_module_version": "1.5.0",
            "_model_name": "HTMLModel",
            "_view_count": null,
            "_view_module": "@jupyter-widgets/controls",
            "_view_module_version": "1.5.0",
            "_view_name": "HTMLView",
            "description": "",
            "description_tooltip": null,
            "layout": "IPY_MODEL_84089120a1224f6b9d2403b813c413e8",
            "placeholder": "​",
            "style": "IPY_MODEL_719576c70fba46eabb93873b15ccb317",
            "value": " 4346/4346 [00:03&lt;00:00, 1281.82 examples/s]"
          }
        },
        "4827aa7e064547e0a7fbf64f5bd4144a": {
          "model_module": "@jupyter-widgets/base",
          "model_name": "LayoutModel",
          "model_module_version": "1.2.0",
          "state": {
            "_model_module": "@jupyter-widgets/base",
            "_model_module_version": "1.2.0",
            "_model_name": "LayoutModel",
            "_view_count": null,
            "_view_module": "@jupyter-widgets/base",
            "_view_module_version": "1.2.0",
            "_view_name": "LayoutView",
            "align_content": null,
            "align_items": null,
            "align_self": null,
            "border": null,
            "bottom": null,
            "display": null,
            "flex": null,
            "flex_flow": null,
            "grid_area": null,
            "grid_auto_columns": null,
            "grid_auto_flow": null,
            "grid_auto_rows": null,
            "grid_column": null,
            "grid_gap": null,
            "grid_row": null,
            "grid_template_areas": null,
            "grid_template_columns": null,
            "grid_template_rows": null,
            "height": null,
            "justify_content": null,
            "justify_items": null,
            "left": null,
            "margin": null,
            "max_height": null,
            "max_width": null,
            "min_height": null,
            "min_width": null,
            "object_fit": null,
            "object_position": null,
            "order": null,
            "overflow": null,
            "overflow_x": null,
            "overflow_y": null,
            "padding": null,
            "right": null,
            "top": null,
            "visibility": null,
            "width": null
          }
        },
        "1c77f1dd87f848ada71a334f8ca4c258": {
          "model_module": "@jupyter-widgets/base",
          "model_name": "LayoutModel",
          "model_module_version": "1.2.0",
          "state": {
            "_model_module": "@jupyter-widgets/base",
            "_model_module_version": "1.2.0",
            "_model_name": "LayoutModel",
            "_view_count": null,
            "_view_module": "@jupyter-widgets/base",
            "_view_module_version": "1.2.0",
            "_view_name": "LayoutView",
            "align_content": null,
            "align_items": null,
            "align_self": null,
            "border": null,
            "bottom": null,
            "display": null,
            "flex": null,
            "flex_flow": null,
            "grid_area": null,
            "grid_auto_columns": null,
            "grid_auto_flow": null,
            "grid_auto_rows": null,
            "grid_column": null,
            "grid_gap": null,
            "grid_row": null,
            "grid_template_areas": null,
            "grid_template_columns": null,
            "grid_template_rows": null,
            "height": null,
            "justify_content": null,
            "justify_items": null,
            "left": null,
            "margin": null,
            "max_height": null,
            "max_width": null,
            "min_height": null,
            "min_width": null,
            "object_fit": null,
            "object_position": null,
            "order": null,
            "overflow": null,
            "overflow_x": null,
            "overflow_y": null,
            "padding": null,
            "right": null,
            "top": null,
            "visibility": null,
            "width": null
          }
        },
        "8652dcc79004498cad394ec90e46ff97": {
          "model_module": "@jupyter-widgets/controls",
          "model_name": "DescriptionStyleModel",
          "model_module_version": "1.5.0",
          "state": {
            "_model_module": "@jupyter-widgets/controls",
            "_model_module_version": "1.5.0",
            "_model_name": "DescriptionStyleModel",
            "_view_count": null,
            "_view_module": "@jupyter-widgets/base",
            "_view_module_version": "1.2.0",
            "_view_name": "StyleView",
            "description_width": ""
          }
        },
        "3bbad0746e824e17a5029109279a5245": {
          "model_module": "@jupyter-widgets/base",
          "model_name": "LayoutModel",
          "model_module_version": "1.2.0",
          "state": {
            "_model_module": "@jupyter-widgets/base",
            "_model_module_version": "1.2.0",
            "_model_name": "LayoutModel",
            "_view_count": null,
            "_view_module": "@jupyter-widgets/base",
            "_view_module_version": "1.2.0",
            "_view_name": "LayoutView",
            "align_content": null,
            "align_items": null,
            "align_self": null,
            "border": null,
            "bottom": null,
            "display": null,
            "flex": null,
            "flex_flow": null,
            "grid_area": null,
            "grid_auto_columns": null,
            "grid_auto_flow": null,
            "grid_auto_rows": null,
            "grid_column": null,
            "grid_gap": null,
            "grid_row": null,
            "grid_template_areas": null,
            "grid_template_columns": null,
            "grid_template_rows": null,
            "height": null,
            "justify_content": null,
            "justify_items": null,
            "left": null,
            "margin": null,
            "max_height": null,
            "max_width": null,
            "min_height": null,
            "min_width": null,
            "object_fit": null,
            "object_position": null,
            "order": null,
            "overflow": null,
            "overflow_x": null,
            "overflow_y": null,
            "padding": null,
            "right": null,
            "top": null,
            "visibility": null,
            "width": null
          }
        },
        "467d7a619a534dc7aed3a3b636d63650": {
          "model_module": "@jupyter-widgets/controls",
          "model_name": "ProgressStyleModel",
          "model_module_version": "1.5.0",
          "state": {
            "_model_module": "@jupyter-widgets/controls",
            "_model_module_version": "1.5.0",
            "_model_name": "ProgressStyleModel",
            "_view_count": null,
            "_view_module": "@jupyter-widgets/base",
            "_view_module_version": "1.2.0",
            "_view_name": "StyleView",
            "bar_color": null,
            "description_width": ""
          }
        },
        "84089120a1224f6b9d2403b813c413e8": {
          "model_module": "@jupyter-widgets/base",
          "model_name": "LayoutModel",
          "model_module_version": "1.2.0",
          "state": {
            "_model_module": "@jupyter-widgets/base",
            "_model_module_version": "1.2.0",
            "_model_name": "LayoutModel",
            "_view_count": null,
            "_view_module": "@jupyter-widgets/base",
            "_view_module_version": "1.2.0",
            "_view_name": "LayoutView",
            "align_content": null,
            "align_items": null,
            "align_self": null,
            "border": null,
            "bottom": null,
            "display": null,
            "flex": null,
            "flex_flow": null,
            "grid_area": null,
            "grid_auto_columns": null,
            "grid_auto_flow": null,
            "grid_auto_rows": null,
            "grid_column": null,
            "grid_gap": null,
            "grid_row": null,
            "grid_template_areas": null,
            "grid_template_columns": null,
            "grid_template_rows": null,
            "height": null,
            "justify_content": null,
            "justify_items": null,
            "left": null,
            "margin": null,
            "max_height": null,
            "max_width": null,
            "min_height": null,
            "min_width": null,
            "object_fit": null,
            "object_position": null,
            "order": null,
            "overflow": null,
            "overflow_x": null,
            "overflow_y": null,
            "padding": null,
            "right": null,
            "top": null,
            "visibility": null,
            "width": null
          }
        },
        "719576c70fba46eabb93873b15ccb317": {
          "model_module": "@jupyter-widgets/controls",
          "model_name": "DescriptionStyleModel",
          "model_module_version": "1.5.0",
          "state": {
            "_model_module": "@jupyter-widgets/controls",
            "_model_module_version": "1.5.0",
            "_model_name": "DescriptionStyleModel",
            "_view_count": null,
            "_view_module": "@jupyter-widgets/base",
            "_view_module_version": "1.2.0",
            "_view_name": "StyleView",
            "description_width": ""
          }
        },
        "e614f50a55744b57a0694432cf59913d": {
          "model_module": "@jupyter-widgets/controls",
          "model_name": "HBoxModel",
          "model_module_version": "1.5.0",
          "state": {
            "_dom_classes": [],
            "_model_module": "@jupyter-widgets/controls",
            "_model_module_version": "1.5.0",
            "_model_name": "HBoxModel",
            "_view_count": null,
            "_view_module": "@jupyter-widgets/controls",
            "_view_module_version": "1.5.0",
            "_view_name": "HBoxView",
            "box_style": "",
            "children": [
              "IPY_MODEL_5816c792f9a34eb296e53d915c8e82d8",
              "IPY_MODEL_1a20994c7a0346d68f68bc3338d0edf2",
              "IPY_MODEL_409a76bcf12d4d35958ebaf1e478f2a1"
            ],
            "layout": "IPY_MODEL_54e96f81b15449c4b1bd4dd6e6cd0a45"
          }
        },
        "5816c792f9a34eb296e53d915c8e82d8": {
          "model_module": "@jupyter-widgets/controls",
          "model_name": "HTMLModel",
          "model_module_version": "1.5.0",
          "state": {
            "_dom_classes": [],
            "_model_module": "@jupyter-widgets/controls",
            "_model_module_version": "1.5.0",
            "_model_name": "HTMLModel",
            "_view_count": null,
            "_view_module": "@jupyter-widgets/controls",
            "_view_module_version": "1.5.0",
            "_view_name": "HTMLView",
            "description": "",
            "description_tooltip": null,
            "layout": "IPY_MODEL_7602405d092647418501fe9cb6baed3f",
            "placeholder": "​",
            "style": "IPY_MODEL_a24ce338029148bfb55242c77527df5f",
            "value": "Map: 100%"
          }
        },
        "1a20994c7a0346d68f68bc3338d0edf2": {
          "model_module": "@jupyter-widgets/controls",
          "model_name": "FloatProgressModel",
          "model_module_version": "1.5.0",
          "state": {
            "_dom_classes": [],
            "_model_module": "@jupyter-widgets/controls",
            "_model_module_version": "1.5.0",
            "_model_name": "FloatProgressModel",
            "_view_count": null,
            "_view_module": "@jupyter-widgets/controls",
            "_view_module_version": "1.5.0",
            "_view_name": "ProgressView",
            "bar_style": "success",
            "description": "",
            "description_tooltip": null,
            "layout": "IPY_MODEL_2617e04ce58444bdab658daed4b0f173",
            "max": 241,
            "min": 0,
            "orientation": "horizontal",
            "style": "IPY_MODEL_8ec949f0850245259719e7439104474c",
            "value": 241
          }
        },
        "409a76bcf12d4d35958ebaf1e478f2a1": {
          "model_module": "@jupyter-widgets/controls",
          "model_name": "HTMLModel",
          "model_module_version": "1.5.0",
          "state": {
            "_dom_classes": [],
            "_model_module": "@jupyter-widgets/controls",
            "_model_module_version": "1.5.0",
            "_model_name": "HTMLModel",
            "_view_count": null,
            "_view_module": "@jupyter-widgets/controls",
            "_view_module_version": "1.5.0",
            "_view_name": "HTMLView",
            "description": "",
            "description_tooltip": null,
            "layout": "IPY_MODEL_be1b1de9c0c14526895495fe69486419",
            "placeholder": "​",
            "style": "IPY_MODEL_620036f1572349bc8d03124572473f19",
            "value": " 241/241 [00:00&lt;00:00, 1168.31 examples/s]"
          }
        },
        "54e96f81b15449c4b1bd4dd6e6cd0a45": {
          "model_module": "@jupyter-widgets/base",
          "model_name": "LayoutModel",
          "model_module_version": "1.2.0",
          "state": {
            "_model_module": "@jupyter-widgets/base",
            "_model_module_version": "1.2.0",
            "_model_name": "LayoutModel",
            "_view_count": null,
            "_view_module": "@jupyter-widgets/base",
            "_view_module_version": "1.2.0",
            "_view_name": "LayoutView",
            "align_content": null,
            "align_items": null,
            "align_self": null,
            "border": null,
            "bottom": null,
            "display": null,
            "flex": null,
            "flex_flow": null,
            "grid_area": null,
            "grid_auto_columns": null,
            "grid_auto_flow": null,
            "grid_auto_rows": null,
            "grid_column": null,
            "grid_gap": null,
            "grid_row": null,
            "grid_template_areas": null,
            "grid_template_columns": null,
            "grid_template_rows": null,
            "height": null,
            "justify_content": null,
            "justify_items": null,
            "left": null,
            "margin": null,
            "max_height": null,
            "max_width": null,
            "min_height": null,
            "min_width": null,
            "object_fit": null,
            "object_position": null,
            "order": null,
            "overflow": null,
            "overflow_x": null,
            "overflow_y": null,
            "padding": null,
            "right": null,
            "top": null,
            "visibility": null,
            "width": null
          }
        },
        "7602405d092647418501fe9cb6baed3f": {
          "model_module": "@jupyter-widgets/base",
          "model_name": "LayoutModel",
          "model_module_version": "1.2.0",
          "state": {
            "_model_module": "@jupyter-widgets/base",
            "_model_module_version": "1.2.0",
            "_model_name": "LayoutModel",
            "_view_count": null,
            "_view_module": "@jupyter-widgets/base",
            "_view_module_version": "1.2.0",
            "_view_name": "LayoutView",
            "align_content": null,
            "align_items": null,
            "align_self": null,
            "border": null,
            "bottom": null,
            "display": null,
            "flex": null,
            "flex_flow": null,
            "grid_area": null,
            "grid_auto_columns": null,
            "grid_auto_flow": null,
            "grid_auto_rows": null,
            "grid_column": null,
            "grid_gap": null,
            "grid_row": null,
            "grid_template_areas": null,
            "grid_template_columns": null,
            "grid_template_rows": null,
            "height": null,
            "justify_content": null,
            "justify_items": null,
            "left": null,
            "margin": null,
            "max_height": null,
            "max_width": null,
            "min_height": null,
            "min_width": null,
            "object_fit": null,
            "object_position": null,
            "order": null,
            "overflow": null,
            "overflow_x": null,
            "overflow_y": null,
            "padding": null,
            "right": null,
            "top": null,
            "visibility": null,
            "width": null
          }
        },
        "a24ce338029148bfb55242c77527df5f": {
          "model_module": "@jupyter-widgets/controls",
          "model_name": "DescriptionStyleModel",
          "model_module_version": "1.5.0",
          "state": {
            "_model_module": "@jupyter-widgets/controls",
            "_model_module_version": "1.5.0",
            "_model_name": "DescriptionStyleModel",
            "_view_count": null,
            "_view_module": "@jupyter-widgets/base",
            "_view_module_version": "1.2.0",
            "_view_name": "StyleView",
            "description_width": ""
          }
        },
        "2617e04ce58444bdab658daed4b0f173": {
          "model_module": "@jupyter-widgets/base",
          "model_name": "LayoutModel",
          "model_module_version": "1.2.0",
          "state": {
            "_model_module": "@jupyter-widgets/base",
            "_model_module_version": "1.2.0",
            "_model_name": "LayoutModel",
            "_view_count": null,
            "_view_module": "@jupyter-widgets/base",
            "_view_module_version": "1.2.0",
            "_view_name": "LayoutView",
            "align_content": null,
            "align_items": null,
            "align_self": null,
            "border": null,
            "bottom": null,
            "display": null,
            "flex": null,
            "flex_flow": null,
            "grid_area": null,
            "grid_auto_columns": null,
            "grid_auto_flow": null,
            "grid_auto_rows": null,
            "grid_column": null,
            "grid_gap": null,
            "grid_row": null,
            "grid_template_areas": null,
            "grid_template_columns": null,
            "grid_template_rows": null,
            "height": null,
            "justify_content": null,
            "justify_items": null,
            "left": null,
            "margin": null,
            "max_height": null,
            "max_width": null,
            "min_height": null,
            "min_width": null,
            "object_fit": null,
            "object_position": null,
            "order": null,
            "overflow": null,
            "overflow_x": null,
            "overflow_y": null,
            "padding": null,
            "right": null,
            "top": null,
            "visibility": null,
            "width": null
          }
        },
        "8ec949f0850245259719e7439104474c": {
          "model_module": "@jupyter-widgets/controls",
          "model_name": "ProgressStyleModel",
          "model_module_version": "1.5.0",
          "state": {
            "_model_module": "@jupyter-widgets/controls",
            "_model_module_version": "1.5.0",
            "_model_name": "ProgressStyleModel",
            "_view_count": null,
            "_view_module": "@jupyter-widgets/base",
            "_view_module_version": "1.2.0",
            "_view_name": "StyleView",
            "bar_color": null,
            "description_width": ""
          }
        },
        "be1b1de9c0c14526895495fe69486419": {
          "model_module": "@jupyter-widgets/base",
          "model_name": "LayoutModel",
          "model_module_version": "1.2.0",
          "state": {
            "_model_module": "@jupyter-widgets/base",
            "_model_module_version": "1.2.0",
            "_model_name": "LayoutModel",
            "_view_count": null,
            "_view_module": "@jupyter-widgets/base",
            "_view_module_version": "1.2.0",
            "_view_name": "LayoutView",
            "align_content": null,
            "align_items": null,
            "align_self": null,
            "border": null,
            "bottom": null,
            "display": null,
            "flex": null,
            "flex_flow": null,
            "grid_area": null,
            "grid_auto_columns": null,
            "grid_auto_flow": null,
            "grid_auto_rows": null,
            "grid_column": null,
            "grid_gap": null,
            "grid_row": null,
            "grid_template_areas": null,
            "grid_template_columns": null,
            "grid_template_rows": null,
            "height": null,
            "justify_content": null,
            "justify_items": null,
            "left": null,
            "margin": null,
            "max_height": null,
            "max_width": null,
            "min_height": null,
            "min_width": null,
            "object_fit": null,
            "object_position": null,
            "order": null,
            "overflow": null,
            "overflow_x": null,
            "overflow_y": null,
            "padding": null,
            "right": null,
            "top": null,
            "visibility": null,
            "width": null
          }
        },
        "620036f1572349bc8d03124572473f19": {
          "model_module": "@jupyter-widgets/controls",
          "model_name": "DescriptionStyleModel",
          "model_module_version": "1.5.0",
          "state": {
            "_model_module": "@jupyter-widgets/controls",
            "_model_module_version": "1.5.0",
            "_model_name": "DescriptionStyleModel",
            "_view_count": null,
            "_view_module": "@jupyter-widgets/base",
            "_view_module_version": "1.2.0",
            "_view_name": "StyleView",
            "description_width": ""
          }
        },
        "815cab717c844de0be3679e49df1e53e": {
          "model_module": "@jupyter-widgets/controls",
          "model_name": "HBoxModel",
          "model_module_version": "1.5.0",
          "state": {
            "_dom_classes": [],
            "_model_module": "@jupyter-widgets/controls",
            "_model_module_version": "1.5.0",
            "_model_name": "HBoxModel",
            "_view_count": null,
            "_view_module": "@jupyter-widgets/controls",
            "_view_module_version": "1.5.0",
            "_view_name": "HBoxView",
            "box_style": "",
            "children": [
              "IPY_MODEL_682563a4cc3547b7b656b1c0dcaa0509",
              "IPY_MODEL_5f6eec2fed0f4db5b79d71630f737f5c",
              "IPY_MODEL_cb66c9d8357d425fab959d0c29d9e845"
            ],
            "layout": "IPY_MODEL_6f08e8c0a36b43c387da7a99d5fa547f"
          }
        },
        "682563a4cc3547b7b656b1c0dcaa0509": {
          "model_module": "@jupyter-widgets/controls",
          "model_name": "HTMLModel",
          "model_module_version": "1.5.0",
          "state": {
            "_dom_classes": [],
            "_model_module": "@jupyter-widgets/controls",
            "_model_module_version": "1.5.0",
            "_model_name": "HTMLModel",
            "_view_count": null,
            "_view_module": "@jupyter-widgets/controls",
            "_view_module_version": "1.5.0",
            "_view_name": "HTMLView",
            "description": "",
            "description_tooltip": null,
            "layout": "IPY_MODEL_d60806125af74d50a16d9a2731c3409d",
            "placeholder": "​",
            "style": "IPY_MODEL_084e4f42f7694789a9842c07071023e4",
            "value": "Map: 100%"
          }
        },
        "5f6eec2fed0f4db5b79d71630f737f5c": {
          "model_module": "@jupyter-widgets/controls",
          "model_name": "FloatProgressModel",
          "model_module_version": "1.5.0",
          "state": {
            "_dom_classes": [],
            "_model_module": "@jupyter-widgets/controls",
            "_model_module_version": "1.5.0",
            "_model_name": "FloatProgressModel",
            "_view_count": null,
            "_view_module": "@jupyter-widgets/controls",
            "_view_module_version": "1.5.0",
            "_view_name": "ProgressView",
            "bar_style": "success",
            "description": "",
            "description_tooltip": null,
            "layout": "IPY_MODEL_f483baf36f5d46cb8dddb1e37bab8764",
            "max": 241,
            "min": 0,
            "orientation": "horizontal",
            "style": "IPY_MODEL_590c9fad0db04cb18ae5e9957a4a5468",
            "value": 241
          }
        },
        "cb66c9d8357d425fab959d0c29d9e845": {
          "model_module": "@jupyter-widgets/controls",
          "model_name": "HTMLModel",
          "model_module_version": "1.5.0",
          "state": {
            "_dom_classes": [],
            "_model_module": "@jupyter-widgets/controls",
            "_model_module_version": "1.5.0",
            "_model_name": "HTMLModel",
            "_view_count": null,
            "_view_module": "@jupyter-widgets/controls",
            "_view_module_version": "1.5.0",
            "_view_name": "HTMLView",
            "description": "",
            "description_tooltip": null,
            "layout": "IPY_MODEL_ad5dc1c38976482faa7cce7bcd7d0036",
            "placeholder": "​",
            "style": "IPY_MODEL_08400660a9a64359b5849de86197cc22",
            "value": " 241/241 [00:00&lt;00:00, 1173.25 examples/s]"
          }
        },
        "6f08e8c0a36b43c387da7a99d5fa547f": {
          "model_module": "@jupyter-widgets/base",
          "model_name": "LayoutModel",
          "model_module_version": "1.2.0",
          "state": {
            "_model_module": "@jupyter-widgets/base",
            "_model_module_version": "1.2.0",
            "_model_name": "LayoutModel",
            "_view_count": null,
            "_view_module": "@jupyter-widgets/base",
            "_view_module_version": "1.2.0",
            "_view_name": "LayoutView",
            "align_content": null,
            "align_items": null,
            "align_self": null,
            "border": null,
            "bottom": null,
            "display": null,
            "flex": null,
            "flex_flow": null,
            "grid_area": null,
            "grid_auto_columns": null,
            "grid_auto_flow": null,
            "grid_auto_rows": null,
            "grid_column": null,
            "grid_gap": null,
            "grid_row": null,
            "grid_template_areas": null,
            "grid_template_columns": null,
            "grid_template_rows": null,
            "height": null,
            "justify_content": null,
            "justify_items": null,
            "left": null,
            "margin": null,
            "max_height": null,
            "max_width": null,
            "min_height": null,
            "min_width": null,
            "object_fit": null,
            "object_position": null,
            "order": null,
            "overflow": null,
            "overflow_x": null,
            "overflow_y": null,
            "padding": null,
            "right": null,
            "top": null,
            "visibility": null,
            "width": null
          }
        },
        "d60806125af74d50a16d9a2731c3409d": {
          "model_module": "@jupyter-widgets/base",
          "model_name": "LayoutModel",
          "model_module_version": "1.2.0",
          "state": {
            "_model_module": "@jupyter-widgets/base",
            "_model_module_version": "1.2.0",
            "_model_name": "LayoutModel",
            "_view_count": null,
            "_view_module": "@jupyter-widgets/base",
            "_view_module_version": "1.2.0",
            "_view_name": "LayoutView",
            "align_content": null,
            "align_items": null,
            "align_self": null,
            "border": null,
            "bottom": null,
            "display": null,
            "flex": null,
            "flex_flow": null,
            "grid_area": null,
            "grid_auto_columns": null,
            "grid_auto_flow": null,
            "grid_auto_rows": null,
            "grid_column": null,
            "grid_gap": null,
            "grid_row": null,
            "grid_template_areas": null,
            "grid_template_columns": null,
            "grid_template_rows": null,
            "height": null,
            "justify_content": null,
            "justify_items": null,
            "left": null,
            "margin": null,
            "max_height": null,
            "max_width": null,
            "min_height": null,
            "min_width": null,
            "object_fit": null,
            "object_position": null,
            "order": null,
            "overflow": null,
            "overflow_x": null,
            "overflow_y": null,
            "padding": null,
            "right": null,
            "top": null,
            "visibility": null,
            "width": null
          }
        },
        "084e4f42f7694789a9842c07071023e4": {
          "model_module": "@jupyter-widgets/controls",
          "model_name": "DescriptionStyleModel",
          "model_module_version": "1.5.0",
          "state": {
            "_model_module": "@jupyter-widgets/controls",
            "_model_module_version": "1.5.0",
            "_model_name": "DescriptionStyleModel",
            "_view_count": null,
            "_view_module": "@jupyter-widgets/base",
            "_view_module_version": "1.2.0",
            "_view_name": "StyleView",
            "description_width": ""
          }
        },
        "f483baf36f5d46cb8dddb1e37bab8764": {
          "model_module": "@jupyter-widgets/base",
          "model_name": "LayoutModel",
          "model_module_version": "1.2.0",
          "state": {
            "_model_module": "@jupyter-widgets/base",
            "_model_module_version": "1.2.0",
            "_model_name": "LayoutModel",
            "_view_count": null,
            "_view_module": "@jupyter-widgets/base",
            "_view_module_version": "1.2.0",
            "_view_name": "LayoutView",
            "align_content": null,
            "align_items": null,
            "align_self": null,
            "border": null,
            "bottom": null,
            "display": null,
            "flex": null,
            "flex_flow": null,
            "grid_area": null,
            "grid_auto_columns": null,
            "grid_auto_flow": null,
            "grid_auto_rows": null,
            "grid_column": null,
            "grid_gap": null,
            "grid_row": null,
            "grid_template_areas": null,
            "grid_template_columns": null,
            "grid_template_rows": null,
            "height": null,
            "justify_content": null,
            "justify_items": null,
            "left": null,
            "margin": null,
            "max_height": null,
            "max_width": null,
            "min_height": null,
            "min_width": null,
            "object_fit": null,
            "object_position": null,
            "order": null,
            "overflow": null,
            "overflow_x": null,
            "overflow_y": null,
            "padding": null,
            "right": null,
            "top": null,
            "visibility": null,
            "width": null
          }
        },
        "590c9fad0db04cb18ae5e9957a4a5468": {
          "model_module": "@jupyter-widgets/controls",
          "model_name": "ProgressStyleModel",
          "model_module_version": "1.5.0",
          "state": {
            "_model_module": "@jupyter-widgets/controls",
            "_model_module_version": "1.5.0",
            "_model_name": "ProgressStyleModel",
            "_view_count": null,
            "_view_module": "@jupyter-widgets/base",
            "_view_module_version": "1.2.0",
            "_view_name": "StyleView",
            "bar_color": null,
            "description_width": ""
          }
        },
        "ad5dc1c38976482faa7cce7bcd7d0036": {
          "model_module": "@jupyter-widgets/base",
          "model_name": "LayoutModel",
          "model_module_version": "1.2.0",
          "state": {
            "_model_module": "@jupyter-widgets/base",
            "_model_module_version": "1.2.0",
            "_model_name": "LayoutModel",
            "_view_count": null,
            "_view_module": "@jupyter-widgets/base",
            "_view_module_version": "1.2.0",
            "_view_name": "LayoutView",
            "align_content": null,
            "align_items": null,
            "align_self": null,
            "border": null,
            "bottom": null,
            "display": null,
            "flex": null,
            "flex_flow": null,
            "grid_area": null,
            "grid_auto_columns": null,
            "grid_auto_flow": null,
            "grid_auto_rows": null,
            "grid_column": null,
            "grid_gap": null,
            "grid_row": null,
            "grid_template_areas": null,
            "grid_template_columns": null,
            "grid_template_rows": null,
            "height": null,
            "justify_content": null,
            "justify_items": null,
            "left": null,
            "margin": null,
            "max_height": null,
            "max_width": null,
            "min_height": null,
            "min_width": null,
            "object_fit": null,
            "object_position": null,
            "order": null,
            "overflow": null,
            "overflow_x": null,
            "overflow_y": null,
            "padding": null,
            "right": null,
            "top": null,
            "visibility": null,
            "width": null
          }
        },
        "08400660a9a64359b5849de86197cc22": {
          "model_module": "@jupyter-widgets/controls",
          "model_name": "DescriptionStyleModel",
          "model_module_version": "1.5.0",
          "state": {
            "_model_module": "@jupyter-widgets/controls",
            "_model_module_version": "1.5.0",
            "_model_name": "DescriptionStyleModel",
            "_view_count": null,
            "_view_module": "@jupyter-widgets/base",
            "_view_module_version": "1.2.0",
            "_view_name": "StyleView",
            "description_width": ""
          }
        }
      }
    }
  },
  "nbformat": 4,
  "nbformat_minor": 0
}